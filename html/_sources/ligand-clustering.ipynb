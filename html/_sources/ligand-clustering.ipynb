{
 "cells": [
  {
   "cell_type": "markdown",
   "id": "5e7080ec",
   "metadata": {},
   "source": [
    "# Ligand clustering process\n",
    "\n",
    "## Setup\n",
    "\n",
    "Add user's current working directory to search path:"
   ]
  },
  {
   "cell_type": "code",
   "execution_count": 1,
   "id": "410b4a5b",
   "metadata": {},
   "outputs": [],
   "source": [
    "import sys\n",
    "sys.path = [r\"C:\\sw\\plb\"] + sys.path"
   ]
  },
  {
   "cell_type": "markdown",
   "id": "ade6c087",
   "metadata": {},
   "source": [
    "Also change current working directory:"
   ]
  },
  {
   "cell_type": "code",
   "execution_count": 2,
   "id": "00774362",
   "metadata": {},
   "outputs": [],
   "source": [
    "import os\n",
    "os.chdir(r\"C:\\sw\\plb\")"
   ]
  },
  {
   "cell_type": "markdown",
   "id": "29173e08",
   "metadata": {},
   "source": [
    "Imports:"
   ]
  },
  {
   "cell_type": "code",
   "execution_count": 3,
   "id": "a38e68d9",
   "metadata": {},
   "outputs": [],
   "source": [
    "from collections import Counter\n",
    "from pathlib import Path\n",
    "\n",
    "import myst_nb\n",
    "\n",
    "from src.config import get_config\n",
    "from src.data_split.ligand_clustering_new import read_ligand_cluster_labels\n",
    "from src.data_structure_utils import read_tsv\n",
    "from src.stats_utils import (\n",
    "    get_stats_from_counter,\n",
    "    print_counter_stats_df,\n",
    ")"
   ]
  },
  {
   "cell_type": "markdown",
   "id": "68c0a879",
   "metadata": {},
   "source": [
    "Set up document options:"
   ]
  },
  {
   "cell_type": "code",
   "execution_count": 4,
   "id": "e72cde52",
   "metadata": {},
   "outputs": [
    {
     "data": {
      "application/javascript": [
       "if (typeof require !== 'undefined')\n",
       "    require.config({\n",
       "        paths: {\n",
       "            jquery: 'https://code.jquery.com/jquery-3.5.1.min',\n",
       "            datatables: 'https://cdn.datatables.net/1.11.3/js/jquery.dataTables.min',\n",
       "        }\n",
       "    });\n"
      ],
      "text/plain": [
       "<IPython.core.display.Javascript object>"
      ]
     },
     "metadata": {},
     "output_type": "display_data"
    }
   ],
   "source": [
    "# This import automatically sets seeds\n",
    "import src.set_seed\n",
    "\n",
    "# Nice pandas tables\n",
    "import itables\n",
    "itables.init_notebook_mode(all_interactive=True)\n",
    "itables.options.maxColumns = 0  # unlimited columns\n",
    "itables.options.maxBytes = 32000000\n",
    "itables.options.classes = [\"display\", \"nowrap\"]\n",
    "itables.options.order = [] # disable auto-sorting"
   ]
  },
  {
   "cell_type": "markdown",
   "id": "e7459a04",
   "metadata": {},
   "source": [
    "Get filepaths of data directories:"
   ]
  },
  {
   "cell_type": "code",
   "execution_count": 5,
   "id": "963b82ac",
   "metadata": {},
   "outputs": [],
   "source": [
    "config = get_config()\n",
    "dir_data = Path(config[\"data_directory\"])\n",
    "dir_features = Path(config[\"features_directory\"])"
   ]
  },
  {
   "cell_type": "markdown",
   "id": "6b14bc84",
   "metadata": {},
   "source": [
    "## Overview\n",
    "\n",
    "The general process I used for clustering the ligand SMILES is:\n",
    "\n",
    "- Get a combined list of all unique ligand SMILES present in the filtered BindingDB and BioLiP dataframes\n",
    "- Clustered using [sphere exclusion clustering](https://rdkit.blogspot.com/2020/11/sphere-exclusion-clustering-with-rdkit.html)\n",
    " with the following parameters:\n",
    "  - Ligand embedding was performed with ECFP4 fingerprints (i.e. Morgan fingerprint bit vectors with radius = 2)\n",
    "  - The distance metric was Jaccard distance\n",
    "  - The minimum distance between cluster centroids was 0.65\n",
    "\n",
    "\n",
    "## Cluster statistics\n",
    "\n",
    "Read the ligand cluster assignments file:"
   ]
  },
  {
   "cell_type": "code",
   "execution_count": 6,
   "id": "27fcca72",
   "metadata": {},
   "outputs": [],
   "source": [
    "df_ligand_clusters = read_ligand_cluster_labels(\n",
    "    ligand_clusters_tsv=dir_features / \"all_ligand_cluster_info.tsv\",\n",
    "    all_smiles_txt=dir_features / \"all_ligand_smiles_single.txt\",\n",
    ")"
   ]
  },
  {
   "cell_type": "markdown",
   "id": "587cb0c3",
   "metadata": {},
   "source": [
    "Print a sample of the clustering outputs:"
   ]
  },
  {
   "cell_type": "code",
   "execution_count": 7,
   "id": "185fab5b",
   "metadata": {},
   "outputs": [
    {
     "data": {
      "text/html": [
       "<table id=\"a81509a4-092d-47db-b303-e3445432ac7d\" class=\"display nowrap\"style=\"max-width:100%\"><thead><th></th><th>molecule_index</th><th>is_centroid</th><th>closest_centroid_index</th><th>distance_to_closest_centroid</th><th>ligand_rdkit_smiles</th></thead><tbody><tr><td>Loading... (need <a href=https://mwouts.github.io/itables/troubleshooting.html>help</a>?)</td></tr></tbody></table>\n",
       "<link rel=\"stylesheet\" type=\"text/css\" href=\"https://cdn.datatables.net/1.11.3/css/jquery.dataTables.min.css\">\n",
       "<style> table td {\n",
       "    text-overflow: ellipsis;\n",
       "    overflow: hidden;\n",
       "} </style>\n",
       "<style> table th {\n",
       "    text-overflow: ellipsis;\n",
       "    overflow: hidden;\n",
       "} </style>\n",
       "<script type=\"module\">\n",
       "    // Define the table data\n",
       "    const data = [[0, 0, true, 0, 0.0, \"B1C=CC=CN1\"], [1, 1, true, 1, 0.0, \"Bc1ccc([C@H](O)CCc2ccc(O)c(C(=O)O)c2)cc1\"], [2, 2, true, 2, 0.0, \"Br.Cc1ccc(C(=O)Cn2c3c(sc2=N)CCCC3)cc1\"], [3, 3, true, 3, 0.0, \"Br.N=C(N)NCCCCCCSC(=N)N\"], [4, 4, false, 3, 0.04, \"Br.N=C(N)NCCCCSC(=N)N\"], [5, 5, false, 3, 0.153846, \"Br.N=C(N)NCCCSC(=N)N\"], [6, 6, false, 3, 0.5, \"Br.N=C(N)NCCNC(=N)N\"], [7, 7, false, 3, 0.296296, \"Br.N=C(N)NCCSC(=N)N\"], [8, 8, false, 3, 0.5, \"Br.N=C(N)SCCSC(=N)N\"], [9, 9, true, 9, 0.0, \"Br.c1ccc2c(c1)CCN(CCCc1nc3ccccc3s1)C2\"], [10, 10, true, 10, 0.0, \"BrC1CCN(Cc2ccc(OCCCN3CCCCC3)cc2)CC1\"], [11, 11, true, 11, 0.0, \"BrCc1cccc(I)c1\"], [12, 12, true, 12, 0.0, \"Brc1c(Br)c(Br)c2c(Br)n[nH]c2c1Br\"], [13, 13, true, 13, 0.0, \"Brc1c(NC2=NCCN2)ccc2c1NCCN2\"], [14, 14, false, 15, 0.422222, \"Brc1c(NC2=NCCN2)ccc2nccnc12\"], [15, 15, true, 15, 0.0, \"Brc1c(NC2=NCCO2)ccc2nccnc12\"], [16, 16, false, 15, 0.434783, \"Brc1c(NC2=NCCS2)ccc2nccnc12\"], [17, 17, false, 15, 0.555556, \"Brc1c(NC2=N[C@@H]3CCCC[C@@H]3N2)ccc2nccnc12\"], [18, 18, false, 79, 0.487179, \"Brc1c(Nc2ncc[nH]2)ccc2nccnc12\"], [19, 19, true, 19, 0.0, \"Brc1c[nH]c(Br)c1Br\"], [20, 20, true, 20, 0.0, \"Brc1c[nH]cn1\"], [21, 21, false, 10, 0.456522, \"Brc1cc(CN2CCCCC2)cc(Br)c1OCCCN1CCCCC1\"], [22, 22, true, 22, 0.0, \"Brc1cc2[nH]nnc2nc1Br\"], [23, 23, false, 22, 0.5, \"Brc1cc2nn[nH]c2cc1Br\"], [24, 24, true, 24, 0.0, \"Brc1ccc(-c2csc(-c3cccnc3)n2)cn1\"], [25, 25, false, 24, 0.263158, \"Brc1ccc(-c2csc(-c3ccncc3)n2)cn1\"], [26, 26, false, 24, 0.25641, \"Brc1ccc(-c2nc(-c3cccnc3)cs2)cc1\"], [27, 27, true, 27, 0.0, \"Brc1ccc(-c2nc3ccccn3c2NC2CCCCC2)cc1\"], [28, 28, true, 28, 0.0, \"Brc1ccc(-c2nn(-c3ccccc3)cc2-c2nc3ccccc3[nH]2)cc1\"], [29, 29, true, 29, 0.0, \"Brc1ccc(-n2ccnc2)cc1\"]];\n",
       "\n",
       "    if (typeof require === 'undefined') {\n",
       "        // TODO: This should become the default (use a simple import)\n",
       "        // when the ESM version works independently of whether\n",
       "        // require.js is there or not, see\n",
       "        // https://datatables.net/forums/discussion/69066/esm-es6-module-support?\n",
       "        const {default: $} = await import(\"https://esm.sh/jquery@3.5.0\");\n",
       "        const {default: initDataTables} = await import(\"https://esm.sh/datatables.net@1.11.3?deps=jquery@3.5.0\");\n",
       "\n",
       "        initDataTables();\n",
       "\n",
       "        // Define the dt_args\n",
       "        let dt_args = {\"columnDefs\": [{\"width\": \"70px\", \"targets\": \"_all\"}], \"order\": []};\n",
       "        dt_args[\"data\"] = data;\n",
       "\n",
       "        // Display the table\n",
       "        $(document).ready(function () {\n",
       "            $('#a81509a4-092d-47db-b303-e3445432ac7d').DataTable(dt_args);\n",
       "        });\n",
       "    } else {\n",
       "        require([\"jquery\", \"datatables\"], ($, datatables) => {\n",
       "                // Define the dt_args\n",
       "                let dt_args = {\"columnDefs\": [{\"width\": \"70px\", \"targets\": \"_all\"}], \"order\": []};\n",
       "                dt_args[\"data\"] = data;\n",
       "\n",
       "                // Display the table\n",
       "                $(document).ready(function () {\n",
       "                    $('#a81509a4-092d-47db-b303-e3445432ac7d').DataTable(dt_args);\n",
       "                });\n",
       "            }\n",
       "        )\n",
       "    }\n",
       "</script>\n"
      ],
      "text/plain": [
       "<IPython.core.display.HTML object>"
      ]
     },
     "metadata": {},
     "output_type": "display_data"
    }
   ],
   "source": [
    "itables.show(df_ligand_clusters.head(30))"
   ]
  },
  {
   "cell_type": "markdown",
   "id": "74a3dfc2",
   "metadata": {},
   "source": [
    "Generate some statistics from the clustering outputs:"
   ]
  },
  {
   "cell_type": "code",
   "execution_count": 8,
   "id": "cadc20b8",
   "metadata": {},
   "outputs": [
    {
     "name": "stdout",
     "output_type": "stream",
     "text": [
      "Total number of entries: 67025\n",
      "Total number of unique entries: 7053\n",
      "Distribution of frequencies of individual entries, linear scale (left):\n",
      "Distribution of frequencies of individual entries, log scale (right):\n"
     ]
    },
    {
     "data": {
      "image/png": "[encoded data removed]",
      "text/plain": [
       "<Figure size 360x360 with 1 Axes>"
      ]
     },
     "metadata": {
      "filenames": {
       "image/png": "C:\\sw\\plb\\src\\notebooks\\dataset_overview\\_build\\jupyter_execute\\ligand-clustering_15_1.png"
      },
      "needs_background": "light"
     },
     "output_type": "display_data"
    },
    {
     "data": {
      "image/png": "[encoded data removed]",
      "text/plain": [
       "<Figure size 360x360 with 1 Axes>"
      ]
     },
     "metadata": {
      "filenames": {
       "image/png": "C:\\sw\\plb\\src\\notebooks\\dataset_overview\\_build\\jupyter_execute\\ligand-clustering_15_2.png"
      },
      "needs_background": "light"
     },
     "output_type": "display_data"
    }
   ],
   "source": [
    "ligand_cluster_stats = get_stats_from_counter(\n",
    "    Counter(df_ligand_clusters[\"closest_centroid_index\"]),\n",
    "    ntop=30,\n",
    "    nbins=40,\n",
    "    name_of_thing_being_counted=\"cluster_label\",\n",
    "    xaxis_name=\"number of unique ligand SMILES in the cluster\",\n",
    "    do_show=True,\n",
    ")"
   ]
  },
  {
   "cell_type": "markdown",
   "id": "cc137be6",
   "metadata": {},
   "source": [
    "The most commonly occurring clusters are:"
   ]
  },
  {
   "cell_type": "code",
   "execution_count": 9,
   "id": "1bc3265b",
   "metadata": {},
   "outputs": [
    {
     "data": {
      "text/html": [
       "<table id=\"bfbfe362-9337-450e-bdcd-b4c1b548580d\" class=\"display nowrap\"style=\"max-width:100%\"><thead><th>number_of_occurrences</th><th>cluster_label</th></thead><tbody><tr><td>Loading... (need <a href=https://mwouts.github.io/itables/troubleshooting.html>help</a>?)</td></tr></tbody></table>\n",
       "<link rel=\"stylesheet\" type=\"text/css\" href=\"https://cdn.datatables.net/1.11.3/css/jquery.dataTables.min.css\">\n",
       "<style> table td {\n",
       "    text-overflow: ellipsis;\n",
       "    overflow: hidden;\n",
       "} </style>\n",
       "<style> table th {\n",
       "    text-overflow: ellipsis;\n",
       "    overflow: hidden;\n",
       "} </style>\n",
       "<script type=\"module\">\n",
       "    // Define the table data\n",
       "    const data = [[425, 131], [391, 100], [263, 24204], [258, 3740], [247, 106], [241, 1400], [241, 10], [234, 1206], [230, 48070], [227, 757], [221, 875], [219, 2673], [219, 3195], [216, 1544], [211, 105], [200, 1777], [196, 242], [196, 13066], [186, 3532], [186, 2239], [185, 1069], [179, 1892], [172, 9898], [172, 1133], [158, 334], [157, 2040], [151, 1663], [144, 3211], [138, 761], [137, 15218]];\n",
       "\n",
       "    if (typeof require === 'undefined') {\n",
       "        // TODO: This should become the default (use a simple import)\n",
       "        // when the ESM version works independently of whether\n",
       "        // require.js is there or not, see\n",
       "        // https://datatables.net/forums/discussion/69066/esm-es6-module-support?\n",
       "        const {default: $} = await import(\"https://esm.sh/jquery@3.5.0\");\n",
       "        const {default: initDataTables} = await import(\"https://esm.sh/datatables.net@1.11.3?deps=jquery@3.5.0\");\n",
       "\n",
       "        initDataTables();\n",
       "\n",
       "        // Define the dt_args\n",
       "        let dt_args = {\"columnDefs\": [{\"width\": \"70px\", \"targets\": \"_all\"}], \"order\": []};\n",
       "        dt_args[\"data\"] = data;\n",
       "\n",
       "        // Display the table\n",
       "        $(document).ready(function () {\n",
       "            $('#bfbfe362-9337-450e-bdcd-b4c1b548580d').DataTable(dt_args);\n",
       "        });\n",
       "    } else {\n",
       "        require([\"jquery\", \"datatables\"], ($, datatables) => {\n",
       "                // Define the dt_args\n",
       "                let dt_args = {\"columnDefs\": [{\"width\": \"70px\", \"targets\": \"_all\"}], \"order\": []};\n",
       "                dt_args[\"data\"] = data;\n",
       "\n",
       "                // Display the table\n",
       "                $(document).ready(function () {\n",
       "                    $('#bfbfe362-9337-450e-bdcd-b4c1b548580d').DataTable(dt_args);\n",
       "                });\n",
       "            }\n",
       "        )\n",
       "    }\n",
       "</script>\n"
      ],
      "text/plain": [
       "<IPython.core.display.HTML object>"
      ]
     },
     "metadata": {},
     "output_type": "display_data"
    }
   ],
   "source": [
    "print_counter_stats_df(ligand_cluster_stats)"
   ]
  }
 ],
 "metadata": {
  "jupytext": {
   "cell_metadata_filter": "-all",
   "formats": "md:myst",
   "text_representation": {
    "extension": ".md",
    "format_name": "myst",
    "format_version": 0.13,
    "jupytext_version": "1.11.5"
   }
  },
  "kernelspec": {
   "display_name": "Python 3",
   "language": "python",
   "name": "python3"
  },
  "language_info": {
   "codemirror_mode": {
    "name": "ipython",
    "version": 3
   },
   "file_extension": ".py",
   "mimetype": "text/x-python",
   "name": "python",
   "nbconvert_exporter": "python",
   "pygments_lexer": "ipython3",
   "version": "3.9.7"
  },
  "source_map": [
   14,
   21,
   24,
   27,
   30,
   33,
   46,
   49,
   60,
   63,
   67,
   84,
   89,
   92,
   94,
   97,
   106,
   109
  ]
 },
 "nbformat": 4,
 "nbformat_minor": 5
}
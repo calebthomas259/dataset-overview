{
 "cells": [
  {
   "cell_type": "markdown",
   "id": "c215773f",
   "metadata": {},
   "source": [
    "# Protein clustering process\n",
    "\n",
    "## Setup\n",
    "\n",
    "Add user's current working directory to search path:"
   ]
  },
  {
   "cell_type": "code",
   "execution_count": 1,
   "id": "03f5a8f1",
   "metadata": {},
   "outputs": [],
   "source": [
    "import sys\n",
    "sys.path = [r\"C:\\sw\\plb\"] + sys.path"
   ]
  },
  {
   "cell_type": "markdown",
   "id": "d654b929",
   "metadata": {},
   "source": [
    "Also change current working directory:"
   ]
  },
  {
   "cell_type": "code",
   "execution_count": 2,
   "id": "7ca362fd",
   "metadata": {},
   "outputs": [],
   "source": [
    "import os\n",
    "os.chdir(r\"C:\\sw\\plb\")"
   ]
  },
  {
   "cell_type": "markdown",
   "id": "36abf7fb",
   "metadata": {},
   "source": [
    "Imports:"
   ]
  },
  {
   "cell_type": "code",
   "execution_count": 3,
   "id": "5d568180",
   "metadata": {},
   "outputs": [],
   "source": [
    "from collections import Counter\n",
    "from pathlib import Path\n",
    "\n",
    "import myst_nb\n",
    "\n",
    "from src.config import get_config\n",
    "from src.data_split.protein_clustering import read_protein_cluster_labels\n",
    "from src.data_structure_utils import read_tsv\n",
    "from src.stats_utils import (\n",
    "    get_stats_from_counter,\n",
    "    print_counter_stats_df,\n",
    ")"
   ]
  },
  {
   "cell_type": "markdown",
   "id": "242ac5b0",
   "metadata": {},
   "source": [
    "Set up document options:"
   ]
  },
  {
   "cell_type": "code",
   "execution_count": 4,
   "id": "3b3c1433",
   "metadata": {},
   "outputs": [
    {
     "data": {
      "application/javascript": [
       "if (typeof require !== 'undefined')\n",
       "    require.config({\n",
       "        paths: {\n",
       "            jquery: 'https://code.jquery.com/jquery-3.5.1.min',\n",
       "            datatables: 'https://cdn.datatables.net/1.11.3/js/jquery.dataTables.min',\n",
       "        }\n",
       "    });\n"
      ],
      "text/plain": [
       "<IPython.core.display.Javascript object>"
      ]
     },
     "metadata": {},
     "output_type": "display_data"
    }
   ],
   "source": [
    "# This import automatically sets seeds\n",
    "import src.set_seed\n",
    "\n",
    "# Nice pandas tables\n",
    "import itables\n",
    "itables.init_notebook_mode(all_interactive=True)\n",
    "itables.options.maxColumns = 0  # unlimited columns\n",
    "itables.options.maxBytes = 32000000\n",
    "itables.options.classes = [\"display\", \"nowrap\"]\n",
    "itables.options.order = [] # disable auto-sorting"
   ]
  },
  {
   "cell_type": "markdown",
   "id": "ef5156d1",
   "metadata": {},
   "source": [
    "Get filepaths of data directories:"
   ]
  },
  {
   "cell_type": "code",
   "execution_count": 5,
   "id": "bd2afdaa",
   "metadata": {},
   "outputs": [],
   "source": [
    "config = get_config()\n",
    "dir_data = Path(config[\"data_directory\"])\n",
    "dir_features = Path(config[\"features_directory\"])"
   ]
  },
  {
   "cell_type": "markdown",
   "id": "ad0d93a1",
   "metadata": {},
   "source": [
    "## Overview\n",
    "\n",
    "The general process I used for clustering the protein sequences is:\n",
    "\n",
    "- Get a combined list of all unique protein sequences present in the filtered\n",
    "  BindingDB and BioLiP dataframes\n",
    "- Cluster the sequences using [mmseqs cluster](https://github.com/soedinglab/MMseqs2)\n",
    "  with a sequence identity threshold of >10% (otherwise, I used default options)\n",
    "\n",
    "\n",
    "## Cluster statistics\n",
    "\n",
    "Read the protein cluster assignments file:"
   ]
  },
  {
   "cell_type": "code",
   "execution_count": 6,
   "id": "b664237b",
   "metadata": {},
   "outputs": [],
   "source": [
    "df_protein_clusters = read_protein_cluster_labels(\n",
    "    proteins_fasta=dir_features / \"all_proteins_single.fasta\",\n",
    "    clusters_tsv=dir_features / \"all_proteins_single_mmseqs_db_seqid_0.1/clusters.tsv\",\n",
    ")"
   ]
  },
  {
   "cell_type": "markdown",
   "id": "1bffc764",
   "metadata": {},
   "source": [
    "Print a sample of the clustering outputs:"
   ]
  },
  {
   "cell_type": "code",
   "execution_count": 7,
   "id": "58d8dd5e",
   "metadata": {},
   "outputs": [
    {
     "data": {
      "text/html": [
       "<table id=\"ea0ed983-2169-473a-8a06-4bc25b97ff5b\" class=\"display nowrap\"style=\"max-width:100%\"><thead><th>cluster</th><th>protein_id</th><th>chain_sequence</th><th>is_representative_seq</th></thead><tbody><tr><td>Loading... (need <a href=https://mwouts.github.io/itables/troubleshooting.html>help</a>?)</td></tr></tbody></table>\n",
       "<link rel=\"stylesheet\" type=\"text/css\" href=\"https://cdn.datatables.net/1.11.3/css/jquery.dataTables.min.css\">\n",
       "<style> table td {\n",
       "    text-overflow: ellipsis;\n",
       "    overflow: hidden;\n",
       "} </style>\n",
       "<style> table th {\n",
       "    text-overflow: ellipsis;\n",
       "    overflow: hidden;\n",
       "} </style>\n",
       "<script type=\"module\">\n",
       "    // Define the table data\n",
       "    const data = [[\"2275\", \"2275\", \"EKYQNLLVVIDPNQDDQPALRRAVYIVQRNGGRIKAFLPVYDLSYDMTTLLSPDERNAMRKGVINQKTAWIKQQARYYLEAGIQIDIKVIWHNRPYEAIIEEVITDKHDLLIKMAHQHDKLGSLIFTPLDWQLLRKCPAPVWMVKDKEWPEYGTIVVAANLSNEESYHDALNLKLIELTNDLSHRIQKDPDVHLLSAYPVAPINIAIELPDFDPNLYNNALRGQHLIAMKELRQKFSIPEEKTHVKEGLPEQVIPQVCEELNAGIVVLGILGRTGAAFLGNTAEQLIDHIKCDLLAIKPDGFTCPITV\", true], [\"2275\", \"6390\", \"MAMYQNMLVVIDPNQDDQPALRRAVYLHQRIGGKIKAFLPIYDFSYEMTTLLSPDERTAMRQGVISQRTAWIREQAKYYLEAGVPIEIKVVWHNRPFEAIIQEVIAGSHDLVLKMAHQADRLEAVIFTPTDWHLLRKCPSPVWMVKDQPWPEGGKALVAVNLASEEPYHNALNEKLVKETLQLAEQVNHTEVHLVGAYPVTPINIAIELPEFDPSVYNDAIRGQHLLAMKALRQKFSIDEKVTHVEKGLPEEVIPDLAEHLQAGIVVLGTVGRTGLSAAFLGNTAEQVIDHLRCDLLVIKPDEYQTPVELD\", false], [\"2403\", \"2403\", \"EPARVRCSHLLVKHSQSRRPSSWRQEQITRTQEEALELINGYIQKIKSGEEDFESLASQFSDCSSAKARGDLGAFSRGQMQKPFEDASFALRTGEMSGPVFTDSGIHIILRTE\", true], [\"2403\", \"3271\", \"GEPARVRCSHLLVKHSQSRRPSSWRQEKITRTKEEALELINGYIQKIKSGEEDFESLASQFSDCSSAKARGDLGAFSRGQMQKPFEDASFALRTGEMSGPVFTDSGIHIILRTE\", false], [\"2595\", \"2595\", \"ESFMTKQDTTGKIISIDTSSLRAAGRTGWEDLVRKCIYAFFQPQGREPSYARQLFQEVMTRGTASSPSYRFILNDGTMLSAHTRCKLCYPFIMGIHIIDR\", true], [\"2595\", \"13445\", \"VESFMTKQDTTGKIISIDTSSLRAAGRTGWEDLVRKCIYAFFQPQGREPSYARQLFQEVMTRGTASSPSYRFILNDGTMLSAHTRCKLCYPMQPFIMGIHIIDRE\", false], [\"2659\", \"2659\", \"ETVQDCENKLPPSLKSRLCEIRRYEIIEGPEMDKHIHCVMRALDFVYEDGRGDYHKLYDPLNIIELDKRHDVNLEKCIGECVQVPTSERAHVFYKCLLKSTTGRTFKKVFDLMELKKAGKVPQHQRYTAEFVQIMKDYDKALNC\", true], [\"2659\", \"7092\", \"METVQDCENKLPPSLKSRLCEIRRYEIIEGPEMDKHIHCVMRALDFVYEDGRGDYHKLYDPLNIIELDKRHDVNLEKCIGECVQVPTSERAHVFYKCLLKSTTGRTFKKVFDLMELKKAGKVPQHQRYTAEFVQIMKDYDKALNC\", false], [\"2691\", \"2691\", \"EVLEVKTGVDSITEVECFLTPEMGDPDEHLRGFSKSISISDTFESDSPNRDMLPCYSVARIPLPNLILMWEAVTLKTEVIGVTSLMNVHSNGQATHDNGAGKPVQGTSFHFFSVGGEALELQGVLFNYRTKYPDGTIFPKNATVQSQVMNTEHKAYLDKNKAYPVECWVPDPTRNENTRYFGTLTGGENVPPVLHITNTATTVLLDEFGVGPLCKGDNLYLSAVDVCGMFTNRSGFQQWRGLSRYFKVQLRKRRVK\", true], [\"2723\", \"2723\", \"EVVKFMDVYQRSYCHPIETLVDIFQEYPDEIEYIFKPSCVPLMRCGGCCNDEGLECVPTEESNITMQIMRIKPHQGQHIGEMSFLQHNKCECRPK\", true], [\"2723\", \"10089\", \"PTFYDIETLKVIDEEWQRTQCSPRETAVEVASELGKSTNTFFKPPCVNVFRCGGCCNEESLICMNTSTSYISKQLFEISVPLTSVPELVPVKVANHTGCKCLPT\", false], [\"2755\", \"2755\", \"EYQLVVNAVRKLQESGFYWSAVTGGEANLLLSAEPAGTFLIRDSSDQRHFFTLSVKTQSGTKNLRIQCEGGSFSLQSDPRSTQPVPRFDCVLKLVHHYMPPPGTPSFSLPPTEPSSEVPEQPPAQALPGSTPKRAYYIYSGGEKIPLVLSRPLSSN\", true], [\"2947\", \"2947\", \"FTGGDEYQKHFLPRDYLATYYSFDGSPSPEAEMLKFNLECLHKTFGPGGLQGDTLIDIGSGPTIYQVLAACDSFQDITLSDFTDRNREELEKWLKKEPGAYDWTPAVKFACELEGNSGRWEEKEEKLRAAVKRVLKCDVHLGNPLAPAVLPLADCVLTLLAMECACCSLDAYRAALCNLASLLKPGGHLVTTVTLRLPSYMVGKREFSCVALEKGEVEQAVLDAGFDIEQLLHSPQSYSVTNAANNGVCCIVARKKP\", true], [\"2947\", \"7488\", \"MKGGFTGGDEYQKHFLPRDYLATYYSFDGSPSPEAEMLKFNLECLHKTFGPGGLQGDTLIDIGSGPTIYQVLAACDSFQDITLSDFTDRNREELEKWLKKEPGAYDWTPAVKFACELEGNSGRWEEKEEKLRAAVKRVLKCDVHLGNPLAPAVLPLADCVLTLLAMECACCSLDAYRAALCNLASLLKPGGHLVTTVTLRLPSYMVGKREFSCVALEKEEVEQAVLDAGFDIEQLLHSPQSYSVTNAANNGVCFIVARKKPGP\", false], [\"2947\", \"11689\", \"SHFNPRDYLEKYYKFGSRHSAESQILKHLLKNLFKIFCLDGVKGDLLIDIGSGPTIYQLLSACESFKEIVVTDYSDQNLQELEKWLKKEPAAFDWSPVVTYVCDLEGNRVKGPEKEEKLRQAVKQVLKCDVTQSQPLGAVPLPPADCVLSTLCLDAACPDLPTYCRALRNLGSLLKPGGFLVIMDALKSSYYMIGEQKFSLPLGREAVEAAVKEAGYTIEWFEVIEGLFSLVARKL\", false], [\"2947\", \"7059\", \"MESGFTSKDTYLSHFNPRDYLEKYYKFGSRHSAESQILKHLLKNLFKIFCLDGVKGDLLIDIGSGPTIYQLLSACESFKEIVVTDYSDQNLQELEKWLKKEPEAFDWSPVVTYVCDLEGNRVKGPEKEEKLRQAVKQVLKCDVTQSQPLGAVPLPPADCVLSTLCLDAACPDLPTYCRALRNLGSLLKPGGFLVIMDALKSSYYMIGEQKFSSLPLGREAVEAAVKEAGYTIEWFEVISQSYSSTMANNEGLFSLVARKLSRPL\", false], [\"2947\", \"13367\", \"TYLSHFNPRDYLEKYYKFGSAESQILKHLLKNLFKIFCLDGVKGDLLIDIGSGPTIYQLLSACESFKEIVVTDYSDQNLQELEKWLKKEPAAFDWSPVVTYVCDLEGNRVKGPEKEEKLRQAVKQVLKCDVTQSQPLGAVPLPPADCVLSTLCLDAACPDLPTYCRALRNLGSLLKPGGFLVIMDALKSSYYMIGEQKFSSLPLGREAVEAAVKEAGYTIEWFEVISQSYSSTMANNEGLFSLVARKL\", false], [\"2947\", \"8399\", \"MSGADRSPNAGAAPDSAPGQAAVASAYQRFEPRAYLRNNYAPPRGDLCNPNGVGPWKLRCLAQTFATGEVSGRTLIDIGSGPTVYQLLSACSHFEDITMTDFLEVNRQELGRWLQEEPGAFNWSMYSQHACLIEGKGECWQDKERQLRARVKRVLPIDVHQPQPLGAGSPAPLPADALVSAFCLEAVSPDLASFQRALDHITTLLRPGGHLLLIGALEESWYLAGEARLTVVPVSEEEVREALVRSGYKVRDLRTYIMPAHLQTGVDDVKGVFFAWAQKVGL\", false], [\"2947\", \"8415\", \"MSGTDRSQAAGAVPDSDPGLAAVSSAYQRFEPRAYLRNNYAPPRGDLSCPDGVGPWKLRCLAQTFATGEVSGRTLIDIGSGPTIYQLLSACAHFEDITMTDFLEVNRQELRLWLREEPGAFDWSVYSQHVCLIEGKGESWQEKECQLRARVKRILPIDVHRPQPLGAGGLAPLPADALVSAFCLEAVSPDLASFQRALDHITTLLRPGGHLLLIGALEESWYLAGEARLAVVPVREEEVREALVRTATRCGICARTPMPAHLQTGVDDVKGIFFTRAQKKVGV\", false], [\"3299\", \"3299\", \"GFKGVGTYEIVPYQAPSLNLNAWEGKLEPGAVVRTYTRGDKPSDNAKWQVALVAGSGDSAEYLIINVHSGYFLTATKENHIVSTPQISPTDPSARWTIKPATTHQYEVFTINNKVSELGQLTVKDYSTHSGADVLSASAKTADNQKWYFDAK\", true], [\"3459\", \"3459\", \"GKEKSHINVVVIGHVDSGKSTTTGHLIYKCGGIDKRTIEKFEKEAAELGKGSFKYAWVLDKLKAERERGITIDIALWKFETPKYQVTVIDAPGHRDFIKNMITGTSQADCAILIIAGGVGEFEAGISKDGQTREHALLAFTLGVRQLIVAVNKMDSVKWDESRFQEIVKETSNFIKKVGYNPKTVPFVPISGWNGDNMIEATTNAPWYKGWEKETKAGVVKGKTLLEAIDAIEQPSRPTDKPLRLPLQDVYKIGGIGTVPVGRVETGVIKPGMVVTFAPAGVTTEVKSVEMHHEQLEQGVPGDNVGFNVKNVSVKEIRRGNVCGDAKNDPPKGCASFNATVIVLNHPGQISAGYSPVLDCHTAHIACRFDELLEKNDRRSGKKLEDHPKFLKSGDAALVKFVPSKPMCVEAFSEYPPLGRFAVRDMRQTVAVGVIKSVDKTGGGGGGGG\", true], [\"3459\", \"3458\", \"GKEKSHINVVVIGHVDSGKSTTTGHLIYKCGGIDKRTIEKFEKEAAELGKGSFKYAWVLDKLKAERERGITIDIALWKFETPKYQVTVIDAPGHRDFIKNMITGTSQADCAILIIAGGVGEFEAGISKDGQTREHALLAFTLGVRQLIVAVNKMDSVKWDESRFQEIVKETSNFIKKVGYNPKTVPFVPISGWNGDNMIEATTNAPWYKGWEKETKAGVVKGKTLLEAIDAIEQPSRPTDKPLRLPLQDVYKIGGIGTVPVGRVETGVIKPGMVVTFAPAGVTTEVKSVEMHHEQLEQGVPGDNVGFNVKNVSVKEIRRGNVCGDAKNDPPKGCASFNATVIVLNHPGQISAGYSPVLDCHTAHIACRFDELLEKNDRRSGKKLEDHPKFLKSGDAALVKFVPSKPMCVEAFSEYPPLGRFAVRDMRQTVAVGVIKSVDK\", false], [\"3459\", \"2258\", \"EKSHINVVVIGHVDSGKSTTTGHLIYKCGGIDKRTIEKFEKEAAELGKGSFKYAWVLDKLKAERERGITIDIALWKFETPKYQVTVIDAPGHRDFIKNMITGTSQADCAILIIAGGVGEFEAGISKDGQTREHALLAFTLGVRQLIVAVNKMDSVKWDESRFQEIVKETSNFIKKVGYNPKTVPFVPISGWNGDNMIEATTNAPWYKGWEKETKAGVVKGKTLLEAIDAIEQPSRPTDKPLRLPLQDVYKIGGIGTVPVGRVETGVIKPGMVVTFAPAGVTTEVKSVEMHHEQLEQGVPGDNVGFNVKNVSVKEIRRGNVCGDAKNDPPKGCASFNATVIVLNHPGQISAGYSPVLDCHTAHIACRFDELLEKNDRRSGKKLEDHPKFLKSGDAALVKFVPSKPMCVEAFSEYPPLGRFAVRDMRQTVAVGVIKSVDK\", false], [\"3459\", \"2259\", \"EKSHINVVVIGHVDSGKSTTTGHLIYKCGGIDKRTIEKFEKEAAELGKGSFKYAWVLDKLKAERERGITIDIALWKFETPKYQVTVIDAPGHRDFIKNMITGTSQADCAILIIAGGVGEFEAGISKDGQTREHALLAFTLGVRQLIVAVNKMDSVKWDESRFQEIVKETSNFIKKVGYNPKTVPFVPISGWNGDNMIEATTNAPWYKGWEKETKAGVVKGKTLLEAIDAIEQPSRPTDKPLRLPLQDVYKIGGIGTVPVGRVETGVIKPGMVVTFAPAGVTTEVKSVEMHHEQLEQGVPGDNVGFNVKNVSVKEIRRGNVCGDAKNDPPKGCASFNATVIVLNHPGQISAGYSPVLDCHTAHIACRFDELLEKNDRRSGKKLEDHPKFLKSGDAALVKFVPSKPMCVEAFSEYPPLGRFAVRDMRQTVAVGVIKSVDKTE\", false], [\"3459\", \"7205\", \"MGKEKTHINIVVIGHVDSGKSTTTGHLIYKCGGIDKRTIEKFEKEAAEMGKGSFKYAWVLDKLKAERERGITIDISLWKFETTKYYITIIDAPGHRDFIKNMITGTSQADCAVLIVAAGVGEFEAGISKNGQTREHALLAYTLGVKQLIVGVNKMDSTEPAYSEKRYDEIVKEVSAYIKKIGYNPATVPFVPISGWHGDNMLEPSPNMPWFKGWKVERKEGNASGVSLLEALDTILPPTRPTDKPLRLPLQDVYKIGGIGTVPVGRVETGILRPGMVVTFAPVNITTEVKSVEMHHEALSEALPGDNVGFNVKNVSVKDIRRGNVCGDSKSDPPQEAAQFTSQVIILNHPGQISAGYSPVIDCHTAHIACKFAELKEKIDRRSGKKLEDNPKSLKSGDAAIVEMVPGKPMCVESFSQYPPLGRFAVRDMRQTVAVGVIKNVEKKSGGAGKVTKSAQKAQKAGK\", false], [\"3459\", \"12808\", \"TEDATDLQNEVDQELLKDMYGKEHVNIVFIGHVDAGKSTLGGNILFLTGMVDKRTMEKIEREAKRAYFETEHRRFSLLDAPGASQADIGVLVISARRGEFEAGFERGGQTREHAVLARTQGINHLVVVINKMDEPSVQWSEERYKECVDKLSMFLRRVAGYNSKTDVKYMPVSAYTGQNVKDRVDSSVCPWYQGPSLLEYLDSMTHLERKVNAPFIMPIASKYKDLGTILEGKIEAGSIKKNSNVLVMPINQTLEVTAIYDEADEEISSSICGDQVRLRVRGDDSDVQTGYVLTSTKNPVHATTRFIAQIAILELPSILTTGYSCVMHIHTAVEEVSFAKLLHKLDKTNRKSKKPPMFATKGMKIIAELETQTPVCMERFEDYQYMGRFTLRDQGTTVAVGKVVKILD\", false], [\"3459\", \"12807\", \"TEDATDLQNEVDQELLKDMYGKEHVNIVFIGHVDAGKSTLGGNILFLTGMVDKRTMEKIEREAKERAYFETEHRRFSLLDAPGASQADIGVLVISARRGEFEAGFERGGQTREHAVLARTQGINHLVVVINKMDEPSVQWSEERYKECVDKLSMFLRRVAGYNSKTDVKYMPVSAYTGQNVKDRVDSSVCPWYQGPSLLEYLDSMTHLERKVNAPFIMPIASKYKDLGTILEGKIEAGSIKKNSNVLVMPINQTLEVTAIYDEADEEISSSICGDQVRLRVRGDDSDVQTGYVLTSTKNPVHATTRFIAQIAILELPSILTTGYSCVMHIHTAVEEVSFAKLLHKLDKTNRKSKKPPMFATKGMKIIAELETQTPVCMERFEDYQYMGRFTLRDQGTTVAVGKVVKILD\", false], [\"3459\", \"3338\", \"GGKDHVSLIFMGHVDAGKSTMGGNLLYLTGSVDKRTIEKYEREAKDAGRQGWYLSWVMDTNKEERNDGKTIEVGKAYFETEKRRYTILDAPGHKMYVSEMIGGASQADVGVLVISARKGEYETGFERGGQTREHALLAKTQGVNKMVVVVNKMDDPTVNWSKERYDQCVSNVSNFLRAIGYNIKTDVVFMPVSGYSGANLKDHVDPKECPWYTGPTLLEYLDTMNHVDRHINAPFMLPIAAKMKDLGTIVEGKIESGHIKKGQSTLLMPNKTAVEIQNIYNETENEVDMAMCGEQVKLRIKGVEEEDISPGFVLTSPKNPIKSVTKFVAQIAIVELKSIIAAGFSCVMHVHTAIEEVHIVKLLHKLEKGTNRKSKKPPAFAKKGMKVIAVLETEAPVCVETYQDYPQLGRFTLRDQGTTIAIGKIVKIAE\", false], [\"3459\", \"12956\", \"TKPHVNIGTIGHVDHGKTTLTAAITKVLAEKGQAEFKAYDQIDKAPEEKERGITISTAHVEYETENRHYAHVDCPGHADYVKNMITGAAQMDGAILVVSAADGPMPQTREHILLARQVGVPYIVVFLNKVDMVDDEELLELVEMEVRELLSSYDFPGDDIPIIKGSALKALEGDEEGEEAIMKLMDAVDSYIPEPERAIDKPFLMPIEDVFSIRGTVVTGRVERGIVKVGEEVEIVGIRDTQKTTCTGVEMFRKLLDEGQAGDNVGVLLRGTKREDVERGQVLAKPGSIKPHTKFKAEVYILTKEEGGRHTPFFNGYRPQFYFRTTDVTGVITLPEGVEMVMPGDNVTITVELIAPIAMEEGLRFAIREGGRTVGAGVVSEIIE\", false], [\"3459\", \"9068\", \"NKPHVNVGTIGHVDHGKTTLTAAIATICAKTYGGEAKDYSQIDSAPEEKARGITINTSHVEYDSPTRHYAHVDCPGHADYVKNMITGAAQMDGAILVCAATDGPMPQTREHILLSRQVGVPYIIVFLNKCDLVDDEELLELVEMEVRELLSTYDFPGDDTPVIRGSALAALNGEAGPYGEESVLALVAALDSYIPEPERAIDKAFLMPIEDVFSISGRGTVVTGRVEAGIIKVGEEVEIVGIKDTVKTTVTGVEMFRKLLDEGRAGENCGILLRGTKREEVQRGQVLAKPGTIKPHTKFDAEVYVLSKEEGGRHTPFLNGYRPQFYFRTTDVTGAIQLKEGVEMVMPGDNVEMSVELIHPIAMDPGLRFAIREGGRTVGAGVVAKVTA\", false]];\n",
       "\n",
       "    if (typeof require === 'undefined') {\n",
       "        // TODO: This should become the default (use a simple import)\n",
       "        // when the ESM version works independently of whether\n",
       "        // require.js is there or not, see\n",
       "        // https://datatables.net/forums/discussion/69066/esm-es6-module-support?\n",
       "        const {default: $} = await import(\"https://esm.sh/jquery@3.5.0\");\n",
       "        const {default: initDataTables} = await import(\"https://esm.sh/datatables.net@1.11.3?deps=jquery@3.5.0\");\n",
       "\n",
       "        initDataTables();\n",
       "\n",
       "        // Define the dt_args\n",
       "        let dt_args = {\"columnDefs\": [{\"width\": \"70px\", \"targets\": \"_all\"}], \"order\": []};\n",
       "        dt_args[\"data\"] = data;\n",
       "\n",
       "        // Display the table\n",
       "        $(document).ready(function () {\n",
       "            $('#ea0ed983-2169-473a-8a06-4bc25b97ff5b').DataTable(dt_args);\n",
       "        });\n",
       "    } else {\n",
       "        require([\"jquery\", \"datatables\"], ($, datatables) => {\n",
       "                // Define the dt_args\n",
       "                let dt_args = {\"columnDefs\": [{\"width\": \"70px\", \"targets\": \"_all\"}], \"order\": []};\n",
       "                dt_args[\"data\"] = data;\n",
       "\n",
       "                // Display the table\n",
       "                $(document).ready(function () {\n",
       "                    $('#ea0ed983-2169-473a-8a06-4bc25b97ff5b').DataTable(dt_args);\n",
       "                });\n",
       "            }\n",
       "        )\n",
       "    }\n",
       "</script>\n"
      ],
      "text/plain": [
       "<IPython.core.display.HTML object>"
      ]
     },
     "metadata": {},
     "output_type": "display_data"
    }
   ],
   "source": [
    "itables.show(df_protein_clusters.head(30))"
   ]
  },
  {
   "cell_type": "markdown",
   "id": "6fbd339d",
   "metadata": {},
   "source": [
    "Generate some statistics from the clustering outputs:"
   ]
  },
  {
   "cell_type": "code",
   "execution_count": 8,
   "id": "1067a469",
   "metadata": {},
   "outputs": [
    {
     "name": "stdout",
     "output_type": "stream",
     "text": [
      "Total number of entries: 14167\n",
      "Total number of unique entries: 3230\n",
      "Distribution of frequencies of individual entries, linear scale (left):\n",
      "Distribution of frequencies of individual entries, log scale (right):\n"
     ]
    },
    {
     "data": {
      "image/png": "[encoded data removed]",
      "text/plain": [
       "<Figure size 360x360 with 1 Axes>"
      ]
     },
     "metadata": {
      "filenames": {
       "image/png": "C:\\sw\\plb\\src\\notebooks\\dataset_overview\\_build\\jupyter_execute\\protein-clustering_15_1.png"
      },
      "needs_background": "light"
     },
     "output_type": "display_data"
    },
    {
     "data": {
      "image/png": "[encoded data removed]",
      "text/plain": [
       "<Figure size 360x360 with 1 Axes>"
      ]
     },
     "metadata": {
      "filenames": {
       "image/png": "C:\\sw\\plb\\src\\notebooks\\dataset_overview\\_build\\jupyter_execute\\protein-clustering_15_2.png"
      },
      "needs_background": "light"
     },
     "output_type": "display_data"
    }
   ],
   "source": [
    "protein_cluster_stats = get_stats_from_counter(\n",
    "    counts=Counter(df_protein_clusters[\"cluster\"]),\n",
    "    ntop=30,\n",
    "    nbins=40,\n",
    "    name_of_thing_being_counted=\"cluster_label\",\n",
    "    xaxis_name=\"number of unique aa sequences in the cluster\",\n",
    "    do_show=True,\n",
    ")"
   ]
  },
  {
   "cell_type": "markdown",
   "id": "da72a4cb",
   "metadata": {},
   "source": [
    "The most commonly occurring clusters are:"
   ]
  },
  {
   "cell_type": "code",
   "execution_count": 9,
   "id": "2261859b",
   "metadata": {},
   "outputs": [
    {
     "data": {
      "text/html": [
       "<table id=\"6de70b48-6a00-47e8-87e3-c35f2dd922ca\" class=\"display nowrap\"style=\"max-width:100%\"><thead><th>number_of_occurrences</th><th>cluster_label</th></thead><tbody><tr><td>Loading... (need <a href=https://mwouts.github.io/itables/troubleshooting.html>help</a>?)</td></tr></tbody></table>\n",
       "<link rel=\"stylesheet\" type=\"text/css\" href=\"https://cdn.datatables.net/1.11.3/css/jquery.dataTables.min.css\">\n",
       "<style> table td {\n",
       "    text-overflow: ellipsis;\n",
       "    overflow: hidden;\n",
       "} </style>\n",
       "<style> table th {\n",
       "    text-overflow: ellipsis;\n",
       "    overflow: hidden;\n",
       "} </style>\n",
       "<script type=\"module\">\n",
       "    // Define the table data\n",
       "    const data = [[949, \"509\"], [582, \"12068\"], [338, \"10470\"], [204, \"3283\"], [183, \"4076\"], [168, \"7843\"], [163, \"9634\"], [158, \"8379\"], [112, \"9316\"], [100, \"10720\"], [90, \"11438\"], [88, \"9402\"], [88, \"13590\"], [87, \"11986\"], [85, \"1046\"], [82, \"6000\"], [77, \"2587\"], [75, \"8768\"], [69, \"5272\"], [65, \"4427\"], [63, \"7987\"], [62, \"4497\"], [54, \"6432\"], [51, \"7361\"], [48, \"14055\"], [44, \"11584\"], [40, \"420\"], [40, \"6070\"], [40, \"6801\"], [38, \"12212\"]];\n",
       "\n",
       "    if (typeof require === 'undefined') {\n",
       "        // TODO: This should become the default (use a simple import)\n",
       "        // when the ESM version works independently of whether\n",
       "        // require.js is there or not, see\n",
       "        // https://datatables.net/forums/discussion/69066/esm-es6-module-support?\n",
       "        const {default: $} = await import(\"https://esm.sh/jquery@3.5.0\");\n",
       "        const {default: initDataTables} = await import(\"https://esm.sh/datatables.net@1.11.3?deps=jquery@3.5.0\");\n",
       "\n",
       "        initDataTables();\n",
       "\n",
       "        // Define the dt_args\n",
       "        let dt_args = {\"columnDefs\": [{\"width\": \"70px\", \"targets\": \"_all\"}], \"order\": []};\n",
       "        dt_args[\"data\"] = data;\n",
       "\n",
       "        // Display the table\n",
       "        $(document).ready(function () {\n",
       "            $('#6de70b48-6a00-47e8-87e3-c35f2dd922ca').DataTable(dt_args);\n",
       "        });\n",
       "    } else {\n",
       "        require([\"jquery\", \"datatables\"], ($, datatables) => {\n",
       "                // Define the dt_args\n",
       "                let dt_args = {\"columnDefs\": [{\"width\": \"70px\", \"targets\": \"_all\"}], \"order\": []};\n",
       "                dt_args[\"data\"] = data;\n",
       "\n",
       "                // Display the table\n",
       "                $(document).ready(function () {\n",
       "                    $('#6de70b48-6a00-47e8-87e3-c35f2dd922ca').DataTable(dt_args);\n",
       "                });\n",
       "            }\n",
       "        )\n",
       "    }\n",
       "</script>\n"
      ],
      "text/plain": [
       "<IPython.core.display.HTML object>"
      ]
     },
     "metadata": {},
     "output_type": "display_data"
    }
   ],
   "source": [
    "print_counter_stats_df(protein_cluster_stats)"
   ]
  }
 ],
 "metadata": {
  "jupytext": {
   "cell_metadata_filter": "-all",
   "formats": "md:myst",
   "text_representation": {
    "extension": ".md",
    "format_name": "myst",
    "format_version": 0.13,
    "jupytext_version": "1.11.5"
   }
  },
  "kernelspec": {
   "display_name": "Python 3",
   "language": "python",
   "name": "python3"
  },
  "language_info": {
   "codemirror_mode": {
    "name": "ipython",
    "version": 3
   },
   "file_extension": ".py",
   "mimetype": "text/x-python",
   "name": "python",
   "nbconvert_exporter": "python",
   "pygments_lexer": "ipython3",
   "version": "3.9.7"
  },
  "source_map": [
   14,
   21,
   24,
   27,
   30,
   33,
   46,
   49,
   60,
   63,
   67,
   82,
   87,
   90,
   92,
   95,
   104,
   107
  ]
 },
 "nbformat": 4,
 "nbformat_minor": 5
}
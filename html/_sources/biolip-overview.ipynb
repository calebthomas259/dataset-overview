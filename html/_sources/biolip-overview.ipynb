{
 "cells": [
  {
   "cell_type": "markdown",
   "id": "18dda13f",
   "metadata": {},
   "source": [
    "# BioLiP overview\n",
    "\n",
    "## Setup\n",
    "\n",
    "Add user's current working directory to search path:"
   ]
  },
  {
   "cell_type": "code",
   "execution_count": 1,
   "id": "aa640f89",
   "metadata": {},
   "outputs": [],
   "source": [
    "import sys\n",
    "sys.path = [r\"C:\\sw\\plb\"] + sys.path"
   ]
  },
  {
   "cell_type": "markdown",
   "id": "037f3454",
   "metadata": {},
   "source": [
    "Also change current working directory:"
   ]
  },
  {
   "cell_type": "code",
   "execution_count": 2,
   "id": "b3b5b9c6",
   "metadata": {},
   "outputs": [],
   "source": [
    "import os\n",
    "os.chdir(r\"C:\\sw\\plb\")"
   ]
  },
  {
   "cell_type": "markdown",
   "id": "3845ebf3",
   "metadata": {},
   "source": [
    "Imports:"
   ]
  },
  {
   "cell_type": "code",
   "execution_count": 3,
   "id": "7b373806",
   "metadata": {},
   "outputs": [],
   "source": [
    "from collections import Counter\n",
    "from pathlib import Path\n",
    "\n",
    "import myst_nb\n",
    "\n",
    "from src.config import get_config\n",
    "from src.data.biolip.io import read_biolip_index\n",
    "from src.data_structure_utils import read_tsv\n",
    "from src.stats_utils import (\n",
    "    get_stats_from_counter,\n",
    "    print_counter_stats_df,\n",
    "    print_raw_ligand_smiles_stats,\n",
    "    print_raw_protein_seq_stats,\n",
    ")"
   ]
  },
  {
   "cell_type": "markdown",
   "id": "fb0b9e20",
   "metadata": {},
   "source": [
    "Set up document options:"
   ]
  },
  {
   "cell_type": "code",
   "execution_count": 4,
   "id": "05da8550",
   "metadata": {},
   "outputs": [
    {
     "data": {
      "application/javascript": [
       "if (typeof require !== 'undefined')\n",
       "    require.config({\n",
       "        paths: {\n",
       "            jquery: 'https://code.jquery.com/jquery-3.5.1.min',\n",
       "            datatables: 'https://cdn.datatables.net/1.11.3/js/jquery.dataTables.min',\n",
       "        }\n",
       "    });\n"
      ],
      "text/plain": [
       "<IPython.core.display.Javascript object>"
      ]
     },
     "metadata": {},
     "output_type": "display_data"
    }
   ],
   "source": [
    "# This import automatically sets seeds\n",
    "import src.set_seed\n",
    "\n",
    "# Nice pandas tables\n",
    "import itables\n",
    "itables.init_notebook_mode(all_interactive=True)\n",
    "itables.options.maxColumns = 0  # unlimited columns\n",
    "itables.options.maxBytes = 32000000\n",
    "itables.options.classes = [\"display\", \"nowrap\"]\n",
    "itables.options.order = [] # disable auto-sorting"
   ]
  },
  {
   "cell_type": "markdown",
   "id": "590a3482",
   "metadata": {},
   "source": [
    "Get filepaths of data directories:"
   ]
  },
  {
   "cell_type": "code",
   "execution_count": 5,
   "id": "dba3f334",
   "metadata": {},
   "outputs": [],
   "source": [
    "config = get_config()\n",
    "dir_data = Path(config[\"data_directory\"])\n",
    "dir_features = Path(config[\"features_directory\"])"
   ]
  },
  {
   "cell_type": "markdown",
   "id": "67d112da",
   "metadata": {},
   "source": [
    "## Displaying some sample data\n",
    "\n",
    "BioLiP is a collection of joint protein-ligand structures determined from experiments.\n",
    "\n",
    "Load processed BioLiP dataframes:"
   ]
  },
  {
   "cell_type": "code",
   "execution_count": 6,
   "id": "10300f8a",
   "metadata": {},
   "outputs": [],
   "source": [
    "dfs_biolip = read_biolip_index(dir_data / \"biolip/filtered_index\")\n",
    "df_ann = dfs_biolip.ann\n",
    "df_prot = dfs_biolip.prot\n",
    "df_lig = dfs_biolip.lig"
   ]
  },
  {
   "cell_type": "markdown",
   "id": "12226037",
   "metadata": {},
   "source": [
    "Print a few sample rows from the annotations dataframe:"
   ]
  },
  {
   "cell_type": "code",
   "execution_count": 7,
   "id": "1b2b6a79",
   "metadata": {},
   "outputs": [
    {
     "data": {
      "text/html": [
       "<table id=\"f8259d2e-7156-479b-b115-4ef30f0d4dd9\" class=\"display nowrap\"style=\"max-width:100%\"><thead><th></th><th>pdb_id</th><th>pdb_chain</th><th>resolution_angstroms</th><th>binding_site_code</th><th>ligand_id</th><th>ligand_chain</th><th>ligand_serial_number</th><th>binding_site_residues</th><th>binding_site_residues_1</th><th>catalytic_site_residues</th><th>catalytic_site_residues_1</th><th>ec_number</th><th>go_terms</th><th>binding_affinity</th><th>binding_affinity_moad</th><th>binding_affinity_pdbbind</th><th>binding_affinity_bdb</th><th>uniprot_id</th><th>pubmed_id</th><th>chain_sequence</th><th>date</th><th>chain_length</th></thead><tbody><tr><td>Loading... (need <a href=https://mwouts.github.io/itables/troubleshooting.html>help</a>?)</td></tr></tbody></table>\n",
       "<link rel=\"stylesheet\" type=\"text/css\" href=\"https://cdn.datatables.net/1.11.3/css/jquery.dataTables.min.css\">\n",
       "<style> table td {\n",
       "    text-overflow: ellipsis;\n",
       "    overflow: hidden;\n",
       "} </style>\n",
       "<style> table th {\n",
       "    text-overflow: ellipsis;\n",
       "    overflow: hidden;\n",
       "} </style>\n",
       "<script type=\"module\">\n",
       "    // Define the table data\n",
       "    const data = [[201937, \"3rwj\", \"A\", \"2.70\", \"BS01\", \"III\", \"C\", \"1\", \"Y7 Y9 S24 E45 R65 R66 E69 T73 E76 N77 T80 Y84 I95 Y99 Y118 Y123 T143 K146 W147 Y152 R155 F156 Y159\", \"Y7 Y9 S24 E45 R65 R66 E69 T73 E76 N77 T80 Y84 I95 Y99 Y118 Y123 T143 K146 W147 Y152 R155 F156 Y159\", \"\", \"\", \"\", \"0006955,0016020,0019882,0042612\", \"\", \"\", \"\", \"\", \"Q9GJ77\", \"22084443\", \"GSHSMKYFYTSVSRPGRGEPRFISVGYVDDTQFVRFDSDAESPREEPRAPWVEQEGPEYWEEATRRAKEAAQTHRENLRTALRYYNQSEAGSHTIQKMYGCDLGPDGRLLRGYHQSAYDGKDYIALNGDLRSWTAADMAAQNTQRKWEGNRYAERFRAYLEGECLEWLRRYLENGKETLQRADPPKTHVTHHPVSDHEATLRCWALGFYPAEITLTWQRDGEEQTQDTEFVETRPGGDGTFQKWGAVVVPSGEEQRYTCHVQHEGLPEPLTLRWEP\", \"2013-03-06\", \"276\"], [228402, \"4eny\", \"A\", \"2.80\", \"BS01\", \"J19\", \"A\", \"1\", \"G45 S46 F49 G50 S51 V52 A65 K67 L120 E121 R122 V126 L174 I185 D186\", \"G9 S10 F12 G13 S14 V15 A28 K30 L76 E77 R78 V82 L130 I141 D142\", \"\", \"\", \"2.7.11.1\", \"0004672,0004674,0005524,0006468,0016772\", \"\", \"\", \"\", \"\", \"P11309\", \"22869110\", \"QYQVGPLLGSGFGSVYSGIRVSDNLPVAIKHVEKDRISDWGRVPMEVVLLKKVSSFSGVIRLLDWFERPDSFVLILERPEPVQDLFDFITERGALQEELARSFFWQVLEAVRHCHNCGVLHRDIKDENILIDLNRGELKLIDFGSGALLKDTVYTDFDGTRVYSPPEWIRYHRYHGRSAAVWSLGILLYDMVCGDIPFEHDEEIIRGQVFFRQRVSSECQHLIRWCLALRPSDRPTFEEIQNHPWMQDVLLPQETAEIHLH\", \"2013-03-06\", \"261\"], [139862, \"3axw\", \"A\", \"2.50\", \"BS01\", \"TID\", \"A\", \"1\", \"V66 K68 I95 F113 E114 V116 M163 I174 D175\", \"V65 K67 I94 F112 E113 V115 M162 I173 D174\", \"\", \"\", \"2.7.11.1\", \"0004672,0004674,0005524,0006468,0016772\", \"\", \"\", \"\", \"\", \"P68400\", \"22339433\", \"SGPVPSRARVYTDVNTHRPREYWDYESHVVEWGNQDDYQLVRKLGRGKYSEVFEAINITNNEKVVVKILKPVKKKKIKREIKILENLRGGPNIITLADIVKDPVSRTPALVFEHVNNTDFKQLYQTLTDYDIRFYMYEILKALDYCHSMGIMHRDVKPHNVMIDHEHRKLRLIDWGLAEFYHPGQEYNVRVASRYFKGPELLVDYQMYDYSLDMWSLGCMLASMIFRKEPFFHGHDNYDQLVRIAKVLGTEDLYDYIDKYNIELDPRFNDILGRHSRKRWERFVHSENQHLVSPEALDFLDKLLRYDHQSRLTAREAMEHPYFYTVVKD\", \"2013-03-06\", \"329\"]];\n",
       "\n",
       "    if (typeof require === 'undefined') {\n",
       "        // TODO: This should become the default (use a simple import)\n",
       "        // when the ESM version works independently of whether\n",
       "        // require.js is there or not, see\n",
       "        // https://datatables.net/forums/discussion/69066/esm-es6-module-support?\n",
       "        const {default: $} = await import(\"https://esm.sh/jquery@3.5.0\");\n",
       "        const {default: initDataTables} = await import(\"https://esm.sh/datatables.net@1.11.3?deps=jquery@3.5.0\");\n",
       "\n",
       "        initDataTables();\n",
       "\n",
       "        // Define the dt_args\n",
       "        let dt_args = {\"columnDefs\": [{\"width\": \"70px\", \"targets\": \"_all\"}], \"order\": [], \"paging\": false};\n",
       "        dt_args[\"data\"] = data;\n",
       "\n",
       "        // Display the table\n",
       "        $(document).ready(function () {\n",
       "            $('#f8259d2e-7156-479b-b115-4ef30f0d4dd9').DataTable(dt_args);\n",
       "        });\n",
       "    } else {\n",
       "        require([\"jquery\", \"datatables\"], ($, datatables) => {\n",
       "                // Define the dt_args\n",
       "                let dt_args = {\"columnDefs\": [{\"width\": \"70px\", \"targets\": \"_all\"}], \"order\": [], \"paging\": false};\n",
       "                dt_args[\"data\"] = data;\n",
       "\n",
       "                // Display the table\n",
       "                $(document).ready(function () {\n",
       "                    $('#f8259d2e-7156-479b-b115-4ef30f0d4dd9').DataTable(dt_args);\n",
       "                });\n",
       "            }\n",
       "        )\n",
       "    }\n",
       "</script>\n"
      ],
      "text/plain": [
       "<IPython.core.display.HTML object>"
      ]
     },
     "metadata": {},
     "output_type": "display_data"
    }
   ],
   "source": [
    "itables.show(df_ann.sample(3))"
   ]
  },
  {
   "cell_type": "markdown",
   "id": "477eee21",
   "metadata": {},
   "source": [
    "The annotations dataframe has these columns:"
   ]
  },
  {
   "cell_type": "code",
   "execution_count": 8,
   "id": "beec12fa",
   "metadata": {},
   "outputs": [
    {
     "data": {
      "text/html": [
       "<table id=\"7487eb40-4e51-4fd1-9817-87036b9dadc1\" class=\"display nowrap\"style=\"max-width:100%\"><thead><th>column_name</th></thead><tbody><tr><td>Loading... (need <a href=https://mwouts.github.io/itables/troubleshooting.html>help</a>?)</td></tr></tbody></table>\n",
       "<link rel=\"stylesheet\" type=\"text/css\" href=\"https://cdn.datatables.net/1.11.3/css/jquery.dataTables.min.css\">\n",
       "<style> table td {\n",
       "    text-overflow: ellipsis;\n",
       "    overflow: hidden;\n",
       "} </style>\n",
       "<style> table th {\n",
       "    text-overflow: ellipsis;\n",
       "    overflow: hidden;\n",
       "} </style>\n",
       "<script type=\"module\">\n",
       "    // Define the table data\n",
       "    const data = [[\"pdb_id\"], [\"pdb_chain\"], [\"resolution_angstroms\"], [\"binding_site_code\"], [\"ligand_id\"], [\"ligand_chain\"], [\"ligand_serial_number\"], [\"binding_site_residues\"], [\"binding_site_residues_1\"], [\"catalytic_site_residues\"], [\"catalytic_site_residues_1\"], [\"ec_number\"], [\"go_terms\"], [\"binding_affinity\"], [\"binding_affinity_moad\"], [\"binding_affinity_pdbbind\"], [\"binding_affinity_bdb\"], [\"uniprot_id\"], [\"pubmed_id\"], [\"chain_sequence\"], [\"date\"], [\"chain_length\"]];\n",
       "\n",
       "    if (typeof require === 'undefined') {\n",
       "        // TODO: This should become the default (use a simple import)\n",
       "        // when the ESM version works independently of whether\n",
       "        // require.js is there or not, see\n",
       "        // https://datatables.net/forums/discussion/69066/esm-es6-module-support?\n",
       "        const {default: $} = await import(\"https://esm.sh/jquery@3.5.0\");\n",
       "        const {default: initDataTables} = await import(\"https://esm.sh/datatables.net@1.11.3?deps=jquery@3.5.0\");\n",
       "\n",
       "        initDataTables();\n",
       "\n",
       "        // Define the dt_args\n",
       "        let dt_args = {\"columnDefs\": [{\"width\": \"70px\", \"targets\": \"_all\"}], \"order\": []};\n",
       "        dt_args[\"data\"] = data;\n",
       "\n",
       "        // Display the table\n",
       "        $(document).ready(function () {\n",
       "            $('#7487eb40-4e51-4fd1-9817-87036b9dadc1').DataTable(dt_args);\n",
       "        });\n",
       "    } else {\n",
       "        require([\"jquery\", \"datatables\"], ($, datatables) => {\n",
       "                // Define the dt_args\n",
       "                let dt_args = {\"columnDefs\": [{\"width\": \"70px\", \"targets\": \"_all\"}], \"order\": []};\n",
       "                dt_args[\"data\"] = data;\n",
       "\n",
       "                // Display the table\n",
       "                $(document).ready(function () {\n",
       "                    $('#7487eb40-4e51-4fd1-9817-87036b9dadc1').DataTable(dt_args);\n",
       "                });\n",
       "            }\n",
       "        )\n",
       "    }\n",
       "</script>\n"
      ],
      "text/plain": [
       "<IPython.core.display.HTML object>"
      ]
     },
     "metadata": {},
     "output_type": "display_data"
    }
   ],
   "source": [
    "itables.show(DataFrame({\"column_name\": df_ann.columns}))"
   ]
  },
  {
   "cell_type": "markdown",
   "id": "0a0811bf",
   "metadata": {},
   "source": [
    "Some of the important columns include:\n",
    "\n",
    "- `pdb_id`, this is the original PDB entry that the structure data comes from\n",
    "- `chain_sequence` is the protein's amino acid sequence\n",
    "\n",
    "\n",
    "## Filtering"
   ]
  },
  {
   "cell_type": "code",
   "execution_count": 9,
   "id": "de712b58",
   "metadata": {
    "tags": [
     "remove-cell"
    ]
   },
   "outputs": [],
   "source": [
    "# Get variables from config file for the following section\n",
    "\n",
    "# min_aa = config[\"protein_chain_min_aa_length\"]\n",
    "# myst_nb.glue(\"min_aa\", min_aa)\n",
    "\n",
    "# max_aa = config[\"protein_chain_max_aa_length\"]\n",
    "# myst_nb.glue(\"max_aa\", max_aa)\n",
    "\n",
    "# lig_allowed_el = config[\"ligand_allowed_elements\"]\n",
    "# myst_nb.glue(\"lig_allowed_el\", lig_allowed_el)\n",
    "\n",
    "# min_atoms = config[\"ligand_min_number_of_non_hydrogen_atoms_allowed\"]\n",
    "# myst_nb.glue(\"min_atoms\", min_atoms)\n",
    "\n",
    "# max_atoms = config[\"ligand_max_number_of_non_hydrogen_atoms_allowed\"]\n",
    "# myst_nb.glue(\"max_atoms\", max_atoms)"
   ]
  },
  {
   "cell_type": "markdown",
   "id": "717de267",
   "metadata": {},
   "source": [
    "The dataframe displayed above has been heavily filtered. The filtering steps I\n",
    "performed are:\n",
    "\n",
    "- Removed entries with missing PDB structures (not sure why some are missing, I'll investigate this later)\n",
    "- Filtered to keep only entries with protein chains satisfying {glue:}`min_aa` <\n",
    "  length < {glue:}`max_aa`\n",
    "- Removed entries with unusual amino acids (e.g. selenocysteine) or unknown\n",
    "  amino acids (`X` symbol)\n",
    "- Filtered out entries with unknown ligands (i.e. ligand definition not listed in the PDB Chemical Components Dictionary; I'm not sure why some are missing from here)\n",
    "- Filtered out entries with unsuitable ligand types (e.g. nucleic acids)\n",
    "- Filtered to keep only entries where the PDB file has the following elements:"
   ]
  },
  {
   "cell_type": "code",
   "execution_count": 10,
   "id": "d612f38e",
   "metadata": {
    "tags": [
     "remove-input"
    ]
   },
   "outputs": [
    {
     "data": {
      "text/plain": [
       "['H', 'B', 'C', 'N', 'O', 'F', 'P', 'S', 'Cl', 'Br', 'I']"
      ]
     },
     "execution_count": 10,
     "metadata": {},
     "output_type": "execute_result"
    }
   ],
   "source": [
    "config[\"ligand_allowed_elements\"]"
   ]
  },
  {
   "cell_type": "markdown",
   "id": "341f1227",
   "metadata": {},
   "source": [
    "- Filtered to keep only entries that have a single protein chain and single ligand present\n",
    "\n",
    "\n",
    "## Data statistics\n",
    "\n",
    "### Overall\n",
    "\n",
    "The total number of entries (after filtering) is:"
   ]
  },
  {
   "cell_type": "code",
   "execution_count": 11,
   "id": "83e96a8b",
   "metadata": {},
   "outputs": [
    {
     "data": {
      "text/plain": [
       "20220"
      ]
     },
     "execution_count": 11,
     "metadata": {},
     "output_type": "execute_result"
    }
   ],
   "source": [
    "len(df_ann)"
   ]
  },
  {
   "cell_type": "markdown",
   "id": "bf0e45f1",
   "metadata": {},
   "source": [
    "### Proteins\n",
    "\n",
    "Here are some statistics on the proteins present in BioLiP."
   ]
  },
  {
   "cell_type": "code",
   "execution_count": 12,
   "id": "a63d538c",
   "metadata": {
    "tags": [
     "remove-input"
    ]
   },
   "outputs": [
    {
     "name": "stdout",
     "output_type": "stream",
     "text": [
      "Total number of entries: 20220\n",
      "Total number of unique entries: 13226\n",
      "Distribution of frequencies of individual entries, linear scale (left):\n",
      "Distribution of frequencies of individual entries, log scale (right):\n"
     ]
    },
    {
     "data": {
      "image/png": "[encoded data removed]",
      "text/plain": [
       "<Figure size 360x360 with 1 Axes>"
      ]
     },
     "metadata": {
      "filenames": {
       "image/png": "C:\\sw\\plb\\src\\notebooks\\dataset_overview\\_build\\jupyter_execute\\biolip-overview_23_1.png"
      },
      "needs_background": "light"
     },
     "output_type": "display_data"
    },
    {
     "data": {
      "image/png": "[encoded data removed]",
      "text/plain": [
       "<Figure size 360x360 with 1 Axes>"
      ]
     },
     "metadata": {
      "filenames": {
       "image/png": "C:\\sw\\plb\\src\\notebooks\\dataset_overview\\_build\\jupyter_execute\\biolip-overview_23_2.png"
      },
      "needs_background": "light"
     },
     "output_type": "display_data"
    }
   ],
   "source": [
    "protein_stats = print_raw_protein_seq_stats(df_ann)"
   ]
  },
  {
   "cell_type": "markdown",
   "id": "3888e52f",
   "metadata": {},
   "source": [
    "The most commonly occurring entries are:"
   ]
  },
  {
   "cell_type": "code",
   "execution_count": 13,
   "id": "3f3f41e3",
   "metadata": {
    "tags": [
     "remove-input"
    ]
   },
   "outputs": [
    {
     "data": {
      "text/html": [
       "<table id=\"8be9fab3-606e-490b-ae66-39bb5663f7fb\" class=\"display nowrap\"style=\"max-width:100%\"><thead><th>number_of_occurrences</th><th>uniprot_id</th><th>protein_name</th><th>protein_aa_sequence</th></thead><tbody><tr><td>Loading... (need <a href=https://mwouts.github.io/itables/troubleshooting.html>help</a>?)</td></tr></tbody></table>\n",
       "<link rel=\"stylesheet\" type=\"text/css\" href=\"https://cdn.datatables.net/1.11.3/css/jquery.dataTables.min.css\">\n",
       "<style> table td {\n",
       "    text-overflow: ellipsis;\n",
       "    overflow: hidden;\n",
       "} </style>\n",
       "<style> table th {\n",
       "    text-overflow: ellipsis;\n",
       "    overflow: hidden;\n",
       "} </style>\n",
       "<script type=\"module\">\n",
       "    // Define the table data\n",
       "    const data = [[149, \"\", \"\", \"STGSATTTPIDSLDDAYITPVQIGTPAQTLNLDFDTGSSDLWVFSSETTASEVDGQTIYTPSKSTTAKLLSGATWSISYGDGSSSSGDVYTDTVSVGGLTVTGQAVESAKKVSSSFTEDSTIDGLLGLAFSTLNTVSPTQQKTFFDNAKASLDSPVFTADLGYHAPGTYNFGFIDTTAYTGSITYTAVSTKQGFWEWTSTGYAVGSGTFKSTSIDGIADTGTTLLYLPATVVSAYWAQVSGAKSSSSVGGYVFPCSATLPSFTFGVGSARIVIPGDYIDFGPISTGSSSCFGGIQSSAGIGINIFGDVALKAAFVVFNGATTPTLGFASK\"], [120, \"\", \"\", \"SMNPPPPETSNPNKPKRQTNQLQYLLRVVLKTLWKHQFAWPFQQPVDAVKLNLPDYYKIIKTPMDMGTIKKRLENNYYWNAQECIQDFNTMFTNCYIYNKPGDDIVLMAEALEKLFLQKINELPTEE\"], [119, \"\", \"\", \"SGFRKMAFPSGKVEGCMVQVTCGTTTLNGLWLDDVVYCPRHVICTSEDMLNPNYEDLLIRKSNHNFLVQAGNVQLRVIGHSMQNCVLKLKVDTANPKTPKYKFVRIQPGQTFSVLACYNGSPSGVYQCAMRPNFTIKGSFLNGSCGSVGFNIDYDCVSFCYMHHMELPTGVHAGTDLEGNFYGPFVDRQTAQAAGTDTTITVNVLAWLYAAVINGDRWFLNRFTTTLNDFNLVAMKYNYEPLTQDHVDILGPLSAQTGIAVLDMCASLKELLQNGMNGRTILGSALLEDEFTPFDVVRQCSGVT\"], [107, \"\", \"\", \"VNSFSGYLKLTDNVYIKNADIVEEAKKVKPTVVVNAANVYLKHGGGVAGALNKATNNAMQVESDDYIATNGPLKVGGSCVLSGHNLAKHCLHVVGPNVNKGEDIQLLKSAYENFNQHEVLLAPLLSAGIFGADPIHSLRVCVDTVRTNVYLAVFDKNLYDKLVSSFL\"], [73, \"\", \"\", \"QPEPDMITIFIGTWNMGNAPPPKKITSWFLSKGQGKTRDDSADYIPHDIYVIGTQEDPLSEKEWLEILKHSLQEITSVTFKTVAIHTLWNIRIVVLAKPEHENRISHICTDNVKTGIANTLGNKGAVGVSFMFNGTSLGFVNSHLTSGSEKKLRRNQNYMNILRFLALGDKKLSPFNITHRFTHLFWFGDLNYRVDLPTWEAETIIQKIKQQQYADLLSHDQLLTERREQKVFLHFEEEEITFAPTYRFERLTRDKYAYTKQKATGMKYNLPSWCDRVLWKSYPLVHVVCQSYGSTSDIMTSDHSPVFATFEAGVTSQFVSKNGPGTVDSQGQIEFLRCYATLKTKSQTKFYLEFHSSCLESFVKSQEGENEEGSEGELVVKFGETLPKLKPIISDPEYLLDQHILISIKSSDSDESYGEGCIALRLEATETQLPIYTPLTHHGELTGHFQGEIKLQTSQ\"], [69, \"\", \"\", \"SFSGYLKLTDNVYIKNADIVEEAKKVKPTVVVNAANVYLKHGGGVAGALNKATNNAMQVESDDYIATNGPLKVGGSCVLSGHNLAKHCLHVVGPNVNKGEDIQLLKSAYENFNQHEVLLAPLLSAGIFGADPIHSLRVCVDTVRTNVYLAVFDKNLYDKLVSSFL\"], [66, \"\", \"\", \"MENFQKVEKIGEGTYGVVYKARNKLTGEVVALKKIRTEGVPSTAIREISLLKELNHPNIVKLLDVIHTENKLYLVFEFLHQDLKKFMDASALTGIPLPLIKSYLFQLLQGLAFCHSHRVLHRDLKPQNLLINTEGAIKLADFGLARAFGVPVRTYTHEVVTLWYRAPEILLGCKYYSTAVDIWSLGCIFAEMVTRRALFPGDSEIDQLFRIFRTLGTPDEVVWPGVTSMPDYKPSFPKWARQDFSKVVPPLDEDGRSLLSQMLHYDPNKRISAKAALAHPFFQDVTKPVPHLRL\"], [58, \"\", \"\", \"YDIQAWKKQCEELLNLIFQCEDSEPFRQPVDLLEYPDYRDIIDTPMDFATVRETLEAGNYESPMELCKDVRLIFSNSKAYTPSKRSRIYSMSLRLSAFFEEHISSVLSDYKSALRFHKR\"], [57, \"\", \"\", \"EVETFAFQAEIAQLMSLIINTFYSNKEIFLRELISNSSDALDKIRYESLTDPSKLDSGKELHINLIPNKQDRTLTIVDTGIGMTKADLINNLGTIAKSGTKAFMEALQAGADISMIGQFGVGFYSAYLVAEKVTVITKHNDDEQYAWESSAGGSFTVRTDTGEPMGRGTKVILHLKEDQTEYLEERRIKEIVKKHSQFIGYPITLFVE\"], [56, \"\", \"\", \"SGFRKMAFPSGKVEGCMVQVTCGTTTLNGLWLDDVVYCPRHVICTSEDMLNPNYEDLLIRKSNHNFLVQAGNVQLRVIGHSMQNCVLKLKVDTANPKTPKYKFVRIQPGQTFSVLACYNGSPSGVYQCAMRPNFTIKGSFLNGSCGSVGFNIDYDCVSFCYMHHMELPTGVHAGTDLEGNFYGPFVDRQTAQAAGTDTTITVNVLAWLYAAVINGDRWFLNRFTTTLNDFNLVAMKYNYEPLTQDHVDILGPLSAQTGIAVLDMCASLKELLQNGMNGRTILGSALLEDEFTPFDVVRQCSGVTFQ\"], [54, \"\", \"\", \"DVSFRLSGADPSSYGMFIKDLRNALPHTEKVYNIPLLLPSVSGAGRYLLMHLFNYDGNTITVAVDVTNVYIMGYLALTTSYFFNEPAADLASQYVFRSARRKITLPYSGNYERLQIAAGKPREKIPIGLPALDTAISTLLHYDSTAAAGALLVLIQTTAEAARFKYIEQQIQERAYRDEVPSSATISLENSWSGLSKQIQLAQGNNGVFRTPTVLVDSKGNRVQITNVTSNVVTSNIQLLLNTKNI\"], [46, \"\", \"\", \"PKSMQCKVILLDGSEYTCDVEKRSRGQVLFDKVCEHLNLLEKDYFGLTYRDAENQKNWLDPAKEIKKQVRSGAWHFSFNVKFYPPDPAQLSEDITRYYLCLQLRDDIVSGRLPCSFVTLALLGSYTVQSELGDYDPDECGSDYISEFRFAPNHTKELEDKVIELHKSHRGMTPAEAEMHFLENAKKLSMYGVDLHHAKDSEGVEIMLGVCASGLLIYRDRLRINRFAWPKVLKISYKRNNFYIKIRPGEFEQFESTIGFKLPNHRAAKRLWKVCVEHHTFFRLL\"], [45, \"\", \"\", \"PLIVPYNLPLPGGVVPRMLITILGTVKPNANRIALDFQRGNDVAFHFNPRFNENNRRVIVCNTKLDNNWGREERQSVFPFESGKPFKIQVLVEPDHFKVAVNDAHLLQYNHRVKKLNEISKLGISGDIDLTSASYTMI\"], [45, \"\", \"\", \"FVNQHLCGSHLVEALYLVCGERGFFYTPKA\"], [44, \"P59071\", \"Basic phospholipase A2 VRV-PL-VIIIa\", \"SLLEFGKMILEETGKLAIPSYSSYGCYCGWGGKGTPKDATDRCCFVHDCCYGNLPDCNPKSDRYKYKRVNGAIVCEKGTSCENRICECDKAAAICFRQNLNTYSKKYMLYPDFLCKGELKC\"], [44, \"\", \"\", \"MEMEKEFEQIDKSGSWAAIYQDIRHEASDFPSRVAKLPKNKNRNRYRDVSPFDHSRIKLHQEDNDYINASLIKMEEAQRSYILTQGPLPNTVGHFWEMVWEQKSRGVVMLNRVMEKGSLKCAQYWPQKEEKEMIFEDTNLKLTLISEDIKSYYTVRQLELENLTTQETREILHFHYTTWPDFGVPESPASFLNFLFKVRESGSLSPEHGPVVVHCSAGIGRSGTFCLADTCLLLMDKRKDPSSVDIKKVLLEMRKFRMGLIQTADQLRFSYLAVIEGAKFIM\"], [43, \"\", \"\", \"SMQEEDTFRELRIFLRNVTHRLAIDKRFRVFTKPVDPDEVPDYVTVIKQPMDLSSVISKIDLHKYLTVKDYLRDIDLICSNALEYNPDRDPGDRLIRHRACALRDTAYAIIKEELDEDFEQLCEEIQESR\"], [41, \"\", \"\", \"PLESQYQVGPLLGSGGFGSVYSGIRVSDNLPVAIKHVEKDRISDWGELPNGTRVPMEVVLLKKVSSGFSGVIRLLDWFERPDSFVLILERPEPVQDLFDFITERGALQEELARSFFWQVLEAVRHCHNCGVLHRDIKDENILIDLNRGELKLIDFGSGALLKDTVYTDFDGTRVYSPPEWIRYHRYHGRSAAVWSLGILLYDMVCGDIPFEHDEEIIRGQVFFRQRVSSECQHLIRWCLALRPSDRPTFEEIQNHPWMQDVLLPQETAEIHLH\"], [41, \"\", \"\", \"NQIDLNVTCRYAGVFHVEKNGRYSISRTEAADLCQAFNSTLPTMDQMKLALSKGFETCRYGFIEGNVVIPRIHPNAICAANHTGVYILVTSNTSHYDTYCFNASAPPEEDCTSVTDLPNSFDGPVTITIVNRDGTRYSKKGEYRTHQEDI\"], [39, \"\", \"\", \"VETFAFQAEIAQLMSLIINTFYSNKEIFLRELISNSSDALDKIRYESLTDPSKLDSGKELHINLIPNKQDRTLTIVDTGIGMTKADLINNLGTIAKSGTKAFMEALQAGADISMIGQFGVGFYSAYLVAEKVTVITKHNDDEQYAWESSAGGSFTVRTDTGEPMGRGTKVILHLKEDQTEYLEERRIKEIVKKHSQFIGYPITLFVE\"], [37, \"\", \"\", \"GDDRELAILATAENLLEDRPLADISVDDLAKGAGISRPTFYFYFPSKEAVLLTLLDRVVNQADMALQTLAENPADTDRENMWRTGINVFFETFGSHKAVTRAGQAARATSVEVAELWSTFMQKWIAYTAAVIDAERDRGAAPRTLPAHELATALNLMNERTLFASFAGEQPSVPEARVLDTLVHIWVTSIYGE\"], [37, \"\", \"\", \"MVNPTVFFDIAVDGEPLGRVSFELFADKVPKTAENFRALSTGEKGFGYKGSCFHRIIPGFMCQGGDFTRHNGTGGKSIYGEKFEDENFILKHTGPGILSMANAGPNTNGSQFFICTAKTEWLDGKHVVFGKVKEGMNIVEAMERFGSRNGKTSKKITIADCGQLE\"], [34, \"\", \"\", \"TLRAAVFDLDGVLALPAVFGVLGRTEEALALPRGLLNDAFQKGGPEGATTRLMKGEITLSQWIPLMEENCRKCSETAKVCLPKNFSIKEIFDKAISARKINRPMLQAALMLRKKGFTTAILTNTWLDDRAERDGLAQLMCELKMHFDFLIESCQVGMVKPEPQIYKFLLDTLKASPSEVVFLDDIGANLKPARDLGMVTILVQDTDTALKELEKVTGIQLLNTPAPLPTSCNPSDMSHGYVTVKPRVRLHFVELGSGPAVCLCHGFPESWYSWRYQIPALAQAGYRVLAMDMKGYGESSAPPEIEEYCMEVLCKEMVTFLDKLGLSQAVFIGHDWGGMLVWYMALFYPERVRAVASLNTPFIPANPNMSPLESIKANPVFDYQLYFQEPGVAEAELEQNLSRTFKSLFRASDESVLSMHKVCEAGGLFVNSPEEPSLSRMVTEEEIQFYVQQFKKSGFRGPLNWYRNMERNWKWACKSLGRKILIPALMVTAEKDFVLVPQMSQHMEDWIPHLKRGHIEDCGHWTQMDKPTEVNQILIKWLDSDAR\"], [33, \"\", \"\", \"ITGRPEWIWLALGTALMGLGTLYFLVKGMGVSDPDAKKFYAITTLVPAIAFTMYLSMLLGYGLTMVPFGGEQNPIYWARYADWLFTTPLLLLDLALLVDADQGTILALVGADGIMIGTGLVGALTKVYSYRFVWWAISTAAMLYILYVLFFGFTSKAESMRPEVASTFKVLRNVTVVLWSAYPVVWLIGSEGAGIVPLNIETLLFMVLDVSAKVGFGLILLRSRAIFGEAE\"], [30, \"\", \"\", \"SMLDDAKARLRKYDIGGKYSHLPYNKYSVLLPLVAKEGKLHLLFTVRSEKLRRAPGEVCFPGGKRDPTDMDDAATALREAQEEVGLRPHQVEVVCCLVPCLIDTDTLITPFVGLIDHNFQAQPNPAEVKDVFLVPLAYFLHPQVHDQINHIFEYTNPEDGVTYQIKGMTANLAVLVAFIILEKKPT\"], [30, \"\", \"\", \"GVPTYGAIILDETLENVLLVQGYLAKSGWGFPKGKVNKEEAPHDCAAREVFEETGFDIKDYICKDDYIELRINDQLARLYIIPGIPKDTKFNPKTRREIRNIEWFSIEKLPCHRNDMTPKSKLGLAPNKFFMAIPFIRPLRDWLSRRFG\"], [29, \"\", \"\", \"GNPLVYLDVDANGKPLGRVVLELKADVVPKTAENFRALCTGEKGFGYKGSTFHRVIPSFMCQAGDFTNHNGTGGKSIYGSRFPDENFTLKHVGPGVLSMANAGPNTNGSQFFICTIKTDWLDGKHVVFGHVIEGMDVVKKIESFGSKSGRTSKKIVITDCGQLS\"], [29, \"\", \"\", \"KVFGRCELAAAMKRHGLDNYRGYSLGNWVCAAKFESNFNTQATNRNTDGSTDYGILQINSRWWCNDGRTPGSRNLCNIPCSALLSSDITASVNCAKKIVSDGNGMNAWVAWRNRCKGTDVQAWIRGCRL\"], [29, \"\", \"\", \"SMSVKKPKRDDSKDLALCSMILTEMETHEDAWPFLLPVNLKLVPGYKKVIKKPMDFSTIREKLSSGQYPNLETFALDVRLVFDNCETFNEDDSDIGRAGHNMRKYFEKKWTDTFK\"], [29, \"\", \"\", \"SMSVKKPKRDDSKDLALCSMILTEMETHEDAWPFLLPVNLKLVPGYKKVIKKPMDFSTIREKLSSGQYPNLETFALDVRLVFDNCETFNEDDSDIGRAGHNMRKYFEKKWTDTFKV\"]];\n",
       "\n",
       "    if (typeof require === 'undefined') {\n",
       "        // TODO: This should become the default (use a simple import)\n",
       "        // when the ESM version works independently of whether\n",
       "        // require.js is there or not, see\n",
       "        // https://datatables.net/forums/discussion/69066/esm-es6-module-support?\n",
       "        const {default: $} = await import(\"https://esm.sh/jquery@3.5.0\");\n",
       "        const {default: initDataTables} = await import(\"https://esm.sh/datatables.net@1.11.3?deps=jquery@3.5.0\");\n",
       "\n",
       "        initDataTables();\n",
       "\n",
       "        // Define the dt_args\n",
       "        let dt_args = {\"columnDefs\": [{\"width\": \"70px\", \"targets\": \"_all\"}], \"order\": []};\n",
       "        dt_args[\"data\"] = data;\n",
       "\n",
       "        // Display the table\n",
       "        $(document).ready(function () {\n",
       "            $('#8be9fab3-606e-490b-ae66-39bb5663f7fb').DataTable(dt_args);\n",
       "        });\n",
       "    } else {\n",
       "        require([\"jquery\", \"datatables\"], ($, datatables) => {\n",
       "                // Define the dt_args\n",
       "                let dt_args = {\"columnDefs\": [{\"width\": \"70px\", \"targets\": \"_all\"}], \"order\": []};\n",
       "                dt_args[\"data\"] = data;\n",
       "\n",
       "                // Display the table\n",
       "                $(document).ready(function () {\n",
       "                    $('#8be9fab3-606e-490b-ae66-39bb5663f7fb').DataTable(dt_args);\n",
       "                });\n",
       "            }\n",
       "        )\n",
       "    }\n",
       "</script>\n"
      ],
      "text/plain": [
       "<IPython.core.display.HTML object>"
      ]
     },
     "metadata": {},
     "output_type": "display_data"
    }
   ],
   "source": [
    "print_counter_stats_df(protein_stats)"
   ]
  },
  {
   "cell_type": "markdown",
   "id": "73931fcb",
   "metadata": {},
   "source": [
    "### Ligands\n",
    "\n",
    "Here are some statistics on the ligands present in BioLiP."
   ]
  },
  {
   "cell_type": "code",
   "execution_count": 14,
   "id": "1a4fc663",
   "metadata": {
    "tags": [
     "remove-input"
    ]
   },
   "outputs": [
    {
     "name": "stdout",
     "output_type": "stream",
     "text": [
      "Total number of entries: 20220\n",
      "Total number of unique entries: 9619\n",
      "Distribution of frequencies of individual entries, linear scale (left):\n",
      "Distribution of frequencies of individual entries, log scale (right):\n"
     ]
    },
    {
     "data": {
      "image/png": "[encoded data removed]",
      "text/plain": [
       "<Figure size 360x360 with 1 Axes>"
      ]
     },
     "metadata": {
      "filenames": {
       "image/png": "C:\\sw\\plb\\src\\notebooks\\dataset_overview\\_build\\jupyter_execute\\biolip-overview_27_1.png"
      },
      "needs_background": "light"
     },
     "output_type": "display_data"
    },
    {
     "data": {
      "image/png": "[encoded data removed]",
      "text/plain": [
       "<Figure size 360x360 with 1 Axes>"
      ]
     },
     "metadata": {
      "filenames": {
       "image/png": "C:\\sw\\plb\\src\\notebooks\\dataset_overview\\_build\\jupyter_execute\\biolip-overview_27_2.png"
      },
      "needs_background": "light"
     },
     "output_type": "display_data"
    }
   ],
   "source": [
    "ligand_stats = print_raw_ligand_smiles_stats(df_lig)"
   ]
  },
  {
   "cell_type": "markdown",
   "id": "e710e98f",
   "metadata": {},
   "source": [
    "The most commonly occurring entries are:"
   ]
  },
  {
   "cell_type": "code",
   "execution_count": 15,
   "id": "643fc312",
   "metadata": {
    "tags": [
     "remove-input"
    ]
   },
   "outputs": [
    {
     "data": {
      "text/html": [
       "<table id=\"d85d6171-907b-433b-a136-49e7bf2bdfc5\" class=\"display nowrap\"style=\"max-width:100%\"><thead><th>number_of_occurrences</th><th>ligand_name</th><th>ligand_smiles</th></thead><tbody><tr><td>Loading... (need <a href=https://mwouts.github.io/itables/troubleshooting.html>help</a>?)</td></tr></tbody></table>\n",
       "<link rel=\"stylesheet\" type=\"text/css\" href=\"https://cdn.datatables.net/1.11.3/css/jquery.dataTables.min.css\">\n",
       "<style> table td {\n",
       "    text-overflow: ellipsis;\n",
       "    overflow: hidden;\n",
       "} </style>\n",
       "<style> table th {\n",
       "    text-overflow: ellipsis;\n",
       "    overflow: hidden;\n",
       "} </style>\n",
       "<script type=\"module\">\n",
       "    // Define the table data\n",
       "    const data = [[3213, \"dimethyl-(2-pyrrolidinoquinazolin-4-yl)amine\", \"CN(C)c1nc(N2CCCC2)nc2ccccc12\"], [305, \"[[(2R,3S,4R,5R)-5-adenin-9-yl-3,4-dihydroxy-tetrahydrofuran-2-yl]methoxy-hydroxy-phosphoryl] [(2R,3S,4S)-5-(2,4-diketo-7,8-dimethyl-benzo[g]pteridin-10-yl)-2,3,4-trihydroxy-pentyl] hydrogen phosphate\", \"Cc1cc2nc3c(=O)[nH]c(=O)nc-3n(C[C@H](O)[C@H](O)[C@H](O)CO[P@@](=O)(O)O[P@](=O)(O)OC[C@H]3O[C@@H](n4cnc5c(N)ncnc54)[C@H](O)[C@@H]3O)c2cc1C\"], [272, \"[(2R,3S,4R,5R)-5-adenin-9-yl-3,4-dihydroxy-tetrahydrofuran-2-yl]methyl phosphono hydrogen phosphate\", \"Nc1ncnc2c1ncn2[C@@H]1O[C@H](CO[P@](=O)(O)OP(=O)(O)O)[C@@H](O)[C@H]1O\"], [236, \"[(2R,3S,4R,5R)-5-(2-amino-6-keto-1H-purin-9-yl)-3,4-dihydroxy-tetrahydrofuran-2-yl]methyl phosphono hydrogen phosphate\", \"Nc1nc2c(ncn2[C@@H]2O[C@H](CO[P@](=O)(O)OP(=O)(O)O)[C@@H](O)[C@H]2O)c(=O)[nH]1\"], [203, \"(2S)-4-[[(2S,3S,4R,5R)-5-adenin-9-yl-3,4-dihydroxy-tetrahydrofuran-2-yl]methylthio]-2-amino-butyric acid\", \"Nc1ncnc2c1ncn2[C@@H]1O[C@H](CSCC[C@H](N)C(=O)O)[C@@H](O)[C@H]1O\"], [197, \"[(2R,3S,4S)-5-(2,4-diketo-7,8-dimethyl-benzo[g]pteridin-10-yl)-2,3,4-trihydroxy-pentyl] dihydrogen phosphate\", \"Cc1cc2nc3c(=O)[nH]c(=O)nc-3n(C[C@H](O)[C@H](O)[C@H](O)COP(=O)(O)O)c2cc1C\"], [191, \"\", \"CC1=C(/C=C/C(C)=C/C=C/C(C)=C/C=O)C(C)(C)CCC1\"], [153, \"[[(2R,3S,4R,5R)-5-adenin-9-yl-3,4-dihydroxy-tetrahydrofuran-2-yl]methoxy-hydroxy-phosphoryl] phosphono hydrogen phosphate\", \"Nc1ncnc2c1ncn2[C@@H]1O[C@H](CO[P@@](=O)(O)O[P@](=O)(O)OP(=O)(O)O)[C@@H](O)[C@H]1O\"], [136, \"(4-formyl-5-hydroxy-6-methyl-3-pyridyl)methyl dihydrogen phosphate\", \"Cc1ncc(COP(=O)(O)O)c(C=O)c1O\"], [130, \"[[(2R,3R,4R,5R)-5-adenin-9-yl-3-hydroxy-4-phosphonooxy-tetrahydrofuran-2-yl]methoxy-hydroxy-phosphoryl] [(2R,3S,4R,5R)-5-(3-carbamoylpyridin-1-ium-1-yl)-3,4-dihydroxy-tetrahydrofuran-2-yl]methyl phosphate\", \"NC(=O)c1ccc[n+]([C@@H]2O[C@H](CO[P@@](=O)([O-])O[P@](=O)(O)OC[C@H]3O[C@@H](n4cnc5c(N)ncnc54)[C@H](OP(=O)(O)O)[C@@H]3O)[C@@H](O)[C@H]2O)c1\"], [120, \"[(2R,3S,4R,5R)-5-adenin-9-yl-3,4-dihydroxy-tetrahydrofuran-2-yl]methyl dihydrogen phosphate\", \"Nc1ncnc2c1ncn2[C@@H]1O[C@H](COP(=O)(O)O)[C@@H](O)[C@H]1O\"], [118, \"[[[[(2R,3S,4R,5R)-5-adenin-9-yl-3,4-dihydroxy-tetrahydrofuran-2-yl]methoxy-hydroxy-phosphoryl]oxy-hydroxy-phosphoryl]amino]phosphonic acid\", \"Nc1ncnc2c1ncn2[C@@H]1O[C@H](CO[P@](=O)(O)O[P@](=O)(O)NP(=O)(O)O)[C@@H](O)[C@H]1O\"], [115, \"[[(2R,3S,4R,5R)-5-adenin-9-yl-3,4-dihydroxy-tetrahydrofuran-2-yl]methoxy-hydroxy-phosphoryl] [(2R,3S,4R,5R)-5-(3-carbamoylpyridin-1-ium-1-yl)-3,4-dihydroxy-tetrahydrofuran-2-yl]methyl phosphate\", \"NC(=O)c1ccc[n+]([C@@H]2O[C@H](CO[P@@](=O)([O-])O[P@@](=O)(O)OC[C@H]3O[C@@H](n4cnc5c(N)ncnc54)[C@H](O)[C@@H]3O)[C@@H](O)[C@H]2O)c1\"], [111, \"(2R,3S,4R,5S,6S)-6-methyltetrahydropyran-2,3,4,5-tetrol\", \"C[C@@H]1O[C@@H](O)[C@@H](O)[C@H](O)[C@@H]1O\"], [111, \"phosphate\", \"O=P([O-])([O-])[O-]\"], [102, \"sulfate\", \"O=S(=O)([O-])[O-]\"], [87, \"[[(2R,3S,4R,5R)-5-adenin-9-yl-4-hydroxy-3-phosphonooxy-tetrahydrofuran-2-yl]methoxy-hydroxy-phosphoryl] [(3R)-3-hydroxy-4-keto-4-[[3-keto-3-(2-mercaptoethylamino)propyl]amino]-2,2-dimethyl-butyl] hydrogen phosphate\", \"CC(C)(CO[P@](=O)(O)O[P@@](=O)(O)OC[C@H]1O[C@@H](n2cnc3c(N)ncnc32)[C@H](O)[C@@H]1OP(=O)(O)O)[C@@H](O)C(=O)NCCC(=O)NCCS\"], [84, \"(2S)-2-amino-5-[[(1R)-2-(carboxymethylamino)-2-keto-1-(mercaptomethyl)ethyl]amino]-5-keto-valeric acid\", \"N[C@@H](CCC(=O)N[C@@H](CS)C(=O)NCC(=O)O)C(=O)O\"], [78, \"(2S)-4-[[(2S,3S,4R,5R)-5-adenin-9-yl-3,4-dihydroxy-tetrahydrofuran-2-yl]methyl-methyl-sulfonio]-2-amino-butyrate\", \"C[S@@+](CC[C@H](N)C(=O)[O-])C[C@H]1O[C@@H](n2cnc3c(N)ncnc32)[C@H](O)[C@@H]1O\"], [72, \"(2R,4S,5R,6R)-5-acetamido-2,4-dihydroxy-6-[(1R,2R)-1,2,3-trihydroxypropyl]tetrahydropyran-2-carboxylic acid\", \"CC(=O)N[C@@H]1[C@@H](O)C[C@](O)(C(=O)O)O[C@H]1[C@H](O)[C@H](O)CO\"], [68, \"(2R,3S,4S,5R,6R)-2-methylol-6-[(2R,3S,4R,5R,6S)-4,5,6-trihydroxy-2-methylol-tetrahydropyran-3-yl]oxy-tetrahydropyran-3,4,5-triol\", \"OC[C@H]1O[C@H](O[C@@H]2[C@@H](CO)O[C@H](O)[C@H](O)[C@H]2O)[C@H](O)[C@@H](O)[C@@H]1O\"], [53, \"[(2R,3S,4R,5R)-5-(2,4-diketopyrimidin-1-yl)-3,4-dihydroxy-tetrahydrofuran-2-yl]methyl phosphono hydrogen phosphate\", \"O=c1ccn([C@@H]2O[C@H](CO[P@@](=O)(O)OP(=O)(O)O)[C@@H](O)[C@H]2O)c(=O)[nH]1\"], [51, \"(2R,3R,4S,5R,6R)-6-methyloltetrahydropyran-2,3,4,5-tetrol\", \"OC[C@H]1O[C@@H](O)[C@H](O)[C@@H](O)[C@H]1O\"], [51, \"[[(2R,3R,4R,5R)-5-adenin-9-yl-3-hydroxy-4-phosphonooxy-tetrahydrofuran-2-yl]methoxy-hydroxy-phosphoryl] [(2R,3S,4R,5R)-5-(3-carbamoyl-4H-pyridin-1-yl)-3,4-dihydroxy-tetrahydrofuran-2-yl]methyl hydrogen phosphate\", \"NC(=O)C1=CN([C@@H]2O[C@H](CO[P@](=O)(O)O[P@@](=O)(O)OC[C@H]3O[C@@H](n4cnc5c(N)ncnc54)[C@H](OP(=O)(O)O)[C@@H]3O)[C@@H](O)[C@H]2O)C=CC1\"], [50, \"N-[(2R,3R,4R,5S,6R)-2,4,5-trihydroxy-6-methylol-tetrahydropyran-3-yl]acetamide\", \"CC(=O)N[C@H]1[C@H](O)O[C@H](CO)[C@@H](O)[C@@H]1O\"], [44, \"glycerol\", \"OCC(O)CO\"], [43, \"[(4S)-4-amino-4-carboxy-butyl]-(diaminomethylene)ammonium\", \"NC(=[NH2+])NCCC[C@H](N)C(=O)O\"], [42, \"(2R,3R,4S,5S,6R)-6-methyloltetrahydropyran-2,3,4,5-tetrol\", \"OC[C@H]1O[C@@H](O)[C@H](O)[C@@H](O)[C@@H]1O\"], [39, \"7H-adenine\", \"Nc1ncnc2[nH]cnc12\"], [36, \"[(2R,3S,5R)-5-(2,4-diketopyrimidin-1-yl)-3-hydroxy-tetrahydrofuran-2-yl]methyl dihydrogen phosphate\", \"O=c1ccn([C@H]2C[C@H](O)[C@@H](COP(=O)(O)O)O2)c(=O)[nH]1\"]];\n",
       "\n",
       "    if (typeof require === 'undefined') {\n",
       "        // TODO: This should become the default (use a simple import)\n",
       "        // when the ESM version works independently of whether\n",
       "        // require.js is there or not, see\n",
       "        // https://datatables.net/forums/discussion/69066/esm-es6-module-support?\n",
       "        const {default: $} = await import(\"https://esm.sh/jquery@3.5.0\");\n",
       "        const {default: initDataTables} = await import(\"https://esm.sh/datatables.net@1.11.3?deps=jquery@3.5.0\");\n",
       "\n",
       "        initDataTables();\n",
       "\n",
       "        // Define the dt_args\n",
       "        let dt_args = {\"columnDefs\": [{\"width\": \"70px\", \"targets\": \"_all\"}], \"order\": []};\n",
       "        dt_args[\"data\"] = data;\n",
       "\n",
       "        // Display the table\n",
       "        $(document).ready(function () {\n",
       "            $('#d85d6171-907b-433b-a136-49e7bf2bdfc5').DataTable(dt_args);\n",
       "        });\n",
       "    } else {\n",
       "        require([\"jquery\", \"datatables\"], ($, datatables) => {\n",
       "                // Define the dt_args\n",
       "                let dt_args = {\"columnDefs\": [{\"width\": \"70px\", \"targets\": \"_all\"}], \"order\": []};\n",
       "                dt_args[\"data\"] = data;\n",
       "\n",
       "                // Display the table\n",
       "                $(document).ready(function () {\n",
       "                    $('#d85d6171-907b-433b-a136-49e7bf2bdfc5').DataTable(dt_args);\n",
       "                });\n",
       "            }\n",
       "        )\n",
       "    }\n",
       "</script>\n"
      ],
      "text/plain": [
       "<IPython.core.display.HTML object>"
      ]
     },
     "metadata": {},
     "output_type": "display_data"
    }
   ],
   "source": [
    "print_counter_stats_df(ligand_stats)"
   ]
  }
 ],
 "metadata": {
  "jupytext": {
   "cell_metadata_filter": "-all",
   "formats": "md:myst",
   "text_representation": {
    "extension": ".md",
    "format_name": "myst",
    "format_version": 0.13,
    "jupytext_version": "1.11.5"
   }
  },
  "kernelspec": {
   "display_name": "Python 3",
   "language": "python",
   "name": "python3"
  },
  "language_info": {
   "codemirror_mode": {
    "name": "ipython",
    "version": 3
   },
   "file_extension": ".py",
   "mimetype": "text/x-python",
   "name": "python",
   "nbconvert_exporter": "python",
   "pygments_lexer": "ipython3",
   "version": "3.9.7"
  },
  "source_map": [
   14,
   21,
   24,
   27,
   30,
   33,
   48,
   51,
   62,
   65,
   69,
   76,
   81,
   84,
   86,
   89,
   91,
   100,
   119,
   133,
   136,
   146,
   148,
   153,
   156,
   159,
   162,
   167,
   170,
   173
  ]
 },
 "nbformat": 4,
 "nbformat_minor": 5
}
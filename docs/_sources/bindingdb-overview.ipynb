{
 "cells": [
  {
   "cell_type": "markdown",
   "id": "2e8c2655",
   "metadata": {},
   "source": [
    "# BindingDB overview\n",
    "\n",
    "## Setup\n",
    "\n",
    "Add user's current working directory to search path:"
   ]
  },
  {
   "cell_type": "code",
   "execution_count": 1,
   "id": "fe8c0525",
   "metadata": {},
   "outputs": [],
   "source": [
    "import sys\n",
    "sys.path = [r\"C:\\sw\\plb\"] + sys.path"
   ]
  },
  {
   "cell_type": "markdown",
   "id": "aeb9376f",
   "metadata": {},
   "source": [
    "Also change current working directory:"
   ]
  },
  {
   "cell_type": "code",
   "execution_count": 2,
   "id": "b16b0555",
   "metadata": {},
   "outputs": [],
   "source": [
    "import os\n",
    "os.chdir(r\"C:\\sw\\plb\")"
   ]
  },
  {
   "cell_type": "markdown",
   "id": "188f131a",
   "metadata": {},
   "source": [
    "Imports:"
   ]
  },
  {
   "cell_type": "code",
   "execution_count": 3,
   "id": "e338498f",
   "metadata": {},
   "outputs": [],
   "source": [
    "from collections import Counter\n",
    "from pathlib import Path\n",
    "\n",
    "import myst_nb\n",
    "\n",
    "from src.config import get_config\n",
    "from src.data.bindingdb.io import read_bdb_single_chain\n",
    "from src.data_structure_utils import read_tsv\n",
    "from src.stats_utils import (\n",
    "    get_stats_from_counter,\n",
    "    print_counter_stats_df,\n",
    "    print_raw_ligand_smiles_stats,\n",
    "    print_raw_protein_seq_stats,\n",
    ")"
   ]
  },
  {
   "cell_type": "markdown",
   "id": "b5b01eb4",
   "metadata": {},
   "source": [
    "Set up document options:"
   ]
  },
  {
   "cell_type": "code",
   "execution_count": 4,
   "id": "cdd75a64",
   "metadata": {},
   "outputs": [
    {
     "data": {
      "application/javascript": [
       "if (typeof require !== 'undefined')\n",
       "    require.config({\n",
       "        paths: {\n",
       "            jquery: 'https://code.jquery.com/jquery-3.5.1.min',\n",
       "            datatables: 'https://cdn.datatables.net/1.11.3/js/jquery.dataTables.min',\n",
       "        }\n",
       "    });\n"
      ],
      "text/plain": [
       "<IPython.core.display.Javascript object>"
      ]
     },
     "metadata": {},
     "output_type": "display_data"
    }
   ],
   "source": [
    "# This import automatically sets seeds\n",
    "import src.set_seed\n",
    "\n",
    "# Nice pandas tables\n",
    "import itables\n",
    "itables.init_notebook_mode(all_interactive=True)\n",
    "itables.options.maxColumns = 0  # unlimited columns\n",
    "itables.options.maxBytes = 32000000\n",
    "itables.options.classes = [\"display\", \"nowrap\"]\n",
    "itables.options.order = [] # disable auto-sorting"
   ]
  },
  {
   "cell_type": "markdown",
   "id": "997c5b30",
   "metadata": {},
   "source": [
    "Get filepaths of data directories:"
   ]
  },
  {
   "cell_type": "code",
   "execution_count": 5,
   "id": "ffdb4bd7",
   "metadata": {},
   "outputs": [],
   "source": [
    "config = get_config()\n",
    "dir_data = Path(config[\"data_directory\"])\n",
    "dir_features = Path(config[\"features_directory\"])"
   ]
  },
  {
   "cell_type": "markdown",
   "id": "521efc05",
   "metadata": {},
   "source": [
    "## Displaying some sample data\n",
    "\n",
    "BindingDB has experimentally measured binding dissociation constants (Kd and Ki)\n",
    "for a variety of protein-ligand pairs.\n",
    "\n",
    "Load processed BindingDB dataframe:"
   ]
  },
  {
   "cell_type": "code",
   "execution_count": 6,
   "id": "4e813a9a",
   "metadata": {},
   "outputs": [],
   "source": [
    "df_bdb = read_bdb_single_chain(\n",
    "    dir_data / \"bindingdb/dataframes_filtered/single_chain.tsv\"\n",
    ")"
   ]
  },
  {
   "cell_type": "markdown",
   "id": "d9835980",
   "metadata": {},
   "source": [
    "Print a few sample rows from the dataframe. Firstly truncate some of the long\n",
    "columns to make things easier to read. Also note that the BindingDB URLs don't\n",
    "seem to work anymore (I think they've updated their website recently):"
   ]
  },
  {
   "cell_type": "code",
   "execution_count": 7,
   "id": "41e6e5af",
   "metadata": {},
   "outputs": [
    {
     "data": {
      "text/html": [
       "<table id=\"08bdaeb1-7785-4317-a07a-b0d607a06b68\" class=\"display nowrap\"style=\"max-width:100%\"><thead><th></th><th>ligand_rdkit_smiles</th><th>ligand_raw_smiles</th><th>ligand_raw_inchi</th><th>ligand_raw_inchi_key</th><th>bdb_ligand_id</th><th>bdb_ligand_name</th><th>bdb_protein_name</th><th>bdb_protein_organism</th><th>pH</th><th>temperature_C</th><th>data_source</th><th>article_doi</th><th>pubmed_id</th><th>pubmed_assay_id</th><th>patent_number</th><th>authors</th><th>institution</th><th>url_bdb_ligand</th><th>url_bdb_protein</th><th>url_bdb_overall</th><th>pdb_ligand_het_id</th><th>pdb_id_85_pct_similarity</th><th>ligand_pubchem_cid</th><th>ligand_pubchem_sid</th><th>ligand_chebi_id</th><th>ligand_chembl_id</th><th>ligand_drugbank_id</th><th>ligand_iuphar_grac_id</th><th>ligand_kegg_id</th><th>ligand_zinc_id</th><th>protein_number_of_chains</th><th>kd_nM_operator</th><th>kd_nM_value</th><th>kon_1_per_M_s_operator</th><th>kon_1_per_M_s_value</th><th>koff_1_per_s_operator</th><th>koff_1_per_s_value</th><th>ligand_number_of_atoms</th><th>ligand_number_of_stereoisomers</th><th>chain_number</th><th>chain_sequence</th><th>chain_pdb_id_85_pct_similarity</th><th>chain_swissprot_name0</th><th>chain_swissprot_name1</th><th>chain_swissprot_primary_id</th><th>chain_swissprot_secondary_ids</th><th>chain_swissprot_ids_from_other_organisms</th><th>chain_trembl_name0</th><th>chain_trembl_name1</th><th>chain_trembl_primary_id</th><th>chain_trembl_secondary_ids</th><th>chain_trembl_ids_from_other_organisms</th><th>chain_length</th></thead><tbody><tr><td>Loading... (need <a href=https://mwouts.github.io/itables/troubleshooting.html>help</a>?)</td></tr></tbody></table>\n",
       "<link rel=\"stylesheet\" type=\"text/css\" href=\"https://cdn.datatables.net/1.11.3/css/jquery.dataTables.min.css\">\n",
       "<style> table td {\n",
       "    text-overflow: ellipsis;\n",
       "    overflow: hidden;\n",
       "} </style>\n",
       "<style> table th {\n",
       "    text-overflow: ellipsis;\n",
       "    overflow: hidden;\n",
       "} </style>\n",
       "<script type=\"module\">\n",
       "    // Define the table data\n",
       "    const data = [[51084599, \"c1cc2c(cc1OCCCN1CCCCC1)CCN(CC1CC1)CC2\", \"C(COc1ccc2CCN(CC3CC3)CCc2c1)CN1CCCCC1\", \"InChI=1S/C22H34N2O/c1-2-11-23(12-3-1)13-4-16-25-22\", \"FVUHMXKJJTVQKK-UHFFFAOYSA-N\", \"50443786\", \"CHEMBL3094215\", \"Histamine H1 receptor\", \"Homo sapiens\", NaN, NaN, \"ChEMBL\", \"10.1016/j.bmcl.2013.09.089\", \"24161834\", \"\", \"\", \"Wilson, DM; Apps, J; Bailey, N; Bamford, MJ; Beres\", \"GlaxoSmithKline\", \"http://www.bindingdb.org/bind/chemsearch/marvin/MolStructure.jsp?monomerid=50443786\", \"http://www.bindingdb.org/jsp/dbsearch/PrimarySearch_ki.jsp?energyterm=kJ/mole&tag=pol&polymerid=2295&target=Histamine+H1+receptor&column=ki&startPg=0&Increment=50&submit=Search\", \"http://www.bindingdb.org/jsp/dbsearch/PrimarySearch_ki.jsp?energyterm=kJ/mole&tag=r21&monomerid=50443786&enzyme=Histamine+H1+receptor&column=ki&startPg=0&Increment=50&submit=Search\", \"\", \"\", \"9798145\", \"194941682\", \"\", \"CHEMBL3094215\", \"\", \"\", \"\", \"\", 1, \"=\", 1995.0, \"\", NaN, \"\", NaN, \"25\", \"1\", \"0\", \"MSLPNSSCLLEDKMCEGNKTTMASPQLMPLVVVLSTICLVTVGLNLLVLY\", \"7DFL\", \"Histamine H1 receptor\", \"HRH1_HUMAN\", \"P35367\", \"A8K047,Q6P9E5\", \"\", \"\", \"\", \"\", \"\", \"\", \"487\"], [51335771, \"CC(=O)Nc1nnc(S(N)(=O)=O)s1\", \"CC(=O)Nc1nnc(s1)S(N)(=O)=O\", \"InChI=1S/C4H6N4O3S2/c1-2(9)6-3-7-8-4(12-3)13(5,10)\", \"BZKPWHYZMXOIDC-UHFFFAOYSA-N\", \"10880\", \"AZA::AZA2::AZM acetazolamide::Acerazolamide, AAZ::\", \"Carbonic anhydrase\", \"\", NaN, NaN, \"ChEMBL\", \"10.1021/acsmedchemlett.9b00590\", \"32435377\", \"\", \"\", \"Pratesi, D; Matassini, C; Goti, A; Angeli, A; Cart\", \"Universit&#163; di Firenze\", \"http://www.bindingdb.org/bind/chemsearch/marvin/MolStructure.jsp?monomerid=10880\", \"http://www.bindingdb.org/jsp/dbsearch/PrimarySearch_ki.jsp?energyterm=kJ/mole&tag=pol&polymerid=10134&target=Carbonic+anhydrase&column=ki&startPg=0&Increment=50&submit=Search\", \"http://www.bindingdb.org/jsp/dbsearch/PrimarySearch_ki.jsp?energyterm=kJ/mole&tag=r21&monomerid=10880&enzyme=Carbonic+anhydrase&column=ki&startPg=0&Increment=50&submit=Search\", \"AZM\", \"4YGF,3W6H,3CZV,3V2J,3V2M,4G7A,4X5S,6QEB,1YDB,1YDA,\", \"1986\", \"46511450\", \"27690\", \"CHEMBL20\", \"DB00819\", \"6792\", \"C06805\", \"ZINC03813042\", 1, \"=\", 17.0, \"\", NaN, \"\", NaN, \"13\", \"1\", \"0\", \"MSRLSWGYREHNGPIHWKEFFPIADGDQQSPIEIKTKEVKYDSSLRPLSI\", \"3CZV,3D0N,3DA2,4HU1,4KNM,4KNN,4QIZ,4QJP,4QJX,4QSJ,5E2N,5LLA,5LLN,5OGJ,5OHH,6G5U\", \"Carbonic anhydrase 13\", \"CAH13_HUMAN\", \"Q8N1Q1\", \"\", \"\", \"\", \"\", \"\", \"\", \"\", \"262\"], [50412675, \"Cc1ncc(C(F)(F)F)c(N2CC[C@@H](C)N(C(=O)c3ccccc3-n3nccn3)CC2)n1\", \"C[C@@H]1CCN(CCN1C(=O)c1ccccc1-n1nccn1)c1nc(C)ncc1C(F)(F)F\", \"InChI=1S/C21H22F3N7O/c1-14-7-10-29(19-17(21(22,23)\", \"BYNDBSNHEHAYRO-CQSZACIVSA-N\", \"50120873\", \"CHEMBL3622335\", \"Orexin receptor type 2\", \"Homo sapiens\", NaN, NaN, \"ChEMBL\", \"10.1016/j.bmcl.2014.12.081\", \"25613676\", \"\", \"\", \"Roecker, AJ; Mercer, SP; Bergman, JM; Gilbert, KF;\", \"Merck Research Laboratories\", \"http://www.bindingdb.org/bind/chemsearch/marvin/MolStructure.jsp?monomerid=50120873\", \"http://www.bindingdb.org/jsp/dbsearch/PrimarySearch_ki.jsp?energyterm=kJ/mole&tag=pol&polymerid=5447&target=Orexin+receptor+type+2&column=ki&startPg=0&Increment=50&submit=Search\", \"http://www.bindingdb.org/jsp/dbsearch/PrimarySearch_ki.jsp?energyterm=kJ/mole&tag=r21&monomerid=50120873&enzyme=Orexin+receptor+type+2&column=ki&startPg=0&Increment=50&submit=Search\", \"\", \"\", \"122191746\", \"319566056\", \"\", \"CHEMBL3622335\", \"\", \"\", \"\", \"\", 1, \"=\", 4200.0, \"\", NaN, \"\", NaN, \"32\", \"1\", \"0\", \"MSGTKLEDSPPCRNWSSASELNETQEPFLNPTDYDDEEFLRYLWREYLHP\", \"4S0V,5WQC,5WS3\", \"Orexin receptor type 2\", \"OX2R_HUMAN\", \"O43614\", \"Q5VTM0\", \"\", \"\", \"\", \"S4X0W3\", \"\", \"\", \"444\"], [229836, \"NC1=N[C@@H](c2cccc(F)c2)CO1\", \"NC1=N[C@H](CO1)c1cccc(F)c1\", \"InChI=1S/C9H9FN2O/c10-7-3-1-2-6(4-7)8-5-13-9(11)12\", \"JKVQLTDZPQITFF-MRVPVSSYSA-N\", \"109461\", \"US8604061, 199\", \"Trace amine-associated receptor 1 (TAAR1)\", \"Mus musculus\", NaN, NaN, \"US Patent\", \"\", \"\", \"\", \"US8604061\", \"Galley, G; Groebke Zbinden, K; Norcross, R; Stalde\", \"Hoffmann-La Roche Inc\", \"http://www.bindingdb.org/bind/chemsearch/marvin/MolStructure.jsp?monomerid=109461\", \"http://www.bindingdb.org/jsp/dbsearch/PrimarySearch_ki.jsp?energyterm=kJ/mole&tag=pol&polymerid=5779&target=Trace+amine-associated+receptor+1+%28TAAR1%29&column=ki&startPg=0&Increment=50&submit=Search\", \"http://www.bindingdb.org/jsp/dbsearch/PrimarySearch_ki.jsp?energyterm=kJ/mole&tag=r21&monomerid=109461&enzyme=Trace+amine-associated+receptor+1+%28TAAR1%29&column=ki&startPg=0&Increment=50&submit=Search\", \"\", \"\", \"59323617\", \"186526331\", \"\", \"\", \"\", \"\", \"\", \"\", 1, \"=\", 9.3, \"\", NaN, \"\", NaN, \"13\", \"1\", \"0\", \"MHLCHAITNISHRNSDWSREVQASLYSLMSLIILATLVGNLIVIISISHF\", \"\", \"Trace amine-associated receptor 1\", \"TAAR1_MOUSE\", \"Q923Y8\", \"Q05A85\", \"\", \"\", \"\", \"\", \"\", \"\", \"332\"], [50350873, \"Cc1cc(C)nc(N2C[C@H]3CN(C(=O)c4ccc(F)cc4-n4nccn4)C[C@H]3C2)n1\", \"Cc1cc(C)nc(n1)N1C[C@@H]2CN(C[C@@H]2C1)C(=O)c1ccc(F)cc1-n1nccn1\", \"InChI=1S/C21H22FN7O/c1-13-7-14(2)26-21(25-13)28-11\", \"ILQWQOBQPYXUMR-IYBDPMFKSA-N\", \"50092813\", \"CHEMBL3586434\", \"Orexin receptor type 1\", \"Homo sapiens\", NaN, NaN, \"ChEMBL\", \"10.1021/acs.jmedchem.5b00742\", \"26087021\", \"\", \"\", \"Letavic, MA; Bonaventure, P; Carruthers, NI; Dugov\", \"TBA\", \"http://www.bindingdb.org/bind/chemsearch/marvin/MolStructure.jsp?monomerid=50092813\", \"http://www.bindingdb.org/jsp/dbsearch/PrimarySearch_ki.jsp?energyterm=kJ/mole&tag=pol&polymerid=5448&target=Orexin+receptor+type+1&column=ki&startPg=0&Increment=50&submit=Search\", \"http://www.bindingdb.org/jsp/dbsearch/PrimarySearch_ki.jsp?energyterm=kJ/mole&tag=r21&monomerid=50092813&enzyme=Orexin+receptor+type+1&column=ki&startPg=0&Increment=50&submit=Search\", \"\", \"\", \"122180338\", \"318473339\", \"\", \"CHEMBL3586434\", \"\", \"\", \"\", \"\", 1, \"=\", 1960.0, \"\", NaN, \"\", NaN, \"30\", \"1\", \"0\", \"MEPSATPGAQMGVPPGSREPSPVPPDYEDEFLRYLWRDYLYPKQYEWVLI\", \"4ZJ8,4ZJC\", \"Orexin receptor type 1\", \"OX1R_HUMAN\", \"O43613\", \"A8K3A6,Q9HBV6\", \"\", \"\", \"\", \"\", \"\", \"\", \"425\"], [51286047, \"CCOc1cc2ncc(C#N)c(Nc3ccc(OCc4ccccn4)c(Cl)c3)c2cc1NC(=O)/C=C/CN(C)C\", \"CCOc1cc2ncc(C#N)c(Nc3ccc(OCc4ccccn4)c(Cl)c3)c2cc1NC(=O)\\\\C=C\\\\CN(C)C\", \"InChI=1S/C30H29ClN6O3/c1-4-39-28-16-25-23(15-26(28\", \"JWNPDZNEKVCWMY-VQHVLOKHSA-N\", \"50161957\", \"4-Dimethylamino-but-2-enoic acid {4-[3-chloro-4-(p\", \"Serine/threonine-protein kinase GAK\", \"Homo sapiens\", NaN, NaN, \"ChEMBL\", \"10.1021/acs.jmedchem.9b00350\", \"30973735\", \"\", \"\", \"Asquith, CRM; Naegeli, KM; East, MP; Laitinen, T; \", \"University of North Carolina at Chapel Hill\", \"http://www.bindingdb.org/bind/chemsearch/marvin/MolStructure.jsp?monomerid=50161957\", \"http://www.bindingdb.org/jsp/dbsearch/PrimarySearch_ki.jsp?energyterm=kJ/mole&tag=pol&polymerid=50002896&target=Serine%2Fthreonine-protein+kinase+GAK&column=ki&startPg=0&Increment=50&submit=Search\", \"http://www.bindingdb.org/jsp/dbsearch/PrimarySearch_ki.jsp?energyterm=kJ/mole&tag=r21&monomerid=50161957&enzyme=Serine%2Fthreonine-protein+kinase+GAK&column=ki&startPg=0&Increment=50&submit=Search\", \"\", \"\", \"9915743\", \"104048227\", \"\", \"CHEMBL180022\", \"\", \"5686\", \"\", \"ZINC03916214\", 1, \"=\", 250.0, \"\", NaN, \"\", NaN, \"40\", \"1\", \"0\", \"MSLLQSALDFLAGPGSLGGASGRDQSDFVGQTVELGELRLRVRRVLAEGG\", \"4C57,4C58,4C59,4Y8D,5Y7Z,5Y80\", \"Cyclin-G-associated kinase\", \"GAK_HUMAN\", \"O14976\", \"Q5U4P5,Q9BVY6\", \"\", \"\", \"\", \"\", \"\", \"\", \"1311\"], [355669, \"COc1ncccc1NC(=O)C(C)(C)Cc1ccc(C(=O)Oc2ccc(C(=N)N)cc2F)s1\", \"COc1ncccc1NC(=O)C(C)(C)Cc1ccc(s1)C(=O)Oc1ccc(cc1F)C(N)=N\", \"InChI=1S/C23H23FN4O4S/c1-23(2,22(30)28-16-5-4-10-2\", \"VQICKBIEIBEKAP-UHFFFAOYSA-N\", \"158123\", \"US9024044, 51::US9227949, 51::US9655879, 51\", \"Trypsin-1\", \"Homo sapiens\", 8.0, NaN, \"US Patent\", \"\", \"\", \"\", \"US9227949\", \"Koshiba, T; Tokumasu, M; Ichimaru, T; Ohsumi, K; N\", \"Ajinomoto Co. Inc\", \"http://www.bindingdb.org/bind/chemsearch/marvin/MolStructure.jsp?monomerid=158123\", \"http://www.bindingdb.org/jsp/dbsearch/PrimarySearch_ki.jsp?energyterm=kJ/mole&tag=pol&polymerid=1529&target=Trypsin-1&column=ki&startPg=0&Increment=50&submit=Search\", \"http://www.bindingdb.org/jsp/dbsearch/PrimarySearch_ki.jsp?energyterm=kJ/mole&tag=r21&monomerid=158123&enzyme=Trypsin-1&column=ki&startPg=0&Increment=50&submit=Search\", \"\", \"\", \"92044962\", \"254815317\", \"\", \"\", \"\", \"\", \"\", \"\", 1, \"=\", 1.87, \"\", NaN, \"\", NaN, \"33\", \"1\", \"0\", \"MNPLLILTFVAAALAAPFDDDDKIVGGYNCEENSVPYQVSLNSGYHFCGG\", \"1TRN,2RA3,4WWY\", \"Trypsin-1\", \"TRY1_HUMAN\", \"P07477\", \"A1A509,A6NJ71,B2R5I5,Q5NV57,Q7M4N3,Q7M4N4,Q92955,Q9HAN4,Q9HAN5,Q9HAN6,Q9HAN7\", \"\", \"\", \"\", \"\", \"\", \"\", \"247\"], [50317915, \"C[C@H](NS(C)(=O)=O)c1ccc(S(=O)(=O)c2ccc(Cl)cc2S(=O)(=O)c2ccc(Cl)cc2)cc1\", \"C[C@H](NS(C)(=O)=O)c1ccc(cc1)S(=O)(=O)c1ccc(Cl)cc1S(=O)(=O)c1ccc(Cl)cc1\", \"InChI=1S/C21H19Cl2NO6S3/c1-14(24-31(2,25)26)15-3-8\", \"CFPUHDJWWNIUGO-AWEZNQCLSA-N\", \"50172171\", \"CHEMBL197985::N-((S)-1-{4-[4-Chloro-2-(4-chloro-be\", \"Cannabinoid receptor 2\", \"Homo sapiens\", NaN, NaN, \"ChEMBL\", \"10.1016/j.bmcl.2005.07.023\", \"16115769\", \"\", \"\", \"Shankar, BB; Lavey, BJ; Zhou, G; Spitler, JA; Tong\", \"Schering-Plough Research Institute\", \"http://www.bindingdb.org/bind/chemsearch/marvin/MolStructure.jsp?monomerid=50172171\", \"http://www.bindingdb.org/jsp/dbsearch/PrimarySearch_ki.jsp?energyterm=kJ/mole&tag=pol&polymerid=2137&target=Cannabinoid+receptor+2&column=ki&startPg=0&Increment=50&submit=Search\", \"http://www.bindingdb.org/jsp/dbsearch/PrimarySearch_ki.jsp?energyterm=kJ/mole&tag=r21&monomerid=50172171&enzyme=Cannabinoid+receptor+2&column=ki&startPg=0&Increment=50&submit=Search\", \"\", \"\", \"44404891\", \"104058300\", \"\", \"CHEMBL197985\", \"\", \"\", \"\", \"ZINC28528823\", 1, \"=\", 10.0, \"\", NaN, \"\", NaN, \"33\", \"1\", \"0\", \"MEECWVTEIANGSKDGLDSNPMKDYMILSGPQKTAVAVLCTLLGLLSALE\", \"5ZTY,6KPC,6KPF,6PT0\", \"Cannabinoid receptor 2\", \"CNR2_HUMAN\", \"P34972\", \"C6ES44,Q4VBK8,Q5JRH7,Q6B0G7,Q6NSY0\", \"\", \"\", \"\", \"A0A024RAH7\", \"\", \"\", \"360\"], [50475390, \"Cn1nc(S(N)(=O)=O)sc1=N\", \"Cn1nc(sc1=N)S(N)(=O)=O\", \"InChI=1S/C3H6N4O2S2/c1-7-2(4)10-3(6-7)11(5,8)9/h4H\", \"BWSMJWLWXNCHHP-UHFFFAOYSA-N\", \"10869\", \"5-imino-4-methyl-4,5-dihydro-1,3,4-thiadiazole-2-s\", \"Carbonic anhydrase 1\", \"Homo sapiens\", NaN, NaN, \"ChEMBL\", \"10.1016/j.bmcl.2016.02.032\", \"26920803\", \"\", \"\", \"Eminoglu, A; Vullo, D; Asik, A; \\u00c7olak, DN; \\u00c7anak\\u00e7i\", \"Recep Tayyip Erdogan University\", \"http://www.bindingdb.org/bind/chemsearch/marvin/MolStructure.jsp?monomerid=10869\", \"http://www.bindingdb.org/jsp/dbsearch/PrimarySearch_ki.jsp?energyterm=kJ/mole&tag=pol&polymerid=1192&target=Carbonic+anhydrase+1&column=ki&startPg=0&Increment=50&submit=Search\", \"http://www.bindingdb.org/jsp/dbsearch/PrimarySearch_ki.jsp?energyterm=kJ/mole&tag=r21&monomerid=10869&enzyme=Carbonic+anhydrase+1&column=ki&startPg=0&Increment=50&submit=Search\", \"\", \"\", \"5172475\", \"46511440\", \"\", \"CHEMBL6753\", \"\", \"\", \"\", \"ZINC05423825\", 1, \"=\", 9300.0, \"\", NaN, \"\", NaN, \"11\", \"1\", \"0\", \"MASPDWGYDDKNGPEQWSKLYPIANGNNQSPVDIKTSETKHDTSLKPISV\", \"1CZM,1HCB,1HUG,1HUH,2FOY,2FW4,2IT4,2NMX,2NN1,2NN7,3LXE,3W6H,3W6I,4WR7,4WUP,4WUQ,5E2M,5GMM,6EVR,6EX1,6F3B,6FAF,6FAG,6G3V,6HWZ,6I0J,6I0L,6SWM,6XZE,6XZO,6XZS,6XZX,6XZY,6Y00,7Q0D\", \"Carbonic anhydrase 1\", \"CAH1_HUMAN\", \"P00915\", \"\", \"\", \"\", \"\", \"V9HWE3\", \"\", \"\", \"261\"], [50095090, \"NCc1ccc(S(N)(=O)=O)cc1\", \"NCc1ccc(cc1)S(N)(=O)=O\", \"InChI=1S/C7H10N2O2S/c8-5-6-1-3-7(4-2-6)12(9,10)11/\", \"TYMRLRRVMHJFTF-UHFFFAOYSA-N\", \"10860\", \"4-(aminomethyl)benzene-1-sulfonamide::CHEMBL419::M\", \"Carbonic anhydrase 1\", \"Homo sapiens\", NaN, NaN, \"ChEMBL\", \"10.1016/j.bmc.2014.03.041\", \"24746465\", \"\", \"\", \"Nasr, G; Cristian, A; Barboiu, M; Vullo, D; Winum,\", \"ENSCM/UMII/UMR-CNRS 5635\", \"http://www.bindingdb.org/bind/chemsearch/marvin/MolStructure.jsp?monomerid=10860\", \"http://www.bindingdb.org/jsp/dbsearch/PrimarySearch_ki.jsp?energyterm=kJ/mole&tag=pol&polymerid=1192&target=Carbonic+anhydrase+1&column=ki&startPg=0&Increment=50&submit=Search\", \"http://www.bindingdb.org/jsp/dbsearch/PrimarySearch_ki.jsp?energyterm=kJ/mole&tag=r21&monomerid=10860&enzyme=Carbonic+anhydrase+1&column=ki&startPg=0&Increment=50&submit=Search\", \"6LH\", \"5JNC\", \"3998\", \"46511432\", \"\", \"CHEMBL419\", \"DB06795\", \"\", \"C07106\", \"ZINC00001644\", 1, \"=\", 170.0, \"\", NaN, \"\", NaN, \"12\", \"1\", \"0\", \"MASPDWGYDDKNGPEQWSKLYPIANGNNQSPVDIKTSETKHDTSLKPISV\", \"1CZM,1HCB,1HUG,1HUH,2FOY,2FW4,2IT4,2NMX,2NN1,2NN7,3LXE,3W6H,3W6I,4WR7,4WUP,4WUQ,5E2M,5GMM,6EVR,6EX1,6F3B,6FAF,6FAG,6G3V,6HWZ,6I0J,6I0L,6SWM,6XZE,6XZO,6XZS,6XZX,6XZY,6Y00\", \"Carbonic anhydrase 1\", \"CAH1_HUMAN\", \"P00915\", \"\", \"\", \"\", \"\", \"V9HWE3\", \"\", \"\", \"261\"], [50310972, \"NCCC(=O)N[C@H](Cc1ccc(Cl)cc1Cl)C(=O)N1CCN(C2(CNCc3cccs3)CCCCC2)CC1\", \"NCCC(=O)N[C@H](Cc1ccc(Cl)cc1Cl)C(=O)N1CCN(CC1)C1(CNCc2cccs2)CCCCC1\", \"InChI=1S/C28H39Cl2N5O2S/c29-22-7-6-21(24(30)18-22)\", \"XQPGJXQZZJHBDT-RUZDIDTESA-N\", \"50168643\", \"3-Amino-N-{(R)-1-(2,4-dichloro-benzyl)-2-oxo-2-[4-\", \"Melanocortin receptor 5 (MC5R)\", \"\", NaN, NaN, \"ChEMBL\", \"10.1016/j.bmcl.2005.05.017\", \"15950470\", \"\", \"\", \"Tran, JA; Pontillo, J; Arellano, M; Fleck, BA; Tuc\", \"Neurocrine Biosciences Inc\", \"http://www.bindingdb.org/bind/chemsearch/marvin/MolStructure.jsp?monomerid=50168643\", \"http://www.bindingdb.org/jsp/dbsearch/PrimarySearch_ki.jsp?energyterm=kJ/mole&tag=pol&polymerid=9850&target=Melanocortin+receptor+5+%28MC5R%29&column=ki&startPg=0&Increment=50&submit=Search\", \"http://www.bindingdb.org/jsp/dbsearch/PrimarySearch_ki.jsp?energyterm=kJ/mole&tag=r21&monomerid=50168643&enzyme=Melanocortin+receptor+5+%28MC5R%29&column=ki&startPg=0&Increment=50&submit=Search\", \"\", \"\", \"44397304\", \"104053604\", \"\", \"CHEMBL365465\", \"\", \"\", \"\", \"ZINC28457820\", 1, \"=\", 1900.0, \"\", NaN, \"\", NaN, \"38\", \"1\", \"0\", \"MNSSFHLHFLDLNLNATEGNLSGPNVKNKSSPCEDMGIAVEVFLTLGVIS\", \"\", \"Melanocortin receptor 5\", \"MC5R_HUMAN\", \"P33032\", \"B0YJ34,Q502V1\", \"\", \"\", \"\", \"\", \"\", \"\", \"325\"], [51014575, \"Cc1noc(CNc2nc(N3CCN(C)CC3)nc3ccc(Cl)cc23)n1\", \"CN1CCN(CC1)c1nc(NCc2nc(C)no2)c2cc(Cl)ccc2n1\", \"InChI=1S/C17H20ClN7O/c1-11-20-15(26-23-11)10-19-16\", \"SYICWFONNQDEQH-UHFFFAOYSA-N\", \"50412517\", \"CHEMBL452870::VUF-10511\", \"Histamine H4 receptor\", \"Homo sapiens\", NaN, NaN, \"ChEMBL\", \"10.1021/jm901379s\", \"20192225\", \"\", \"\", \"Smits, RA; Adami, M; Istyastono, EP; Zuiderveld, O\", \"Griffin Discoveries BV\", \"http://www.bindingdb.org/bind/chemsearch/marvin/MolStructure.jsp?monomerid=50412517\", \"http://www.bindingdb.org/jsp/dbsearch/PrimarySearch_ki.jsp?energyterm=kJ/mole&tag=pol&polymerid=2289&target=Histamine+H4+receptor&column=ki&startPg=0&Increment=50&submit=Search\", \"http://www.bindingdb.org/jsp/dbsearch/PrimarySearch_ki.jsp?energyterm=kJ/mole&tag=r21&monomerid=50412517&enzyme=Histamine+H4+receptor&column=ki&startPg=0&Increment=50&submit=Search\", \"\", \"\", \"25178554\", \"163361541\", \"\", \"CHEMBL452870\", \"\", \"\", \"\", \"ZINC40380636\", 1, \"=\", 371.54, \"\", NaN, \"\", NaN, \"26\", \"1\", \"0\", \"MPDTNSTINLSLSTRVTLAFFMSLVAFAIMLGNALVILAFVVDKNLRHRS\", \"\", \"Histamine H4 receptor\", \"HRH4_HUMAN\", \"Q9H3N8\", \"B0YJ19,B2KJ48,Q4G0I6,Q9GZQ0\", \"\", \"\", \"\", \"\", \"\", \"\", \"390\"], [51200790, \"CCCc1cc(=O)[nH]c(SCC(=O)c2cccc(S(N)(=O)=O)c2)n1\", \"CCCc1cc(=O)[nH]c(SCC(=O)c2cccc(c2)S(N)(=O)=O)n1\", \"InChI=1S/C15H17N3O4S2/c1-2-4-11-8-14(20)18-15(17-1\", \"JUIQIWDOYNVARP-UHFFFAOYSA-N\", \"50494023\", \"CHEMBL2443199\", \"Carbonic anhydrase\", \"\", NaN, NaN, \"ChEMBL\", \"10.1016/j.bmc.2013.09.029\", \"24103428\", \"\", \"\", \"\\u010capkauskait\\u0117, E; Zubrien\\u0117, A; Smirnov, A; Torresan\", \"Vilnius University\", \"http://www.bindingdb.org/bind/chemsearch/marvin/MolStructure.jsp?monomerid=50494023\", \"http://www.bindingdb.org/jsp/dbsearch/PrimarySearch_ki.jsp?energyterm=kJ/mole&tag=pol&polymerid=10134&target=Carbonic+anhydrase&column=ki&startPg=0&Increment=50&submit=Search\", \"http://www.bindingdb.org/jsp/dbsearch/PrimarySearch_ki.jsp?energyterm=kJ/mole&tag=r21&monomerid=50494023&enzyme=Carbonic+anhydrase&column=ki&startPg=0&Increment=50&submit=Search\", \"\", \"\", \"136244531\", \"433961288\", \"\", \"\", \"\", \"\", \"\", \"\", 1, \"=\", 833.0, \"\", NaN, \"\", NaN, \"24\", \"1\", \"0\", \"MSRLSWGYREHNGPIHWKEFFPIADGDQQSPIEIKTKEVKYDSSLRPLSI\", \"3CZV,3D0N,3DA2,4HU1,4KNM,4KNN,4QIZ,4QJP,4QJX,4QSJ,5E2N,5LLA,5LLN,5OGJ,5OHH,6G5U\", \"Carbonic anhydrase 13\", \"CAH13_HUMAN\", \"Q8N1Q1\", \"\", \"\", \"\", \"\", \"\", \"\", \"\", \"262\"], [50911064, \"O=C(c1ccc(F)cc1)C1(c2ccccc2)CCN([C@@H]2Cc3ccccc3C[C@H]2O)CC1\", \"O[C@@H]1Cc2ccccc2C[C@H]1N1CCC(CC1)(C(=O)c1ccc(F)cc1)c1ccccc1\", \"InChI=1S/C28H28FNO2/c29-24-12-10-20(11-13-24)27(32\", \"JYKKXZWIXQKXKL-CLJLJLNGSA-N\", \"50378714\", \"CHEMBL1204028\", \"Vesicular acetylcholine transporter\", \"Torpedo californica\", NaN, NaN, \"ChEMBL\", \"10.1021/jm9017916\", \"20218624\", \"\", \"\", \"Efange, SM; Khare, AB; von Hohenberg, K; Mach, RH;\", \"University of Minnesota\", \"http://www.bindingdb.org/bind/chemsearch/marvin/MolStructure.jsp?monomerid=50378714\", \"http://www.bindingdb.org/jsp/dbsearch/PrimarySearch_ki.jsp?energyterm=kJ/mole&tag=pol&polymerid=50000354&target=Vesicular+acetylcholine+transporter&column=ki&startPg=0&Increment=50&submit=Search\", \"http://www.bindingdb.org/jsp/dbsearch/PrimarySearch_ki.jsp?energyterm=kJ/mole&tag=r21&monomerid=50378714&enzyme=Vesicular+acetylcholine+transporter&column=ki&startPg=0&Increment=50&submit=Search\", \"\", \"\", \"46196897\", \"160857797\", \"\", \"CHEMBL1204028\", \"\", \"\", \"\", \"ZINC49068883\", 1, \"=\", 1.83, \"\", NaN, \"\", NaN, \"32\", \"1\", \"0\", \"MGVTMAVGLAKAAMGKISSAIGERSKRISGAMNEPRRKRKILLVIVCIAM\", \"\", \"Vesicular acetylcholine transporter\", \"VACHT_TETCF\", \"P81721\", \"Q9PW50\", \"\", \"\", \"\", \"\", \"\", \"\", \"515\"], [717457, \"CCCC(=N)/C(Cl)=C(\\\\N)C(=O)Nc1ccc([C@@H]2CNCCO2)nc1\", \"CCCC(=N)C(\\\\Cl)=C(/N)C(=O)Nc1ccc(nc1)[C@@H]1CNCCO1\", \"InChI=1S/C16H22ClN5O2/c1-2-3-11(18)14(17)15(19)16(\", \"WUYBGYWODSBJRQ-WLVSHTQKSA-N\", \"362745\", \"4-Chloro-N-[6-[(2S)-morpholin-2-yl]-3-pyridyl]-3-p\", \"Trace amine-associated receptor 1\", \"Rattus norvegicus\", NaN, NaN, \"US Patent\", \"\", \"\", \"\", \"US9840501\", \"Galley, G; Pflieger, P; Norcross, R; Cecere, G; Sh\", \"Hoffmann-La Roche Inc\", \"http://www.bindingdb.org/bind/chemsearch/marvin/MolStructure.jsp?monomerid=362745\", \"http://www.bindingdb.org/jsp/dbsearch/PrimarySearch_ki.jsp?energyterm=kJ/mole&tag=pol&polymerid=5893&target=Trace+amine-associated+receptor+1&column=ki&startPg=0&Increment=50&submit=Search\", \"http://www.bindingdb.org/jsp/dbsearch/PrimarySearch_ki.jsp?energyterm=kJ/mole&tag=r21&monomerid=362745&enzyme=Trace+amine-associated+receptor+1&column=ki&startPg=0&Increment=50&submit=Search\", \"\", \"\", \"145452912\", \"401958217\", \"\", \"\", \"\", \"\", \"\", \"\", 1, \"=\", 14.6, \"\", NaN, \"\", NaN, \"24\", \"1\", \"0\", \"MHLCHNSANISHTNSNWSRDVRASLYSLISLIILTTLVGNLIVIISISHF\", \"\", \"Trace amine-associated receptor 1\", \"TAAR1_RAT\", \"Q923Y9\", \"Q5QD26,Q8VHQ5\", \"\", \"\", \"\", \"\", \"\", \"\", \"332\"], [50051924, \"CCOc1ccc(-c2oc3cc(OCC)cc(OCC)c3c(=O)c2OCC)c(OCC)c1\", \"CCOc1ccc(c(OCC)c1)-c1oc2cc(OCC)cc(OCC)c2c(=O)c1OCC\", \"InChI=1S/C25H30O7/c1-6-27-16-11-12-18(19(13-16)29-\", \"JVGSHXMDRPGOQM-UHFFFAOYSA-N\", \"50051357\", \"2-(2,4-Diethoxy-phenyl)-3,5,7-triethoxy-chromen-4-\", \"Adenosine receptor A3\", \"Homo sapiens\", NaN, NaN, \"ChEMBL\", \"10.1021/jm970446z\", \"9438021\", \"\", \"\", \"Moro, S; van Rhee, AM; Sanders, LH; Jacobson, KA\", \"National Institute of Diabetes\", \"http://www.bindingdb.org/bind/chemsearch/marvin/MolStructure.jsp?monomerid=50051357\", \"http://www.bindingdb.org/jsp/dbsearch/PrimarySearch_ki.jsp?energyterm=kJ/mole&tag=pol&polymerid=2135&target=Adenosine+receptor+A3&column=ki&startPg=0&Increment=50&submit=Search\", \"http://www.bindingdb.org/jsp/dbsearch/PrimarySearch_ki.jsp?energyterm=kJ/mole&tag=r21&monomerid=50051357&enzyme=Adenosine+receptor+A3&column=ki&startPg=0&Increment=50&submit=Search\", \"\", \"\", \"10813088\", \"103948355\", \"\", \"CHEMBL74505\", \"\", \"398\", \"\", \"ZINC13776552\", 1, \"=\", 7244.0, \"\", NaN, \"\", NaN, \"32\", \"1\", \"0\", \"MPNNSTALSLANVTYITMEIFIGLCAIVGNVLVICVVKLNPSLQTTTFYF\", \"\", \"Adenosine receptor A3\", \"AA3R_HUMAN\", \"P0DMS8\", \"A2A3P4,P33765,Q6UWU0,Q9BYZ1\", \"\", \"\", \"\", \"\", \"\", \"\", \"318\"], [51320909, \"CC(=O)Nc1nnc(S(N)(=O)=O)s1\", \"CC(=O)Nc1nnc(s1)S(N)(=O)=O\", \"InChI=1S/C4H6N4O3S2/c1-2(9)6-3-7-8-4(12-3)13(5,10)\", \"BZKPWHYZMXOIDC-UHFFFAOYSA-N\", \"10880\", \"AZA::AZA2::AZM acetazolamide::Acerazolamide, AAZ::\", \"Carbonic anhydrase\", \"Homo sapiens\", NaN, NaN, \"ChEMBL\", \"10.1016/j.bmcl.2016.07.015\", \"27423482\", \"\", \"\", \"Riafrecha, LE; Bua, S; Supuran, CT; Colinas, PA\", \"Universidad Nacional de La Plata\", \"http://www.bindingdb.org/bind/chemsearch/marvin/MolStructure.jsp?monomerid=10880\", \"http://www.bindingdb.org/jsp/dbsearch/PrimarySearch_ki.jsp?energyterm=kJ/mole&tag=pol&polymerid=1192&target=Carbonic+anhydrase&column=ki&startPg=0&Increment=50&submit=Search\", \"http://www.bindingdb.org/jsp/dbsearch/PrimarySearch_ki.jsp?energyterm=kJ/mole&tag=r21&monomerid=10880&enzyme=Carbonic+anhydrase&column=ki&startPg=0&Increment=50&submit=Search\", \"AZM\", \"4YGF,3W6H,3CZV,3V2J,3V2M,4G7A,4X5S,6QEB,1YDB,1YDA,\", \"1986\", \"46511450\", \"27690\", \"CHEMBL20\", \"DB00819\", \"6792\", \"C06805\", \"ZINC03813042\", 1, \"=\", 250.0, \"\", NaN, \"\", NaN, \"13\", \"1\", \"0\", \"MASPDWGYDDKNGPEQWSKLYPIANGNNQSPVDIKTSETKHDTSLKPISV\", \"1CZM,1HCB,1HUG,1HUH,2FOY,2FW4,2IT4,2NMX,2NN1,2NN7,3LXE,3W6H,3W6I,4WR7,4WUP,4WUQ,5E2M,5GMM,6EVR,6EX1,6F3B,6FAF,6FAG,6G3V,6HWZ,6I0J,6I0L,6SWM,6XZE,6XZO,6XZS,6XZX,6XZY,6Y00,7Q0D\", \"Carbonic anhydrase 1\", \"CAH1_HUMAN\", \"P00915\", \"\", \"\", \"\", \"\", \"V9HWE3\", \"\", \"\", \"261\"], [50411815, \"COc1cc(CN(C)C)ccc1OCC(=O)Nc1cc(-n2nc(C)cc2C)nc(-c2ccc(C)o2)n1\", \"COc1cc(CN(C)C)ccc1OCC(=O)Nc1cc(nc(n1)-c1ccc(C)o1)-n1nc(C)cc1C\", \"InChI=1S/C26H30N6O4/c1-16-11-17(2)32(30-16)24-13-2\", \"VDDMGPIPCZFWJX-UHFFFAOYSA-N\", \"50237067\", \"CHEMBL429125::N-(6-(3,5-dimethyl-1H-pyrazol-1-yl)-\", \"Adenosine receptor A1\", \"Homo sapiens\", NaN, NaN, \"ChEMBL\", \"10.1016/j.bmcl.2008.02.032\", \"18329269\", \"\", \"\", \"Zhang, X; Rueter, JK; Chen, Y; Moorjani, M; Lanier\", \"Neurocrine Biosciences Inc\", \"http://www.bindingdb.org/bind/chemsearch/marvin/MolStructure.jsp?monomerid=50237067\", \"http://www.bindingdb.org/jsp/dbsearch/PrimarySearch_ki.jsp?energyterm=kJ/mole&tag=pol&polymerid=2129&target=Adenosine+receptor+A1&column=ki&startPg=0&Increment=50&submit=Search\", \"http://www.bindingdb.org/jsp/dbsearch/PrimarySearch_ki.jsp?energyterm=kJ/mole&tag=r21&monomerid=50237067&enzyme=Adenosine+receptor+A1&column=ki&startPg=0&Increment=50&submit=Search\", \"\", \"\", \"24739310\", \"104056381\", \"\", \"CHEMBL429125\", \"\", \"\", \"\", \"ZINC29041704\", 1, \"=\", 100.0, \"\", NaN, \"\", NaN, \"36\", \"1\", \"0\", \"MPPSISAFQAAYIGIEVLIALVSVPGNVLVIWAVKVNQALRDATFCFIVS\", \"5UEN,6D9H,7LD3,7LD4\", \"Adenosine receptor A1\", \"AA1R_HUMAN\", \"P30542\", \"A6NFY5,A6NGP4,A8K1L3,B3KXQ4,D2CGD0,Q6FHK3,Q8TAM8\", \"\", \"\", \"\", \"\", \"\", \"\", \"326\"], [274845, \"C=C=CCn1cc(C(C)(C)C)s/c1=N\\\\C(=O)c1cc(C(F)(F)F)ccc1ONC(C)(C)C\", \"CC(C)(C)NOc1ccc(cc1C(=O)\\\\N=c1/sc(cn1CC=C=C)C(C)(C)C)C(F)(F)F\", \"InChI=1S/C23H28F3N3O2S/c1-8-9-12-29-14-18(21(2,3)4\", \"GFKKDTNRTUYVQT-OOAXWGSJSA-N\", \"139901\", \"US8895592, 31\", \"Cannabinoid receptor 2\", \"Homo sapiens\", NaN, NaN, \"US Patent\", \"\", \"\", \"\", \"US8895592\", \"Frost, JM; Latshaw, SP; Dart, MJ; Carroll, WA; Per\", \"AbbVie Inc\", \"http://www.bindingdb.org/bind/chemsearch/marvin/MolStructure.jsp?monomerid=139901\", \"http://www.bindingdb.org/jsp/dbsearch/PrimarySearch_ki.jsp?energyterm=kJ/mole&tag=pol&polymerid=2137&target=Cannabinoid+receptor+2&column=ki&startPg=0&Increment=50&submit=Search\", \"http://www.bindingdb.org/jsp/dbsearch/PrimarySearch_ki.jsp?energyterm=kJ/mole&tag=r21&monomerid=139901&enzyme=Cannabinoid+receptor+2&column=ki&startPg=0&Increment=50&submit=Search\", \"\", \"\", \"46834383\", \"250184206\", \"\", \"\", \"\", \"\", \"\", \"\", 1, \"=\", 17.0, \"\", NaN, \"\", NaN, \"32\", \"1\", \"0\", \"MEECWVTEIANGSKDGLDSNPMKDYMILSGPQKTAVAVLCTLLGLLSALE\", \"5ZTY,6KPC,6KPF,6PT0\", \"Cannabinoid receptor 2\", \"CNR2_HUMAN\", \"P34972\", \"C6ES44,Q4VBK8,Q5JRH7,Q6B0G7,Q6NSY0\", \"\", \"\", \"\", \"A0A024RAH7\", \"\", \"\", \"360\"], [51161334, \"NCCCC(=O)Nc1ccc(S(=O)(=O)Nc2ccc(S(N)(=O)=O)cc2)cc1\", \"NCCCC(=O)Nc1ccc(cc1)S(=O)(=O)Nc1ccc(cc1)S(N)(=O)=O\", \"InChI=1S/C16H20N4O5S2/c17-11-1-2-16(21)19-12-3-9-1\", \"LMHKYOZSYLBIND-UHFFFAOYSA-N\", \"50415853\", \"CHEMBL205107\", \"Carbonic anhydrase\", \"Homo sapiens\", NaN, NaN, \"ChEMBL\", \"10.1016/j.bmcl.2005.08.071\", \"16458003\", \"\", \"\", \"Agrawal, VK; Singh, J; Khadikar, PV; Supuran, CT\", \"A.P.S. University\", \"http://www.bindingdb.org/bind/chemsearch/marvin/MolStructure.jsp?monomerid=50415853\", \"http://www.bindingdb.org/jsp/dbsearch/PrimarySearch_ki.jsp?energyterm=kJ/mole&tag=pol&polymerid=1192&target=Carbonic+anhydrase&column=ki&startPg=0&Increment=50&submit=Search\", \"http://www.bindingdb.org/jsp/dbsearch/PrimarySearch_ki.jsp?energyterm=kJ/mole&tag=r21&monomerid=50415853&enzyme=Carbonic+anhydrase&column=ki&startPg=0&Increment=50&submit=Search\", \"\", \"\", \"10740410\", \"163364877\", \"\", \"CHEMBL205107\", \"\", \"\", \"\", \"ZINC40556667\", 1, \"=\", 63008620000.0, \"\", NaN, \"\", NaN, \"27\", \"1\", \"0\", \"MASPDWGYDDKNGPEQWSKLYPIANGNNQSPVDIKTSETKHDTSLKPISV\", \"1CZM,1HCB,1HUG,1HUH,2FOY,2FW4,2IT4,2NMX,2NN1,2NN7,3LXE,3W6H,3W6I,4WR7,4WUP,4WUQ,5E2M,5GMM,6EVR,6EX1,6F3B,6FAF,6FAG,6G3V,6HWZ,6I0J,6I0L,6SWM,6XZE,6XZO,6XZS,6XZX,6XZY,6Y00,7Q0D\", \"Carbonic anhydrase 1\", \"CAH1_HUMAN\", \"P00915\", \"\", \"\", \"\", \"\", \"V9HWE3\", \"\", \"\", \"261\"], [50258844, \"NS(=O)(=O)c1ccc(CCNC(=O)CCCNC(=O)NCc2ccccc2)cc1\", \"NS(=O)(=O)c1ccc(CCNC(=O)CCCNC(=O)NCc2ccccc2)cc1\", \"InChI=1S/C20H26N4O4S/c21-29(27,28)18-10-8-16(9-11-\", \"FQRCKFLQNUDOSU-UHFFFAOYSA-N\", \"50040430\", \"CHEMBL3360589\", \"Carbonic anhydrase 1\", \"Homo sapiens\", NaN, NaN, \"ChEMBL\", \"10.1016/j.bmc.2014.10.041\", \"25468040\", \"\", \"\", \"Ceruso, M; Antel, S; Vullo, D; Scozzafava, A; Supu\", \"TBA\", \"http://www.bindingdb.org/bind/chemsearch/marvin/MolStructure.jsp?monomerid=50040430\", \"http://www.bindingdb.org/jsp/dbsearch/PrimarySearch_ki.jsp?energyterm=kJ/mole&tag=pol&polymerid=1192&target=Carbonic+anhydrase+1&column=ki&startPg=0&Increment=50&submit=Search\", \"http://www.bindingdb.org/jsp/dbsearch/PrimarySearch_ki.jsp?energyterm=kJ/mole&tag=r21&monomerid=50040430&enzyme=Carbonic+anhydrase+1&column=ki&startPg=0&Increment=50&submit=Search\", \"\", \"\", \"118724330\", \"313067453\", \"\", \"CHEMBL3360589\", \"\", \"\", \"\", \"\", 1, \"=\", 214.0, \"\", NaN, \"\", NaN, \"29\", \"1\", \"0\", \"MASPDWGYDDKNGPEQWSKLYPIANGNNQSPVDIKTSETKHDTSLKPISV\", \"1CZM,1HCB,1HUG,1HUH,2FOY,2FW4,2IT4,2NMX,2NN1,2NN7,3LXE,3W6H,3W6I,4WR7,4WUP,4WUQ,5E2M,5GMM,6EVR,6EX1,6F3B,6FAF,6FAG,6G3V,6HWZ,6I0J,6I0L,6SWM,6XZE,6XZO,6XZS,6XZX,6XZY,6Y00,7Q0D\", \"Carbonic anhydrase 1\", \"CAH1_HUMAN\", \"P00915\", \"\", \"\", \"\", \"\", \"V9HWE3\", \"\", \"\", \"261\"], [50999009, \"c1ccc2c(NCCc3ccc(OCCCN4CCCCC4)cc3)c3c(nc2c1)CCCC3\", \"C(COc1ccc(CCNc2c3CCCCc3nc3ccccc23)cc1)CN1CCCCC1\", \"InChI=1S/C29H37N3O/c1-6-19-32(20-7-1)21-8-22-33-24\", \"IBPWGZKZWJYGLA-UHFFFAOYSA-N\", \"50110300\", \"CHEMBL15056::N-(4-(3-(piperidin-1-yl)propoxy)phene\", \"Histamine H1 receptor\", \"Cavia porcellus\", NaN, NaN, \"ChEMBL\", \"10.1021/jm0110845\", \"11855993\", \"\", \"\", \"Apelt, J; Ligneau, X; Pertz, HH; Arrang, JM; Ganel\", \"Freie Universit&#228;t Berlin\", \"http://www.bindingdb.org/bind/chemsearch/marvin/MolStructure.jsp?monomerid=50110300\", \"http://www.bindingdb.org/jsp/dbsearch/PrimarySearch_ki.jsp?energyterm=kJ/mole&tag=pol&polymerid=2296&target=Histamine+H1+receptor&column=ki&startPg=0&Increment=50&submit=Search\", \"http://www.bindingdb.org/jsp/dbsearch/PrimarySearch_ki.jsp?energyterm=kJ/mole&tag=r21&monomerid=50110300&enzyme=Histamine+H1+receptor&column=ki&startPg=0&Increment=50&submit=Search\", \"\", \"\", \"11004759\", \"104005123\", \"\", \"CHEMBL15056\", \"\", \"\", \"\", \"ZINC13472674\", 1, \"=\", 10000.0, \"\", NaN, \"\", NaN, \"33\", \"1\", \"0\", \"MSFLPGMTPVTLSNFSWALEDRMLEGNSTTTPTRQLMPLVVVLSSVSLVT\", \"\", \"Histamine H1 receptor\", \"HRH1_CAVPO\", \"P31389\", \"\", \"\", \"\", \"\", \"\", \"\", \"\", \"488\"], [50502220, \"Cc1cc(CSc2nc3c(=O)[nH]c(N)nc3[nH]2)ccc1F\", \"Cc1cc(CSc2nc3c(nc(N)[nH]c3=O)[nH]2)ccc1F\", \"InChI=1S/C13H12FN5OS/c1-6-4-7(2-3-8(6)14)5-21-13-1\", \"TXHHWAFVWZXJEA-UHFFFAOYSA-N\", \"50181519\", \"CHEMBL3819017\", \"2-amino-4-hydroxy-6-hydroxymethyldihydropteridine pyrophosphokinase\", \"\", NaN, NaN, \"ChEMBL\", \"10.1021/acs.jmedchem.6b00002\", \"27094768\", \"\", \"\", \"Dennis, ML; Pitcher, NP; Lee, MD; DeBono, AJ; Wang\", \"Monash University\", \"http://www.bindingdb.org/bind/chemsearch/marvin/MolStructure.jsp?monomerid=50181519\", \"http://www.bindingdb.org/jsp/dbsearch/PrimarySearch_ki.jsp?energyterm=kJ/mole&tag=pol&polymerid=50007127&target=2-amino-4-hydroxy-6-hydroxymethyldihydropteridine+pyrophosphokinase&column=ki&startPg=0&Increment=50&submit=Search\", \"http://www.bindingdb.org/jsp/dbsearch/PrimarySearch_ki.jsp?energyterm=kJ/mole&tag=r21&monomerid=50181519&enzyme=2-amino-4-hydroxy-6-hydroxymethyldihydropteridine+pyrophosphokinase&column=ki&startPg=0&Increment=50&submit=Search\", \"\", \"\", \"127050620\", \"104066357\", \"\", \"CHEMBL3819017\", \"\", \"\", \"\", \"ZINC13680323\", 1, \"=\", 10100.0, \"\", NaN, \"\", NaN, \"21\", \"1\", \"0\", \"MTVAYIAIGSNLASPLEQVNAALKALGDIPESHILTVSSFYRTPPLGPQD\", \"1EQ0,1EQM,1EX8,1HKA,1Q0N,1RAO,1RB0,1RTZ,1RU1,1RU2,2F63,2F65,3IP0,3UD5,3UDE,3UDV,4F7V,4M5G,4M5H,4M5I,4M5J,4M5K,4M5L,4M5M,4M5N,5ETK,5ETL,5ETM,5ETN,5ETO,5ETP,6AN4,6AN6,7KDO,7KDR\", \"2-amino-4-hydroxy-6-hydroxymethyldihydropteridine pyrophosphokinase\", \"HPPK_ECOLI\", \"P26281\", \"\", \"\", \"\", \"\", \"\", \"\", \"\", \"159\"], [50508227, \"CC(C)N1C[C@H]2CCN(c3ccc(-c4ccc(C#N)cc4)cc3)[C@H]2C1\", \"CC(C)N1C[C@H]2CCN([C@H]2C1)c1ccc(cc1)-c1ccc(cc1)C#N\", \"InChI=1S/C22H25N3/c1-16(2)24-14-20-11-12-25(22(20)\", \"MMWVEAWQNYFYOU-IRLDBZIGSA-N\", \"50294070\", \"4'-[(3aR,6aR)-5-Isopropylhexahydropyrrolo[3,4-b]py\", \"Histamine H3 receptor\", \"Homo sapiens\", NaN, NaN, \"ChEMBL\", \"10.1021/jm900480x\", \"19588934\", \"\", \"\", \"Zhao, C; Sun, M; Bennani, YL; Miller, TR; Witte, D\", \"Abbott Laboratories\", \"http://www.bindingdb.org/bind/chemsearch/marvin/MolStructure.jsp?monomerid=50294070\", \"http://www.bindingdb.org/jsp/dbsearch/PrimarySearch_ki.jsp?energyterm=kJ/mole&tag=pol&polymerid=2288&target=Histamine+H3+receptor&column=ki&startPg=0&Increment=50&submit=Search\", \"http://www.bindingdb.org/jsp/dbsearch/PrimarySearch_ki.jsp?energyterm=kJ/mole&tag=r21&monomerid=50294070&enzyme=Histamine+H3+receptor&column=ki&startPg=0&Increment=50&submit=Search\", \"\", \"\", \"24743988\", \"104135621\", \"\", \"CHEMBL559446\", \"\", \"\", \"\", \"ZINC62178479\", 1, \"=\", 42.7, \"\", NaN, \"\", NaN, \"25\", \"1\", \"0\", \"MERAPPDGPLNASGALAGEAAAAGGARGFSAAWTAVLAALMALLIVATVL\", \"\", \"Histamine H3 receptor\", \"HRH3_HUMAN\", \"Q9Y5N1\", \"Q4QRI7,Q9GZX2,Q9H4K8\", \"\", \"\", \"\", \"\", \"\", \"\", \"445\"], [50866597, \"CCN[C@H]1C[C@H](C)S(=O)(=O)c2sc(S(N)(=O)=O)cc21\", \"CCN[C@H]1C[C@H](C)S(=O)(=O)c2sc(cc12)S(N)(=O)=O\", \"InChI=1S/C10H16N2O4S3/c1-3-12-8-4-6(2)18(13,14)10-\", \"IAVUPMFITXYVAF-XPUUQOCRSA-N\", \"10884\", \"(2S,4S)-4-(ethylamino)-2-methyl-1,1-dioxo-2H,3H,4H\", \"Carbonic Anhydrase VB\", \"Homo sapiens\", NaN, NaN, \"ChEMBL\", \"10.1016/j.bmcl.2008.03.023\", \"18359629\", \"\", \"\", \"Di Fiore, A; Pedone, C; Antel, J; Waldeck, H; Witt\", \"Istituto di Biostrutture e Bioimmagini-CNR\", \"http://www.bindingdb.org/bind/chemsearch/marvin/MolStructure.jsp?monomerid=10884\", \"http://www.bindingdb.org/jsp/dbsearch/PrimarySearch_ki.jsp?energyterm=kJ/mole&tag=pol&polymerid=1229&target=Carbonic+Anhydrase+VB&column=ki&startPg=0&Increment=50&submit=Search\", \"http://www.bindingdb.org/jsp/dbsearch/PrimarySearch_ki.jsp?energyterm=kJ/mole&tag=r21&monomerid=10884&enzyme=Carbonic+Anhydrase+VB&column=ki&startPg=0&Increment=50&submit=Search\", \"ETS\", \"\", \"5284549\", \"46511454\", \"4702\", \"\", \"DB00869\", \"6810\", \"C06969\", \"ZINC01530621\", 1, \"=\", 33.0, \"\", NaN, \"\", NaN, \"19\", \"1\", \"0\", \"MVVMNSLRVILQASPGKLLWRKFQIPRFMPARPCSLYTCTYKTRNRALHP\", \"\", \"Carbonic anhydrase 5B, mitochondrial\", \"CAH5B_HUMAN\", \"Q9Y2D0\", \"A8K4T5\", \"\", \"\", \"\", \"A0A024RBW9\", \"\", \"\", \"317\"], [188748, \"CC(C)(C)CCC#C[C@@H]1C[C@H]1c1cnc[nH]1\", \"CC(C)(C)CCC#C[C@@H]1C[C@H]1c1cnc[nH]1\", \"InChI=1S/C14H20N2/c1-14(2,3)7-5-4-6-11-8-12(11)13-\", \"CVKJAXCQPFOAIN-VXGBXAGGSA-N\", \"50074629\", \"4-[(1R,2R)-2-(5,5-Dimethyl-hex-1-ynyl)-cyclopropyl\", \"Histamine H4 receptor\", \"Homo sapiens\", NaN, NaN, \"PDSP Ki\", \"10.1124/jpet.104.078303\", \"15608078\", \"\", \"\", \"Esbenshade, TA; Fox, GB; Krueger, KM; Miller, TR; \", \"Abbott Laboratories\", \"http://www.bindingdb.org/bind/chemsearch/marvin/MolStructure.jsp?monomerid=50074629\", \"http://www.bindingdb.org/jsp/dbsearch/PrimarySearch_ki.jsp?energyterm=kJ/mole&tag=pol&polymerid=2289&target=Histamine+H4+receptor&column=ki&startPg=0&Increment=50&submit=Search\", \"http://www.bindingdb.org/jsp/dbsearch/PrimarySearch_ki.jsp?energyterm=kJ/mole&tag=r21&monomerid=50074629&enzyme=Histamine+H4+receptor&column=ki&startPg=0&Increment=50&submit=Search\", \"\", \"\", \"6450823\", \"103967832\", \"\", \"CHEMBL278462\", \"\", \"\", \"\", \"\", 1, \"=\", 51.29, \"\", NaN, \"\", NaN, \"16\", \"1\", \"0\", \"MPDTNSTINLSLSTRVTLAFFMSLVAFAIMLGNALVILAFVVDKNLRHRS\", \"\", \"Histamine H4 receptor\", \"HRH4_HUMAN\", \"Q9H3N8\", \"B0YJ19,B2KJ48,Q4G0I6,Q9GZQ0\", \"\", \"\", \"\", \"\", \"\", \"\", \"390\"], [51160262, \"CN1CCC(CCc2c[nH]cn2)CC1\", \"CN1CCC(CCc2c[nH]cn2)CC1\", \"InChI=1S/C11H19N3/c1-14-6-4-10(5-7-14)2-3-11-8-12-\", \"HYCFLORUENSVSY-UHFFFAOYSA-N\", \"50475341\", \"CHEMBL175800\", \"Histamine H3 receptor\", \"Homo sapiens\", NaN, NaN, \"ChEMBL\", \"10.1021/jm049475h\", \"15771452\", \"\", \"\", \"Kitbunnadaj, R; Hashimoto, T; Poli, E; Zuiderveld,\", \"Vrije Universiteit Amsterdam\", \"http://www.bindingdb.org/bind/chemsearch/marvin/MolStructure.jsp?monomerid=50475341\", \"http://www.bindingdb.org/jsp/dbsearch/PrimarySearch_ki.jsp?energyterm=kJ/mole&tag=pol&polymerid=2288&target=Histamine+H3+receptor&column=ki&startPg=0&Increment=50&submit=Search\", \"http://www.bindingdb.org/jsp/dbsearch/PrimarySearch_ki.jsp?energyterm=kJ/mole&tag=r21&monomerid=50475341&enzyme=Histamine+H3+receptor&column=ki&startPg=0&Increment=50&submit=Search\", \"\", \"\", \"11739735\", \"433942606\", \"\", \"\", \"\", \"\", \"\", \"\", 1, \"=\", 50.0, \"\", NaN, \"\", NaN, \"14\", \"1\", \"0\", \"MERAPPDGPLNASGALAGEAAAAGGARGFSAAWTAVLAALMALLIVATVL\", \"\", \"Histamine H3 receptor\", \"HRH3_HUMAN\", \"Q9Y5N1\", \"Q4QRI7,Q9GZX2,Q9H4K8\", \"\", \"\", \"\", \"\", \"\", \"\", \"445\"], [50869902, \"CNC(=O)[C@@]12C[C@@H]1[C@@H](n1cnc3c(NC)nc(Cl)nc31)[C@H](O)[C@@H]2O\", \"CNC(=O)[C@@]12C[C@@H]1[C@H]([C@H](O)[C@@H]2O)n1cnc2c(NC)nc(Cl)nc12\", \"InChI=1S/C14H17ClN6O3/c1-16-10-6-11(20-13(15)19-10\", \"GOFNEDUSCHPEBQ-RGUAOFKASA-N\", \"50100416\", \"(1S,2R,3S,4R,5S)-4-(2-Chloro-6-methylamino-purin-9\", \"Adenosine receptor A2a and A3\", \"Rattus norvegicus\", NaN, NaN, \"ChEMBL\", \"10.1016/j.bmcl.2008.04.001\", \"18424135\", \"\", \"\", \"Melman, A; Gao, ZG; Kumar, D; Wan, TC; Gizewski, E\", \"National Institute of Diabetes and Digestive and Kidney Diseases\", \"http://www.bindingdb.org/bind/chemsearch/marvin/MolStructure.jsp?monomerid=50100416\", \"http://www.bindingdb.org/jsp/dbsearch/PrimarySearch_ki.jsp?energyterm=kJ/mole&tag=pol&polymerid=50001973&target=Adenosine+receptor+A2a+and+A3&column=ki&startPg=0&Increment=50&submit=Search\", \"http://www.bindingdb.org/jsp/dbsearch/PrimarySearch_ki.jsp?energyterm=kJ/mole&tag=r21&monomerid=50100416&enzyme=Adenosine+receptor+A2a+and+A3&column=ki&startPg=0&Increment=50&submit=Search\", \"\", \"\", \"10450691\", \"103997191\", \"\", \"CHEMBL283057\", \"\", \"\", \"\", \"ZINC13491495\", 1, \"=\", 160.0, \"\", NaN, \"\", NaN, \"24\", \"1\", \"0\", \"MKANNTTTSALWLQITYITMEAAIGLCAVVGNMLVIWVVKLNRTLRTTTF\", \"\", \"Adenosine receptor A3\", \"AA3R_RAT\", \"P28647\", \"Q63792\", \"\", \"\", \"\", \"\", \"\", \"\", \"320\"], [665456, \"O=S(=O)(c1ccccc1-c1ccc(-c2cnc3[nH]ccc3n2)c(F)c1)N1CCOCC1\", \"Fc1cc(ccc1-c1cnc2[nH]ccc2n1)-c1ccccc1S(=O)(=O)N1CCOCC1\", \"InChI=1S/C22H19FN4O3S/c23-18-13-15(5-6-17(18)20-14\", \"XKOQYOZAMKPNNW-UHFFFAOYSA-N\", \"168974\", \"US9079866, 375::US9745328, Compound 375::US9884878\", \"Flap endonuclease 1\", \"Homo sapiens\", NaN, NaN, \"US Patent\", \"\", \"\", \"\", \"US9745328\", \"Bacani, GM; Eccles, W; Fitzgerald, AE; Goldberg, S\", \"Janssen Pharmaceutica NV\", \"http://www.bindingdb.org/bind/chemsearch/marvin/MolStructure.jsp?monomerid=168974\", \"http://www.bindingdb.org/jsp/dbsearch/PrimarySearch_ki.jsp?energyterm=kJ/mole&tag=pol&polymerid=50003185&target=Flap+endonuclease+1&column=ki&startPg=0&Increment=50&submit=Search\", \"http://www.bindingdb.org/jsp/dbsearch/PrimarySearch_ki.jsp?energyterm=kJ/mole&tag=r21&monomerid=168974&enzyme=Flap+endonuclease+1&column=ki&startPg=0&Increment=50&submit=Search\", \"\", \"\", \"90314532\", \"312525888\", \"\", \"\", \"\", \"\", \"\", \"\", 1, \"=\", 2.0, \"\", NaN, \"\", NaN, \"31\", \"1\", \"0\", \"MGIQGLAKLIADVAPSAIRENDIKSYFGRKVAIDASMSIYQFLIAVRQGG\", \"1UL1,3Q8K,3Q8L,5FV7,5ZOD\", \"Flap endonuclease 1\", \"FEN1_HUMAN\", \"P39748\", \"\", \"\", \"\", \"\", \"Q6FHX6\", \"\", \"\", \"380\"], [50924538, \"COc1cc(F)c(F)cc1CNc1nc(Cl)nc2c1ncn2[C@H]1[C@H](O)[C@H](O)[C@@H]2C[C@@H]21\", \"COc1cc(F)c(F)cc1CNc1nc(Cl)nc2n(cnc12)[C@@H]1[C@H]2C[C@H]2[C@@H](O)[C@H]1O\", \"InChI=1S/C19H18ClF2N5O3/c1-30-12-4-11(22)10(21)2-7\", \"RWYGLZYBRQKSMG-HDUOCVEJSA-N\", \"50379112\", \"CHEMBL2012693\", \"Adenosine receptor A3\", \"Homo sapiens\", NaN, NaN, \"ChEMBL\", \"10.1021/ml200114q\", \"21858244\", \"\", \"\", \"Tosh, DK; Phan, K; Deflorian, F; Wei, Q; Gao, ZG; \", \"TBA\", \"http://www.bindingdb.org/bind/chemsearch/marvin/MolStructure.jsp?monomerid=50379112\", \"http://www.bindingdb.org/jsp/dbsearch/PrimarySearch_ki.jsp?energyterm=kJ/mole&tag=pol&polymerid=2135&target=Adenosine+receptor+A3&column=ki&startPg=0&Increment=50&submit=Search\", \"http://www.bindingdb.org/jsp/dbsearch/PrimarySearch_ki.jsp?energyterm=kJ/mole&tag=r21&monomerid=50379112&enzyme=Adenosine+receptor+A3&column=ki&startPg=0&Increment=50&submit=Search\", \"\", \"\", \"70681091\", \"160858195\", \"\", \"CHEMBL2012693\", \"\", \"\", \"\", \"ZINC84603378\", 1, \"=\", 40.4, \"\", NaN, \"\", NaN, \"30\", \"1\", \"0\", \"MPNNSTALSLANVTYITMEIFIGLCAIVGNVLVICVVKLNPSLQTTTFYF\", \"\", \"Adenosine receptor A3\", \"AA3R_HUMAN\", \"P0DMS8\", \"A2A3P4,P33765,Q6UWU0,Q9BYZ1\", \"\", \"\", \"\", \"\", \"\", \"\", \"318\"], [323708, \"Cc1ccc2[nH]c3c(c2c1)CCNC31CCC(c2ccccc2)(N(C)C)CC1\", \"CN(C)C1(CCC2(CC1)NCCc1c2[nH]c2ccc(C)cc12)c1ccccc1\", \"InChI=1S/C25H31N3/c1-18-9-10-22-21(17-18)20-11-16-\", \"BYACUNBCZFSQIX-UHFFFAOYSA-N\", \"177931\", \"US9120797, 29\", \"Opioid growth factor receptor-like protein 1\", \"Homo sapiens\", 7.4, 25.0, \"US Patent\", \"\", \"\", \"\", \"US9120797\", \"Hinze, C; Aulenbacher, O; Sundermann, B; Oberboers\", \"Gruenenthal GmbH\", \"http://www.bindingdb.org/bind/chemsearch/marvin/MolStructure.jsp?monomerid=177931\", \"http://www.bindingdb.org/jsp/dbsearch/PrimarySearch_ki.jsp?energyterm=kJ/mole&tag=pol&polymerid=5583&target=Opioid+growth+factor+receptor-like+protein+1&column=ki&startPg=0&Increment=50&submit=Search\", \"http://www.bindingdb.org/jsp/dbsearch/PrimarySearch_ki.jsp?energyterm=kJ/mole&tag=r21&monomerid=177931&enzyme=Opioid+growth+factor+receptor-like+protein+1&column=ki&startPg=0&Increment=50&submit=Search\", \"\", \"\", \"11956796\", \"313048395\", \"\", \"\", \"\", \"\", \"\", \"\", 1, \"=\", 32.0, \"\", NaN, \"\", NaN, \"28\", \"1\", \"0\", \"MGNLLGGVSFREPTTVEDCDSTWQTDSEPEPEEPGPGGGSEGPGQESEQP\", \"\", \"Opioid growth factor receptor-like protein 1\", \"OGRL1_HUMAN\", \"Q5TC84\", \"Q2TAC1,Q8NEQ4,Q9H7B5\", \"\", \"\", \"\", \"\", \"\", \"\", \"451\"], [51030134, \"CCN1CCN(c2nc(C)nc3nc(-c4ccccc4Cl)[nH]c23)CC1\", \"CCN1CCN(CC1)c1nc(C)nc2nc([nH]c12)-c1ccccc1Cl\", \"InChI=1S/C18H21ClN6/c1-3-24-8-10-25(11-9-24)18-15-\", \"BWTWHSMZCKTAOD-UHFFFAOYSA-N\", \"50387881\", \"CHEMBL2057799\", \"Cannabinoid receptor 2\", \"Homo sapiens\", NaN, NaN, \"ChEMBL\", \"10.1016/j.ejmech.2018.01.034\", \"29360044\", \"\", \"\", \"Tuo, W; Bollier, M; Leleu-Chavain, N; Lemaire, L; \", \"Univ. Lille\", \"http://www.bindingdb.org/bind/chemsearch/marvin/MolStructure.jsp?monomerid=50387881\", \"http://www.bindingdb.org/jsp/dbsearch/PrimarySearch_ki.jsp?energyterm=kJ/mole&tag=pol&polymerid=2137&target=Cannabinoid+receptor+2&column=ki&startPg=0&Increment=50&submit=Search\", \"http://www.bindingdb.org/jsp/dbsearch/PrimarySearch_ki.jsp?energyterm=kJ/mole&tag=r21&monomerid=50387881&enzyme=Cannabinoid+receptor+2&column=ki&startPg=0&Increment=50&submit=Search\", \"\", \"\", \"58459099\", \"160866964\", \"\", \"CHEMBL2057799\", \"\", \"\", \"\", \"ZINC84713786\", 1, \"=\", 51.0, \"\", NaN, \"\", NaN, \"25\", \"1\", \"0\", \"MEECWVTEIANGSKDGLDSNPMKDYMILSGPQKTAVAVLCTLLGLLSALE\", \"5ZTY,6KPC,6KPF,6PT0\", \"Cannabinoid receptor 2\", \"CNR2_HUMAN\", \"P34972\", \"C6ES44,Q4VBK8,Q5JRH7,Q6B0G7,Q6NSY0\", \"\", \"\", \"\", \"A0A024RAH7\", \"\", \"\", \"360\"], [50884495, \"Cc1c2c(n(-c3ccc(Cl)cc3Cl)c1-c1ccc(Cl)cc1)CCN(N1CCCCC1)C2=O\", \"Cc1c2c(CCN(N3CCCCC3)C2=O)n(c1-c1ccc(Cl)cc1)-c1ccc(Cl)cc1Cl\", \"InChI=1S/C25H24Cl3N3O/c1-16-23-22(11-14-30(25(23)3\", \"DNWHVDRGTKSNCK-UHFFFAOYSA-N\", \"50198507\", \"2-(4-chlorophenyl)-1-(2,4-dichlorophenyl)-3-methyl\", \"Cannabinoid receptor 2\", \"Homo sapiens\", NaN, NaN, \"ChEMBL\", \"10.1016/j.bmcl.2009.05.114\", \"19520572\", \"\", \"\", \"Foloppe, N; Benwell, K; Brooks, TD; Kennett, G; Kn\", \"Vernalis (R&D) Ltd\", \"http://www.bindingdb.org/bind/chemsearch/marvin/MolStructure.jsp?monomerid=50198507\", \"http://www.bindingdb.org/jsp/dbsearch/PrimarySearch_ki.jsp?energyterm=kJ/mole&tag=pol&polymerid=2137&target=Cannabinoid+receptor+2&column=ki&startPg=0&Increment=50&submit=Search\", \"http://www.bindingdb.org/jsp/dbsearch/PrimarySearch_ki.jsp?energyterm=kJ/mole&tag=r21&monomerid=50198507&enzyme=Cannabinoid+receptor+2&column=ki&startPg=0&Increment=50&submit=Search\", \"\", \"\", \"16659101\", \"104079475\", \"\", \"CHEMBL230356\", \"\", \"\", \"\", \"ZINC28706475\", 1, \"=\", 1300.0, \"\", NaN, \"\", NaN, \"32\", \"1\", \"0\", \"MEECWVTEIANGSKDGLDSNPMKDYMILSGPQKTAVAVLCTLLGLLSALE\", \"5ZTY,6KPC,6KPF,6PT0\", \"Cannabinoid receptor 2\", \"CNR2_HUMAN\", \"P34972\", \"C6ES44,Q4VBK8,Q5JRH7,Q6B0G7,Q6NSY0\", \"\", \"\", \"\", \"A0A024RAH7\", \"\", \"\", \"360\"], [50879890, \"NNC(=O)c1[nH]c2ccc(S(N)(=O)=O)cc2c1-c1ccccc1\", \"NNC(=O)c1[nH]c2ccc(cc2c1-c1ccccc1)S(N)(=O)=O\", \"InChI=1S/C15H14N4O3S/c16-19-15(20)14-13(9-4-2-1-3-\", \"PPDLAUCFAOODER-UHFFFAOYSA-N\", \"25904\", \"2-(hydrazinecarbonyl)-3-phenyl-1H-indole-5-sulfona\", \"Carbonic Anhydrase XIV\", \"Homo sapiens\", NaN, NaN, \"ChEMBL\", \"10.1016/j.bmcl.2009.01.038\", \"19186056\", \"\", \"\", \"Crocetti, L; Maresca, A; Temperini, C; Hall, RA; S\", \"Universit&#163; degli Studi di Firenze\", \"http://www.bindingdb.org/bind/chemsearch/marvin/MolStructure.jsp?monomerid=25904\", \"http://www.bindingdb.org/jsp/dbsearch/PrimarySearch_ki.jsp?energyterm=kJ/mole&tag=pol&polymerid=1365&target=Carbonic+Anhydrase+XIV&column=ki&startPg=0&Increment=50&submit=Search\", \"http://www.bindingdb.org/jsp/dbsearch/PrimarySearch_ki.jsp?energyterm=kJ/mole&tag=r21&monomerid=25904&enzyme=Carbonic+Anhydrase+XIV&column=ki&startPg=0&Increment=50&submit=Search\", \"TUO\", \"3B4F\", \"14611919\", \"56413192\", \"\", \"CHEMBL262628\", \"DB08659\", \"\", \"\", \"ZINC24959962\", 1, \"=\", 48.0, \"\", NaN, \"\", NaN, \"23\", \"1\", \"0\", \"MLFSALLLEVIWILAADGGQHWTYEGPHGQDHWPASYPECGNNAQSPIDI\", \"4LU3,5CJF\", \"Carbonic anhydrase 14\", \"CAH14_HUMAN\", \"Q9ULX7\", \"Q5TB24,Q8NCF4\", \"\", \"\", \"\", \"A8K3J4\", \"\", \"\", \"337\"], [50291413, \"NS(=O)(=O)c1c(F)c(F)c(-n2cc(-c3ccccc3)nn2)c(F)c1F\", \"NS(=O)(=O)c1c(F)c(F)c(c(F)c1F)-n1cc(nn1)-c1ccccc1\", \"InChI=1S/C14H8F4N4O2S/c15-9-11(17)14(25(19,23)24)1\", \"BQSMCBHXUFYLPL-UHFFFAOYSA-N\", \"50058940\", \"CHEMBL3326410\", \"Carbonic anhydrase 1\", \"Homo sapiens\", NaN, NaN, \"ChEMBL\", \"10.1021/ml500196t\", \"25147616\", \"\", \"\", \"Pala, N; Micheletto, L; Sechi, M; Aggarwal, M; Car\", \"Universit&#163; di Sassari\", \"http://www.bindingdb.org/bind/chemsearch/marvin/MolStructure.jsp?monomerid=50058940\", \"http://www.bindingdb.org/jsp/dbsearch/PrimarySearch_ki.jsp?energyterm=kJ/mole&tag=pol&polymerid=1192&target=Carbonic+anhydrase+1&column=ki&startPg=0&Increment=50&submit=Search\", \"http://www.bindingdb.org/jsp/dbsearch/PrimarySearch_ki.jsp?energyterm=kJ/mole&tag=r21&monomerid=50058940&enzyme=Carbonic+anhydrase+1&column=ki&startPg=0&Increment=50&submit=Search\", \"\", \"\", \"118711620\", \"103954842\", \"\", \"CHEMBL3326410\", \"\", \"\", \"\", \"\", 1, \"=\", 42.0, \"\", NaN, \"\", NaN, \"25\", \"1\", \"0\", \"MASPDWGYDDKNGPEQWSKLYPIANGNNQSPVDIKTSETKHDTSLKPISV\", \"1CZM,1HCB,1HUG,1HUH,2FOY,2FW4,2IT4,2NMX,2NN1,2NN7,3LXE,3W6H,3W6I,4WR7,4WUP,4WUQ,5E2M,5GMM,6EVR,6EX1,6F3B,6FAF,6FAG,6G3V,6HWZ,6I0J,6I0L,6SWM,6XZE,6XZO,6XZS,6XZX,6XZY,6Y00,7Q0D\", \"Carbonic anhydrase 1\", \"CAH1_HUMAN\", \"P00915\", \"\", \"\", \"\", \"\", \"V9HWE3\", \"\", \"\", \"261\"], [51261259, \"C#CCN(CC#C)CCc1ccc(S(N)(=O)=O)cc1\", \"NS(=O)(=O)c1ccc(CCN(CC#C)CC#C)cc1\", \"InChI=1S/C14H16N2O2S/c1-3-10-16(11-4-2)12-9-13-5-7\", \"REAJNGQFHWZSAP-UHFFFAOYSA-N\", \"50515301\", \"CHEMBL4566851\", \"Carbonic anhydrase\", \"Homo sapiens\", NaN, NaN, \"ChEMBL\", \"10.1021/acs.jmedchem.9b00845\", \"31287314\", \"\", \"\", \"Berrino, E; Milazzo, L; Micheli, L; Vullo, D; Ange\", \"Universit&#163; degli Studi di Firenze\", \"http://www.bindingdb.org/bind/chemsearch/marvin/MolStructure.jsp?monomerid=50515301\", \"http://www.bindingdb.org/jsp/dbsearch/PrimarySearch_ki.jsp?energyterm=kJ/mole&tag=pol&polymerid=1192&target=Carbonic+anhydrase&column=ki&startPg=0&Increment=50&submit=Search\", \"http://www.bindingdb.org/jsp/dbsearch/PrimarySearch_ki.jsp?energyterm=kJ/mole&tag=r21&monomerid=50515301&enzyme=Carbonic+anhydrase&column=ki&startPg=0&Increment=50&submit=Search\", \"\", \"\", \"86692720\", \"440723883\", \"\", \"\", \"\", \"\", \"\", \"\", 1, \"=\", 4014.0, \"\", NaN, \"\", NaN, \"19\", \"1\", \"0\", \"MASPDWGYDDKNGPEQWSKLYPIANGNNQSPVDIKTSETKHDTSLKPISV\", \"1CZM,1HCB,1HUG,1HUH,2FOY,2FW4,2IT4,2NMX,2NN1,2NN7,3LXE,3W6H,3W6I,4WR7,4WUP,4WUQ,5E2M,5GMM,6EVR,6EX1,6F3B,6FAF,6FAG,6G3V,6HWZ,6I0J,6I0L,6SWM,6XZE,6XZO,6XZS,6XZX,6XZY,6Y00,7Q0D\", \"Carbonic anhydrase 1\", \"CAH1_HUMAN\", \"P00915\", \"\", \"\", \"\", \"\", \"V9HWE3\", \"\", \"\", \"261\"], [50629872, \"CN(C)Cc1cccc(Oc2ccc3c(c2)B(O)OC3)c1\", \"CN(C)Cc1cccc(Oc2ccc3COB(O)c3c2)c1\", \"InChI=1S/C16H18BNO3/c1-18(2)10-12-4-3-5-14(8-12)21\", \"KNRDKVDONBYWOL-UHFFFAOYSA-N\", \"50339861\", \"6-(3-((dimethylamino)methyl)phenoxy)benzo[c][1,2]o\", \"Beta-lactamase\", \"Enterobacter cloacae\", NaN, NaN, \"ChEMBL\", \"10.1016/j.bmcl.2011.02.024\", \"21392987\", \"\", \"\", \"Xia, Y; Cao, K; Zhou, Y; Alley, MR; Rock, F; Mohan\", \"Anacor Pharmaceuticals Inc\", \"http://www.bindingdb.org/bind/chemsearch/marvin/MolStructure.jsp?monomerid=50339861\", \"http://www.bindingdb.org/jsp/dbsearch/PrimarySearch_ki.jsp?energyterm=kJ/mole&tag=pol&polymerid=50002394&target=Beta-lactamase&column=ki&startPg=0&Increment=50&submit=Search\", \"http://www.bindingdb.org/jsp/dbsearch/PrimarySearch_ki.jsp?energyterm=kJ/mole&tag=r21&monomerid=50339861&enzyme=Beta-lactamase&column=ki&startPg=0&Increment=50&submit=Search\", \"\", \"\", \"54581230\", \"131342797\", \"\", \"CHEMBL1761267\", \"\", \"\", \"\", \"\", 1, \"=\", 7720.0, \"\", NaN, \"\", NaN, \"21\", \"1\", \"0\", \"MMRKSLCCALLLGISCSALATPVSEKQLAEVVANTITPLMKAQSVPGMAV\", \"1XX2,2Q9M,2Q9N\", \"Beta-lactamase\", \"AMPC_ENTCL\", \"P05364\", \"\", \"\", \"\", \"\", \"\", \"\", \"\", \"381\"], [50754645, \"NS(=O)(=O)c1ccc(NC(=O)Nc2cccc(C(F)(F)F)c2F)cc1\", \"NS(=O)(=O)c1ccc(NC(=O)Nc2cccc(c2F)C(F)(F)F)cc1\", \"InChI=1S/C14H11F4N3O3S/c15-12-10(14(16,17)18)2-1-3\", \"GLXGGCNHVXMWIX-UHFFFAOYSA-N\", \"50240180\", \"CHEMBL4096209::US9962398, Compound MST-139\", \"Carbonic anhydrase\", \"Homo sapiens\", NaN, NaN, \"ChEMBL\", \"10.1016/j.bmc.2017.03.027\", \"28347633\", \"\", \"\", \"Carta, F; Vullo, D; Osman, SM; AlOthman, Z; Supura\", \"Universit&#163; degli Studi di Firenze\", \"http://www.bindingdb.org/bind/chemsearch/marvin/MolStructure.jsp?monomerid=50240180\", \"http://www.bindingdb.org/jsp/dbsearch/PrimarySearch_ki.jsp?energyterm=kJ/mole&tag=pol&polymerid=1192&target=Carbonic+anhydrase&column=ki&startPg=0&Increment=50&submit=Search\", \"http://www.bindingdb.org/jsp/dbsearch/PrimarySearch_ki.jsp?energyterm=kJ/mole&tag=r21&monomerid=50240180&enzyme=Carbonic+anhydrase&column=ki&startPg=0&Increment=50&submit=Search\", \"\", \"\", \"25167905\", \"85714847\", \"\", \"CHEMBL4096209\", \"\", \"\", \"\", \"\", 1, \"=\", 395.0, \"\", NaN, \"\", NaN, \"25\", \"1\", \"0\", \"MASPDWGYDDKNGPEQWSKLYPIANGNNQSPVDIKTSETKHDTSLKPISV\", \"1CZM,1HCB,1HUG,1HUH,2FOY,2FW4,2IT4,2NMX,2NN1,2NN7,3LXE,3W6H,3W6I,4WR7,4WUP,4WUQ,5E2M,5GMM,6EVR,6EX1,6F3B,6FAF,6FAG,6G3V,6HWZ,6I0J,6I0L,6SWM,6XZE,6XZO,6XZS,6XZX,6XZY,6Y00,7Q0D\", \"Carbonic anhydrase 1\", \"CAH1_HUMAN\", \"P00915\", \"\", \"\", \"\", \"\", \"V9HWE3\", \"\", \"\", \"261\"], [50041580, \"CCNC(=O)[C@H]1O[C@@H](n2cnc3c(N)ccnc32)[C@H](O)[C@@H]1O\", \"CCNC(=O)[C@H]1O[C@H]([C@H](O)[C@@H]1O)n1cnc2c(N)ccnc12\", \"InChI=1S/C13H17N5O4/c1-2-15-12(21)10-8(19)9(20)13(\", \"NSHHNLNMUXKWLG-MPXOCVNLSA-N\", \"50452519\", \"CHEMBL2113396\", \"Adenosine receptor A1\", \"Rattus norvegicus\", NaN, NaN, \"ChEMBL\", \"10.1021/jm00007a014\", \"7707320\", \"\", \"\", \"Siddiqi, SM; Jacobson, KA; Esker, JL; Olah, ME; Ji\", \"National Institute of Diabetes\", \"http://www.bindingdb.org/bind/chemsearch/marvin/MolStructure.jsp?monomerid=50452519\", \"http://www.bindingdb.org/jsp/dbsearch/PrimarySearch_ki.jsp?energyterm=kJ/mole&tag=pol&polymerid=5768&target=Adenosine+receptor+A1&column=ki&startPg=0&Increment=50&submit=Search\", \"http://www.bindingdb.org/jsp/dbsearch/PrimarySearch_ki.jsp?energyterm=kJ/mole&tag=r21&monomerid=50452519&enzyme=Adenosine+receptor+A1&column=ki&startPg=0&Increment=50&submit=Search\", \"\", \"\", \"14058271\", \"225145702\", \"\", \"CHEMBL2113396\", \"\", \"\", \"\", \"\", 1, \"=\", 51.0, \"\", NaN, \"\", NaN, \"22\", \"1\", \"0\", \"MPPYISAFQAAYIGIEVLIALVSVPGNVLVIWAVKVNQALRDATFCFIVS\", \"\", \"Adenosine receptor A1\", \"AA1R_RAT\", \"P25099\", \"\", \"\", \"\", \"\", \"\", \"\", \"\", \"326\"], [50736465, \"NS(=O)(=O)c1ccc(NC(=O)CN2CCN(Cc3ccccc3)CC2)cc1\", \"NS(=O)(=O)c1ccc(NC(=O)CN2CCN(Cc3ccccc3)CC2)cc1\", \"InChI=1S/C19H24N4O3S/c20-27(25,26)18-8-6-17(7-9-18\", \"VMBFFHZLNCWIEC-UHFFFAOYSA-N\", \"50237183\", \"CHEMBL1518113\", \"Carbonic anhydrase\", \"Homo sapiens\", NaN, NaN, \"ChEMBL\", \"10.1021/acs.jmedchem.6b01804\", \"28253618\", \"\", \"\", \"Mishra, CB; Kumari, S; Angeli, A; Monti, SM; Buona\", \"University of Delhi\", \"http://www.bindingdb.org/bind/chemsearch/marvin/MolStructure.jsp?monomerid=50237183\", \"http://www.bindingdb.org/jsp/dbsearch/PrimarySearch_ki.jsp?energyterm=kJ/mole&tag=pol&polymerid=1192&target=Carbonic+anhydrase&column=ki&startPg=0&Increment=50&submit=Search\", \"http://www.bindingdb.org/jsp/dbsearch/PrimarySearch_ki.jsp?energyterm=kJ/mole&tag=r21&monomerid=50237183&enzyme=Carbonic+anhydrase&column=ki&startPg=0&Increment=50&submit=Search\", \"\", \"\", \"2196398\", \"385213796\", \"\", \"CHEMBL1518113\", \"\", \"\", \"\", \"\", 1, \"=\", 220.0, \"\", NaN, \"\", NaN, \"27\", \"1\", \"0\", \"MASPDWGYDDKNGPEQWSKLYPIANGNNQSPVDIKTSETKHDTSLKPISV\", \"1CZM,1HCB,1HUG,1HUH,2FOY,2FW4,2IT4,2NMX,2NN1,2NN7,3LXE,3W6H,3W6I,4WR7,4WUP,4WUQ,5E2M,5GMM,6EVR,6EX1,6F3B,6FAF,6FAG,6G3V,6HWZ,6I0J,6I0L,6SWM,6XZE,6XZO,6XZS,6XZX,6XZY,6Y00,7Q0D\", \"Carbonic anhydrase 1\", \"CAH1_HUMAN\", \"P00915\", \"\", \"\", \"\", \"\", \"V9HWE3\", \"\", \"\", \"261\"], [50122199, \"Cc1c(-c2ccc(-c3ccccc3F)cc2)nc2ccc(F)cc2c1C(=O)[O-]\", \"Cc1c(nc2ccc(F)cc2c1C([O-])=O)-c1ccc(cc1)-c1ccccc1F\", \"InChI=1S/C23H15F2NO2/c1-13-21(23(27)28)18-12-16(24\", \"PHEZJEYUWHETKO-UHFFFAOYSA-M\", \"50069959\", \"Brequinar sodium::CHEMBL300058::Sodium; 6-fluoro-2\", \"Dihydroorotate dehydrogenase\", \"Homo sapiens\", NaN, NaN, \"ChEMBL\", \"10.1016/s0960-894x(98)00308-4\", \"9873427\", \"\", \"\", \"Batt, DG; Petraitis, JJ; Sherk, SR; Copeland, RA; \", \"DuPont Pharmaceuticals Company\", \"http://www.bindingdb.org/bind/chemsearch/marvin/MolStructure.jsp?monomerid=50069959\", \"http://www.bindingdb.org/jsp/dbsearch/PrimarySearch_ki.jsp?energyterm=kJ/mole&tag=pol&polymerid=5610&target=Dihydroorotate+dehydrogenase&column=ki&startPg=0&Increment=50&submit=Search\", \"http://www.bindingdb.org/jsp/dbsearch/PrimarySearch_ki.jsp?energyterm=kJ/mole&tag=r21&monomerid=50069959&enzyme=Dihydroorotate+dehydrogenase&column=ki&startPg=0&Increment=50&submit=Search\", \"\", \"\", \"86309017\", \"103963921\", \"\", \"CHEMBL300058\", \"\", \"\", \"\", \"ZINC01587011\", 1, \"=\", 12.0, \"\", NaN, \"\", NaN, \"28\", \"1\", \"0\", \"MAWRHLKKRAQDAVIILGGGGLLFASYLMATGDERFYAEHLMPTLQGLLD\", \"1D3G,1D3H,2B0M,2BXV,2FPT,2FPV,2FPY,2FQI,2PRH,2PRL,2PRM,2WV8,3F1Q,3FJ6,3FJL,3G0U,3G0X,3KVJ,3KVK,3KVL,3KVM,3U2O,3W7R,3ZWS,3ZWT,4IGH,4JGD,4JS3,4JTS,4JTT,4JTU,4LS0,4LS1,4LS2,4OQV,4RK8,4RKA,4RLI,4RR4,4YLW,4ZL1,4ZMG,5H2Z,5H73,5HIN,5HQE,5K9C,5K9D,5MUT,5MVC,5MVD,5ZF4,5ZF7,5ZF8,5ZF9,5ZFA,5ZFB,6CJF,6CJG,6ET4,6FMD,6GK0,6IDJ,6J3B,6J3C,6JMD,6JME,6LP6,6LP7,6LP8,6LZL,6M2B,6QU7,6VND,7K2U\", \"Dihydroorotate dehydrogenase (quinone), mitochondrial\", \"PYRD_HUMAN\", \"Q02127\", \"A8K8C8,Q6P176\", \"\", \"\", \"\", \"\", \"\", \"\", \"395\"], [170588, \"NCCc1c[nH]c2ccccc12\", \"NCCc1c[nH]c2ccccc12\", \"InChI=1S/C10H12N2/c11-6-5-8-7-12-10-4-2-1-3-9(8)10\", \"APJYDQYYACXCRM-UHFFFAOYSA-N\", \"50024210\", \"1H-indole-3-ethanamine::2-(1H-indol-3-yl)ethanamin\", \"Serotonin (5-HT) receptor\", \"Rattus norvegicus\", NaN, NaN, \"PDSP Ki\", \"\", \"8394362\", \"\", \"\", \"Shen, Y; Monsma, FJ; Metcalf, MA; Jose, PA; Hambli\", \"National Institute of Neurological Disorders and Stroke\", \"http://www.bindingdb.org/bind/chemsearch/marvin/MolStructure.jsp?monomerid=50024210\", \"http://www.bindingdb.org/jsp/dbsearch/PrimarySearch_ki.jsp?energyterm=kJ/mole&tag=pol&polymerid=2152&target=Serotonin+%285-HT%29+receptor&column=ki&startPg=0&Increment=50&submit=Search\", \"http://www.bindingdb.org/jsp/dbsearch/PrimarySearch_ki.jsp?energyterm=kJ/mole&tag=r21&monomerid=50024210&enzyme=Serotonin+%285-HT%29+receptor&column=ki&startPg=0&Increment=50&submit=Search\", \"TSS\", \"\", \"1150\", \"103934501\", \"16765\", \"CHEMBL6640\", \"DB08653\", \"125\", \"C00398\", \"ZINC00120144\", 1, \"=\", 16.4, \"\", NaN, \"\", NaN, \"12\", \"1\", \"0\", \"MMDVNSSGRPDLYGHLRSLILPEVGRGLQDLSPDGGAHPVVSSWMPHLLS\", \"\", \"5-hydroxytryptamine receptor 7\", \"5HT7R_RAT\", \"P32305\", \"P97936\", \"\", \"\", \"\", \"\", \"\", \"\", \"448\"], [50382147, \"N#CC1(c2cccc(Cl)c2Cl)CCC(CNc2ncccc2NC(=O)CC(F)(F)F)CC1\", \"FC(F)(F)CC(=O)Nc1cccnc1NCC1CCC(CC1)(C#N)c1cccc(Cl)c1Cl\", \"InChI=1S/C22H21Cl2F3N4O/c23-16-4-1-3-15(19(16)24)2\", \"FLQZKOMYPKRVQB-UHFFFAOYSA-N\", \"50210359\", \"CHEMBL234720::N-(2-((4-cyano-4-(2,3-dichlorophenyl\", \"Bradykinin B1 receptor\", \"\", NaN, NaN, \"ChEMBL\", \"10.1016/j.bmcl.2007.03.059\", \"17428657\", \"\", \"\", \"Su, DS; Lim, JL; Markowitz, MK; Wan, BL; Murphy, K\", \"Merck\", \"http://www.bindingdb.org/bind/chemsearch/marvin/MolStructure.jsp?monomerid=50210359\", \"http://www.bindingdb.org/jsp/dbsearch/PrimarySearch_ki.jsp?energyterm=kJ/mole&tag=pol&polymerid=6692&target=Bradykinin+B1+receptor&column=ki&startPg=0&Increment=50&submit=Search\", \"http://www.bindingdb.org/jsp/dbsearch/PrimarySearch_ki.jsp?energyterm=kJ/mole&tag=r21&monomerid=50210359&enzyme=Bradykinin+B1+receptor&column=ki&startPg=0&Increment=50&submit=Search\", \"\", \"\", \"44430688\", \"104086879\", \"\", \"CHEMBL234720\", \"\", \"\", \"\", \"ZINC28819003\", 1, \"=\", 4.9, \"\", NaN, \"\", NaN, \"32\", \"1\", \"0\", \"MASSWPPLELQSSNQSQLFPQNATACDNAPEAWDLLHRVLPTFIISICFF\", \"\", \"B1 bradykinin receptor\", \"BKRB1_HUMAN\", \"P46663\", \"A8K7F5,Q546S7,Q8N0Y8\", \"\", \"\", \"\", \"\", \"\", \"\", \"353\"], [50824463, \"NS(=O)(=O)c1cc(Cl)c(Cl)c(S(N)(=O)=O)c1\", \"NS(=O)(=O)c1cc(Cl)c(Cl)c(c1)S(N)(=O)=O\", \"InChI=1S/C6H6Cl2N2O4S2/c7-4-1-3(15(9,11)12)2-5(6(4\", \"GJQPMPFPNINLKP-UHFFFAOYSA-N\", \"10883\", \"4,5-dichlorobenzene-1,3-disulfonamide::CHEMBL17::D\", \"Carbonic Anhydrase XIV\", \"Homo sapiens\", NaN, NaN, \"ChEMBL\", \"10.1016/j.bmcl.2005.06.055\", \"16039848\", \"\", \"\", \"Nishimori, I; Vullo, D; Innocenti, A; Scozzafava, \", \"Kochi Medical School\", \"http://www.bindingdb.org/bind/chemsearch/marvin/MolStructure.jsp?monomerid=10883\", \"http://www.bindingdb.org/jsp/dbsearch/PrimarySearch_ki.jsp?energyterm=kJ/mole&tag=pol&polymerid=1365&target=Carbonic+Anhydrase+XIV&column=ki&startPg=0&Increment=50&submit=Search\", \"http://www.bindingdb.org/jsp/dbsearch/PrimarySearch_ki.jsp?energyterm=kJ/mole&tag=r21&monomerid=10883&enzyme=Carbonic+Anhydrase+XIV&column=ki&startPg=0&Increment=50&submit=Search\", \"I7A\", \"2POU\", \"3038\", \"46511453\", \"101085\", \"CHEMBL17\", \"DB01144\", \"6807\", \"C07459\", \"ZINC00896918\", 1, \"=\", 345.0, \"\", NaN, \"\", NaN, \"16\", \"1\", \"0\", \"MLFSALLLEVIWILAADGGQHWTYEGPHGQDHWPASYPECGNNAQSPIDI\", \"4LU3,5CJF\", \"Carbonic anhydrase 14\", \"CAH14_HUMAN\", \"Q9ULX7\", \"Q5TB24,Q8NCF4\", \"\", \"\", \"\", \"A8K3J4\", \"\", \"\", \"337\"], [50330706, \"CC(C)NC(=O)CSC[C@@H]1CN(C)CC[C@@H]1c1ccc(Cl)cc1\", \"CC(C)NC(=O)CSC[C@@H]1CN(C)CC[C@@H]1c1ccc(Cl)cc1\", \"InChI=1S/C18H27ClN2OS/c1-13(2)20-18(22)12-23-11-15\", \"GPNABXAHBDYHFE-DOTOQJQBSA-N\", \"50178667\", \"2-[(3S,4S)-4-(4-chlorophenyl)-1-methylpiperidin-3-\", \"Sodium-dependent serotonin transporter\", \"Rattus norvegicus\", NaN, NaN, \"ChEMBL\", \"10.1021/jm050694s\", \"16335921\", \"\", \"\", \"He, R; Kurome, T; Giberson, KM; Johnson, KM; Kozik\", \"University of Illinois at Chicago\", \"http://www.bindingdb.org/bind/chemsearch/marvin/MolStructure.jsp?monomerid=50178667\", \"http://www.bindingdb.org/jsp/dbsearch/PrimarySearch_ki.jsp?energyterm=kJ/mole&tag=pol&polymerid=2253&target=Sodium-dependent+serotonin+transporter&column=ki&startPg=0&Increment=50&submit=Search\", \"http://www.bindingdb.org/jsp/dbsearch/PrimarySearch_ki.jsp?energyterm=kJ/mole&tag=r21&monomerid=50178667&enzyme=Sodium-dependent+serotonin+transporter&column=ki&startPg=0&Increment=50&submit=Search\", \"\", \"\", \"11508671\", \"104063971\", \"\", \"CHEMBL200288\", \"\", \"\", \"\", \"ZINC13677519\", 1, \"=\", 154.0, \"\", NaN, \"\", NaN, \"23\", \"1\", \"0\", \"METTPLNSQKVLSECKDREDCQENGVLQKGVPTTADRAEPSQISNGYSAV\", \"6DZV,7LI7,7MGW\", \"Sodium-dependent serotonin transporter\", \"SC6A4_RAT\", \"P31652\", \"P23976\", \"\", \"\", \"\", \"\", \"\", \"\", \"630\"], [50284225, \"NS(=O)(=O)c1ccc(NC(=O)NNS(=O)(=O)c2ccc(F)cc2)cc1\", \"NS(=O)(=O)c1ccc(NC(=O)NNS(=O)(=O)c2ccc(F)cc2)cc1\", \"InChI=1S/C13H13FN4O5S2/c14-9-1-5-12(6-2-9)25(22,23\", \"MTFPIMOQHHYBBV-UHFFFAOYSA-N\", \"50054649\", \"CHEMBL3323206\", \"Carbonic anhydrase 1\", \"Homo sapiens\", NaN, NaN, \"ChEMBL\", \"10.1021/ml500140t\", \"25050167\", \"\", \"\", \"Pichake, J; Kharkar, PS; Ceruso, M; Supuran, CT; T\", \"Bharati Vidyapeeth's College of Pharmacy\", \"http://www.bindingdb.org/bind/chemsearch/marvin/MolStructure.jsp?monomerid=50054649\", \"http://www.bindingdb.org/jsp/dbsearch/PrimarySearch_ki.jsp?energyterm=kJ/mole&tag=pol&polymerid=1192&target=Carbonic+anhydrase+1&column=ki&startPg=0&Increment=50&submit=Search\", \"http://www.bindingdb.org/jsp/dbsearch/PrimarySearch_ki.jsp?energyterm=kJ/mole&tag=r21&monomerid=50054649&enzyme=Carbonic+anhydrase+1&column=ki&startPg=0&Increment=50&submit=Search\", \"\", \"\", \"118710599\", \"103951234\", \"\", \"CHEMBL3323206\", \"\", \"\", \"\", \"ZINC13760364\", 1, \"=\", 82.0, \"\", NaN, \"\", NaN, \"25\", \"1\", \"0\", \"MASPDWGYDDKNGPEQWSKLYPIANGNNQSPVDIKTSETKHDTSLKPISV\", \"1CZM,1HCB,1HUG,1HUH,2FOY,2FW4,2IT4,2NMX,2NN1,2NN7,3LXE,3W6H,3W6I,4WR7,4WUP,4WUQ,5E2M,5GMM,6EVR,6EX1,6F3B,6FAF,6FAG,6G3V,6HWZ,6I0J,6I0L,6SWM,6XZE,6XZO,6XZS,6XZX,6XZY,6Y00,7Q0D\", \"Carbonic anhydrase 1\", \"CAH1_HUMAN\", \"P00915\", \"\", \"\", \"\", \"\", \"V9HWE3\", \"\", \"\", \"261\"], [50623920, \"CC(=O)Nc1cnc(-c2ccncc2)c(-c2ccco2)n1\", \"CC(=O)Nc1cnc(-c2ccncc2)c(n1)-c1ccco1\", \"InChI=1S/C15H12N4O2/c1-10(20)18-13-9-17-14(11-4-6-\", \"IYMUBQAVDWGMOK-UHFFFAOYSA-N\", \"50336982\", \"CHEMBL1672612::N-[6-(2-Furyl)-5-pyridin-4-ylpyrazi\", \"Adenosine receptor A1\", \"Homo sapiens\", NaN, NaN, \"ChEMBL\", \"10.1021/ml100249e\", \"24900298\", \"\", \"\", \"Eastwood, P; Esteve, C; Gonz&aacute;lez, J; Fonque\", \"TBA\", \"http://www.bindingdb.org/bind/chemsearch/marvin/MolStructure.jsp?monomerid=50336982\", \"http://www.bindingdb.org/jsp/dbsearch/PrimarySearch_ki.jsp?energyterm=kJ/mole&tag=pol&polymerid=2129&target=Adenosine+receptor+A1&column=ki&startPg=0&Increment=50&submit=Search\", \"http://www.bindingdb.org/jsp/dbsearch/PrimarySearch_ki.jsp?energyterm=kJ/mole&tag=r21&monomerid=50336982&enzyme=Adenosine+receptor+A1&column=ki&startPg=0&Increment=50&submit=Search\", \"\", \"\", \"16072019\", \"125087084\", \"\", \"CHEMBL1672612\", \"\", \"\", \"\", \"ZINC35000653\", 1, \"=\", 454.0, \"\", NaN, \"\", NaN, \"21\", \"1\", \"0\", \"MPPSISAFQAAYIGIEVLIALVSVPGNVLVIWAVKVNQALRDATFCFIVS\", \"5UEN,6D9H,7LD3,7LD4\", \"Adenosine receptor A1\", \"AA1R_HUMAN\", \"P30542\", \"A6NFY5,A6NGP4,A8K1L3,B3KXQ4,D2CGD0,Q6FHK3,Q8TAM8\", \"\", \"\", \"\", \"\", \"\", \"\", \"326\"], [413561, \"NS(=O)(=O)Cc1noc2ccccc12\", \"NS(=O)(=O)Cc1noc2ccccc12\", \"InChI=1S/C8H8N2O3S/c9-14(11,12)5-7-6-3-1-2-4-8(6)1\", \"UBQNRHZMVUUOMG-UHFFFAOYSA-N\", \"10888\", \"1,2-benzoxazol-3-ylmethanesulfonamide::CHEMBL750::\", \"Carbonic anhydrase 3 (CA III)\", \"\", 7.4, NaN, \"Curated from the literature by BindingDB\", \"10.3109/14756366.2011.643303\", \"22168126\", \"\", \"\", \"Ekinci, D; Karagoz, L; Ekinci, D; Senturk, M; Supu\", \"Ondokuz Mayis University\", \"http://www.bindingdb.org/bind/chemsearch/marvin/MolStructure.jsp?monomerid=10888\", \"http://www.bindingdb.org/jsp/dbsearch/PrimarySearch_ki.jsp?energyterm=kJ/mole&tag=pol&polymerid=10332&target=Carbonic+anhydrase+3+%28CA+III%29&column=ki&startPg=0&Increment=50&submit=Search\", \"http://www.bindingdb.org/jsp/dbsearch/PrimarySearch_ki.jsp?energyterm=kJ/mole&tag=r21&monomerid=10888&enzyme=Carbonic+anhydrase+3+%28CA+III%29&column=ki&startPg=0&Increment=50&submit=Search\", \"ZON\", \"3PO7\", \"5734\", \"46511458\", \"10127\", \"CHEMBL750\", \"DB00909\", \"7047\", \"C07504\", \"ZINC00004321\", 1, \"=\", 8500.0, \"\", NaN, \"\", NaN, \"14\", \"1\", \"0\", \"MAKEWGYADHNGPDHWHELFPNAKGENQSPIELNTKEISHDPSLKPWTAS\", \"1FLJ\", \"Carbonic anhydrase 3\", \"CAH3_BOVIN\", \"Q3SZX4\", \"\", \"\", \"\", \"\", \"\", \"\", \"\", \"260\"], [61929, \"O=c1[nH]c(CN2CC[C@@H](O)C2)nc2c1sc1ccc(Cl)cc12\", \"O[C@@H]1CCN(Cc2nc3c4cc(Cl)ccc4sc3c(=O)[nH]2)C1\", \"InChI=1S/C15H14ClN3O2S/c16-8-1-2-11-10(5-8)13-14(2\", \"DSUSQUXNJRQJMI-SECBINFHSA-N\", \"34989\", \"benzothienopyrimidinone deriv., 6f\", \"Serine/threonine-protein kinase pim-1\", \"\", 7.5, 23.0, \"Curated from the literature by BindingDB\", \"10.1021/jm900943h\", \"19842661\", \"\", \"\", \"Tao, ZF; Hasvold, LA; Leverson, JD; Han, EK; Guan,\", \"Abbott Laboratories\", \"http://www.bindingdb.org/bind/chemsearch/marvin/MolStructure.jsp?monomerid=34989\", \"http://www.bindingdb.org/jsp/dbsearch/PrimarySearch_ki.jsp?energyterm=kJ/mole&tag=pol&polymerid=20&target=Serine%2Fthreonine-protein+kinase+pim-1&column=ki&startPg=0&Increment=50&submit=Search\", \"http://www.bindingdb.org/jsp/dbsearch/PrimarySearch_ki.jsp?energyterm=kJ/mole&tag=r21&monomerid=34989&enzyme=Serine%2Fthreonine-protein+kinase+pim-1&column=ki&startPg=0&Increment=50&submit=Search\", \"\", \"\", \"44472900\", \"85753071\", \"\", \"\", \"\", \"\", \"\", \"ZINC45288374\", 1, \"=\", 9.0, \"\", NaN, \"\", NaN, \"22\", \"1\", \"0\", \"MLLSKINSLAHLRAAPCNDLHATKLAPGKEKEPLESQYQVGPLLGSGGFG\", \"1XQZ,1XR1,1XWS,1YHS,1YI3,1YI4,1YWV,1YXT,1YXU,1YXV,1YXX,2O3P,2O63,2O64,2O65,2OBJ,2XIX,2XIY,2XIZ,2XJ0,2XJ1,2XJ2,3A99,3BGP,3BGQ,3BGZ,3C4E,3DCV,3F2A,3JXW,3JY0,3JYA,3R00,3R01,3R02,3R04,3T9I,3UIX,3UMW,3UMX,3VBQ,3VBT,3VBV,3VBW,3VBX,3VBY,3VC4,3WE8,4A7C,4ALV,4ALW,4AS0,4BZN,4BZO,4DTK,4ENX,4ENY,4I41,4IAA,4JX3,4JX7,4K0Y,4K18,4K1B,4LL5,4LM5,4LMU,4MBI,4MBL,4MED,4MTA,4N6Y,4N6Z,4N70,4RBL,4RC2,4RC3,4RC4,4RPV,4TY1,4WRS,4WSY,4WT6,4XH6,4XHK,5C1Q,5DGZ,5DHJ,5DIA,5DWR,5EOL,5IIS,5IPJ,5KCX,5KGD,5KGE,5KGG,5KGI,5KGK,5KZI,5TEL,5TEX,5TOE,5TUR,5V80,5V82,5VUA,5VUB,5VUC,6BSK,6KZI,6L11,6L12,6L13,6L14,6L15,6L16,6L17,6MT0,6NO8,6NO9,6VRU,6VRV,6YKD\", \"Serine/threonine-protein kinase pim-1\", \"PIM1_HUMAN\", \"P11309\", \"Q38RT9,Q5T7H7,Q96RG3\", \"\", \"\", \"\", \"A0A024RD25\", \"\", \"\", \"313\"], [50944004, \"CCOC(=O)c1ccc(NC(=O)Nc2ccc(OS(N)(=O)=O)cc2)cc1\", \"CCOC(=O)c1ccc(NC(=O)Nc2ccc(OS(N)(=O)=O)cc2)cc1\", \"InChI=1S/C16H17N3O6S/c1-2-24-15(20)11-3-5-12(6-4-1\", \"KCPLKDIULNNYHQ-UHFFFAOYSA-N\", \"50387132\", \"4-ureidophenyl sulfamate ring derivative 3q::CHEMB\", \"Carbonic anhydrase 1\", \"Homo sapiens\", NaN, NaN, \"ChEMBL\", \"10.1016/j.bmcl.2012.05.083\", \"22721713\", \"\", \"\", \"Winum, JY; Carta, F; Ward, C; Mullen, P; Harrison,\", \"Ecole Nationale Sup&#163;rieure de Chimie de Montpellier\", \"http://www.bindingdb.org/bind/chemsearch/marvin/MolStructure.jsp?monomerid=50387132\", \"http://www.bindingdb.org/jsp/dbsearch/PrimarySearch_ki.jsp?energyterm=kJ/mole&tag=pol&polymerid=1192&target=Carbonic+anhydrase+1&column=ki&startPg=0&Increment=50&submit=Search\", \"http://www.bindingdb.org/jsp/dbsearch/PrimarySearch_ki.jsp?energyterm=kJ/mole&tag=r21&monomerid=50387132&enzyme=Carbonic+anhydrase+1&column=ki&startPg=0&Increment=50&submit=Search\", \"\", \"\", \"70692550\", \"160866215\", \"\", \"CHEMBL2047812\", \"\", \"\", \"\", \"ZINC84670329\", 1, \"=\", 2450.0, \"\", NaN, \"\", NaN, \"26\", \"1\", \"0\", \"MASPDWGYDDKNGPEQWSKLYPIANGNNQSPVDIKTSETKHDTSLKPISV\", \"1CZM,1HCB,1HUG,1HUH,2FOY,2FW4,2IT4,2NMX,2NN1,2NN7,3LXE,3W6H,3W6I,4WR7,4WUP,4WUQ,5E2M,5GMM,6EVR,6EX1,6F3B,6FAF,6FAG,6G3V,6HWZ,6I0J,6I0L,6SWM,6XZE,6XZO,6XZS,6XZX,6XZY,6Y00,7Q0D\", \"Carbonic anhydrase 1\", \"CAH1_HUMAN\", \"P00915\", \"\", \"\", \"\", \"\", \"V9HWE3\", \"\", \"\", \"261\"]];\n",
       "\n",
       "    if (typeof require === 'undefined') {\n",
       "        // TODO: This should become the default (use a simple import)\n",
       "        // when the ESM version works independently of whether\n",
       "        // require.js is there or not, see\n",
       "        // https://datatables.net/forums/discussion/69066/esm-es6-module-support?\n",
       "        const {default: $} = await import(\"https://esm.sh/jquery@3.5.0\");\n",
       "        const {default: initDataTables} = await import(\"https://esm.sh/datatables.net@1.11.3?deps=jquery@3.5.0\");\n",
       "\n",
       "        initDataTables();\n",
       "\n",
       "        // Define the dt_args\n",
       "        let dt_args = {\"columnDefs\": [{\"width\": \"70px\", \"targets\": \"_all\"}], \"order\": []};\n",
       "        dt_args[\"data\"] = data;\n",
       "\n",
       "        // Display the table\n",
       "        $(document).ready(function () {\n",
       "            $('#08bdaeb1-7785-4317-a07a-b0d607a06b68').DataTable(dt_args);\n",
       "        });\n",
       "    } else {\n",
       "        require([\"jquery\", \"datatables\"], ($, datatables) => {\n",
       "                // Define the dt_args\n",
       "                let dt_args = {\"columnDefs\": [{\"width\": \"70px\", \"targets\": \"_all\"}], \"order\": []};\n",
       "                dt_args[\"data\"] = data;\n",
       "\n",
       "                // Display the table\n",
       "                $(document).ready(function () {\n",
       "                    $('#08bdaeb1-7785-4317-a07a-b0d607a06b68').DataTable(dt_args);\n",
       "                });\n",
       "            }\n",
       "        )\n",
       "    }\n",
       "</script>\n"
      ],
      "text/plain": [
       "<IPython.core.display.HTML object>"
      ]
     },
     "metadata": {},
     "output_type": "display_data"
    }
   ],
   "source": [
    "df_bdb_trunc = df_bdb.copy()\n",
    "df_bdb_trunc[\"bdb_ligand_name\"] = df_bdb_trunc[\"bdb_ligand_name\"].str[:50]\n",
    "df_bdb_trunc[\"authors\"] = df_bdb_trunc[\"authors\"].str[:50]\n",
    "df_bdb_trunc[\"ligand_raw_inchi\"] = df_bdb_trunc[\"ligand_raw_inchi\"].str[:50]\n",
    "df_bdb_trunc[\"pdb_id_85_pct_similarity\"] = df_bdb_trunc[\"pdb_id_85_pct_similarity\"].str[:50]\n",
    "df_bdb_trunc[\"chain_sequence\"] = df_bdb_trunc[\"chain_sequence\"].str[:50]\n",
    "itables.show(df_bdb_trunc.sample(50))"
   ]
  },
  {
   "cell_type": "markdown",
   "id": "cbb3dcfa",
   "metadata": {},
   "source": [
    "The dataframe has these columns:"
   ]
  },
  {
   "cell_type": "code",
   "execution_count": 8,
   "id": "fd21b3fd",
   "metadata": {},
   "outputs": [
    {
     "data": {
      "text/html": [
       "<table id=\"095e0f74-f22a-4e99-a031-010352bfe840\" class=\"display nowrap\"style=\"max-width:100%\"><thead><th>column_name</th></thead><tbody><tr><td>Loading... (need <a href=https://mwouts.github.io/itables/troubleshooting.html>help</a>?)</td></tr></tbody></table>\n",
       "<link rel=\"stylesheet\" type=\"text/css\" href=\"https://cdn.datatables.net/1.11.3/css/jquery.dataTables.min.css\">\n",
       "<style> table td {\n",
       "    text-overflow: ellipsis;\n",
       "    overflow: hidden;\n",
       "} </style>\n",
       "<style> table th {\n",
       "    text-overflow: ellipsis;\n",
       "    overflow: hidden;\n",
       "} </style>\n",
       "<script type=\"module\">\n",
       "    // Define the table data\n",
       "    const data = [[\"ligand_rdkit_smiles\"], [\"ligand_raw_smiles\"], [\"ligand_raw_inchi\"], [\"ligand_raw_inchi_key\"], [\"bdb_ligand_id\"], [\"bdb_ligand_name\"], [\"bdb_protein_name\"], [\"bdb_protein_organism\"], [\"pH\"], [\"temperature_C\"], [\"data_source\"], [\"article_doi\"], [\"pubmed_id\"], [\"pubmed_assay_id\"], [\"patent_number\"], [\"authors\"], [\"institution\"], [\"url_bdb_ligand\"], [\"url_bdb_protein\"], [\"url_bdb_overall\"], [\"pdb_ligand_het_id\"], [\"pdb_id_85_pct_similarity\"], [\"ligand_pubchem_cid\"], [\"ligand_pubchem_sid\"], [\"ligand_chebi_id\"], [\"ligand_chembl_id\"], [\"ligand_drugbank_id\"], [\"ligand_iuphar_grac_id\"], [\"ligand_kegg_id\"], [\"ligand_zinc_id\"], [\"protein_number_of_chains\"], [\"kd_nM_operator\"], [\"kd_nM_value\"], [\"kon_1_per_M_s_operator\"], [\"kon_1_per_M_s_value\"], [\"koff_1_per_s_operator\"], [\"koff_1_per_s_value\"], [\"ligand_number_of_atoms\"], [\"ligand_number_of_stereoisomers\"], [\"chain_number\"], [\"chain_sequence\"], [\"chain_pdb_id_85_pct_similarity\"], [\"chain_swissprot_name0\"], [\"chain_swissprot_name1\"], [\"chain_swissprot_primary_id\"], [\"chain_swissprot_secondary_ids\"], [\"chain_swissprot_ids_from_other_organisms\"], [\"chain_trembl_name0\"], [\"chain_trembl_name1\"], [\"chain_trembl_primary_id\"], [\"chain_trembl_secondary_ids\"], [\"chain_trembl_ids_from_other_organisms\"], [\"chain_length\"]];\n",
       "\n",
       "    if (typeof require === 'undefined') {\n",
       "        // TODO: This should become the default (use a simple import)\n",
       "        // when the ESM version works independently of whether\n",
       "        // require.js is there or not, see\n",
       "        // https://datatables.net/forums/discussion/69066/esm-es6-module-support?\n",
       "        const {default: $} = await import(\"https://esm.sh/jquery@3.5.0\");\n",
       "        const {default: initDataTables} = await import(\"https://esm.sh/datatables.net@1.11.3?deps=jquery@3.5.0\");\n",
       "\n",
       "        initDataTables();\n",
       "\n",
       "        // Define the dt_args\n",
       "        let dt_args = {\"columnDefs\": [{\"width\": \"70px\", \"targets\": \"_all\"}], \"order\": []};\n",
       "        dt_args[\"data\"] = data;\n",
       "\n",
       "        // Display the table\n",
       "        $(document).ready(function () {\n",
       "            $('#095e0f74-f22a-4e99-a031-010352bfe840').DataTable(dt_args);\n",
       "        });\n",
       "    } else {\n",
       "        require([\"jquery\", \"datatables\"], ($, datatables) => {\n",
       "                // Define the dt_args\n",
       "                let dt_args = {\"columnDefs\": [{\"width\": \"70px\", \"targets\": \"_all\"}], \"order\": []};\n",
       "                dt_args[\"data\"] = data;\n",
       "\n",
       "                // Display the table\n",
       "                $(document).ready(function () {\n",
       "                    $('#095e0f74-f22a-4e99-a031-010352bfe840').DataTable(dt_args);\n",
       "                });\n",
       "            }\n",
       "        )\n",
       "    }\n",
       "</script>\n"
      ],
      "text/plain": [
       "<IPython.core.display.HTML object>"
      ]
     },
     "metadata": {},
     "output_type": "display_data"
    }
   ],
   "source": [
    "itables.show(DataFrame({\"column_name\": df_bdb.columns}))"
   ]
  },
  {
   "cell_type": "markdown",
   "id": "6ef9f6cb",
   "metadata": {},
   "source": [
    "I've described a few of the important columns below.\n",
    "\n",
    "- `ligand_raw_smiles` is the SMILES string provided by BindingDB;\n",
    "  `ligand_rdkit_smiles` is the SMILES string after being canonicalised by the\n",
    "  rdkit package\n",
    "- `kd_nM_value` is the binding dissociation constant, in units of nM\n",
    "- `chain_sequence` is the protein's amino acid sequence. There's no information\n",
    "  provided on post-translational modifications, crosslinks, or prosthetic\n",
    "  groups, etc.\n",
    "- `chain_swissprot_primary_id` is the protein's UniProt id\n",
    "\n",
    "\n",
    "## Filtering"
   ]
  },
  {
   "cell_type": "code",
   "execution_count": 9,
   "id": "e44f9407",
   "metadata": {
    "tags": [
     "remove-cell"
    ]
   },
   "outputs": [
    {
     "data": {
      "text/plain": [
       "10"
      ]
     },
     "metadata": {
      "scrapbook": {
       "mime_prefix": "",
       "name": "min_aa"
      }
     },
     "output_type": "display_data"
    },
    {
     "data": {
      "text/plain": [
       "1500"
      ]
     },
     "metadata": {
      "scrapbook": {
       "mime_prefix": "",
       "name": "max_aa"
      }
     },
     "output_type": "display_data"
    },
    {
     "data": {
      "text/plain": [
       "['H', 'B', 'C', 'N', 'O', 'F', 'P', 'S', 'Cl', 'Br', 'I']"
      ]
     },
     "metadata": {
      "scrapbook": {
       "mime_prefix": "",
       "name": "lig_allowed_el"
      }
     },
     "output_type": "display_data"
    },
    {
     "data": {
      "text/plain": [
       "5"
      ]
     },
     "metadata": {
      "scrapbook": {
       "mime_prefix": "",
       "name": "min_atoms"
      }
     },
     "output_type": "display_data"
    },
    {
     "data": {
      "text/plain": [
       "1000"
      ]
     },
     "metadata": {
      "scrapbook": {
       "mime_prefix": "",
       "name": "max_atoms"
      }
     },
     "output_type": "display_data"
    }
   ],
   "source": [
    "# Get variables from config file for the following section\n",
    "\n",
    "min_aa = config[\"protein_chain_min_aa_length\"]\n",
    "myst_nb.glue(\"min_aa\", min_aa)\n",
    "\n",
    "max_aa = config[\"protein_chain_max_aa_length\"]\n",
    "myst_nb.glue(\"max_aa\", max_aa)\n",
    "\n",
    "lig_allowed_el = config[\"ligand_allowed_elements\"]\n",
    "myst_nb.glue(\"lig_allowed_el\", lig_allowed_el)\n",
    "\n",
    "min_atoms = config[\"ligand_min_number_of_non_hydrogen_atoms_allowed\"]\n",
    "myst_nb.glue(\"min_atoms\", min_atoms)\n",
    "\n",
    "max_atoms = config[\"ligand_max_number_of_non_hydrogen_atoms_allowed\"]\n",
    "myst_nb.glue(\"max_atoms\", max_atoms)"
   ]
  },
  {
   "cell_type": "markdown",
   "id": "43846253",
   "metadata": {},
   "source": [
    "The dataframe displayed above has been heavily filtered. The filtering steps I\n",
    "performed are:\n",
    "\n",
    "- Removed entries with missing data\n",
    "- Removed entries with unusual pH or temperature values\n",
    "- Removed entries with missing UniProt ids\n",
    "- Filtered to keep only entries with protein chains satisfying {glue:}`min_aa` <\n",
    "  length < {glue:}`max_aa`\n",
    "- Removed entries with unusual amino acids (e.g. selenocysteine) or unknown\n",
    "  amino acids (`X` symbol)\n",
    "- Filtered to keep only entries with Kd or Ki values listed (i.e. no IC50 or EC50)\n",
    "- Removed entries where rdkit couldn't parse the SMILES string\n",
    "- Filtered to keep only entries with ligands that have elements in the following list:"
   ]
  },
  {
   "cell_type": "code",
   "execution_count": 10,
   "id": "113b98e3",
   "metadata": {
    "tags": [
     "remove-input"
    ]
   },
   "outputs": [
    {
     "data": {
      "text/plain": [
       "['H', 'B', 'C', 'N', 'O', 'F', 'P', 'S', 'Cl', 'Br', 'I']"
      ]
     },
     "execution_count": 10,
     "metadata": {},
     "output_type": "execute_result"
    }
   ],
   "source": [
    "config[\"ligand_allowed_elements\"]"
   ]
  },
  {
   "cell_type": "markdown",
   "id": "0e430793",
   "metadata": {},
   "source": [
    "- Filtered to keep only entries where the ligands have between {glue:}`min_atoms` and\n",
    "  {glue:}`max_atoms` atoms (ignoring suppressed hydrogens)\n",
    "- Removed entries where the ligand has ambiguous stereochemistry\n",
    "- Removed entries where multiple protein chains are listed\n",
    "- Removed entries where UniProt says that the protein is known to form protein complexes\n",
    "\n",
    "```{note}\n",
    "I'm not sure how to handle entries where the protein may have additional prosthetic groups? Ideally the prosthetic group would be counted as the \"ligand\", but I suspect there could be entries that have:\n",
    "- a protein chain\n",
    "- a listed ligand\n",
    "- one or more unlisted prosthetic groups that the protein requires in order to function\n",
    "```\n",
    "\n",
    "## Data statistics\n",
    "\n",
    "### Overall\n",
    "\n",
    "The total number of entries (after filtering) is:"
   ]
  },
  {
   "cell_type": "code",
   "execution_count": 11,
   "id": "58964814",
   "metadata": {},
   "outputs": [
    {
     "data": {
      "text/plain": [
       "99367"
      ]
     },
     "execution_count": 11,
     "metadata": {},
     "output_type": "execute_result"
    }
   ],
   "source": [
    "len(df_bdb)"
   ]
  },
  {
   "cell_type": "markdown",
   "id": "885f5eaa",
   "metadata": {},
   "source": [
    "### Proteins\n",
    "\n",
    "Here are some statistics on the proteins present in BindingDB."
   ]
  },
  {
   "cell_type": "code",
   "execution_count": 12,
   "id": "e81bc199",
   "metadata": {
    "tags": [
     "remove-input"
    ]
   },
   "outputs": [
    {
     "name": "stdout",
     "output_type": "stream",
     "text": [
      "Total number of entries: 99367\n",
      "Total number of unique entries: 947\n",
      "Distribution of frequencies of individual entries, linear scale (left):\n",
      "Distribution of frequencies of individual entries, log scale (right):\n"
     ]
    },
    {
     "data": {
      "image/png": "[encoded data removed]",
      "text/plain": [
       "<Figure size 360x360 with 1 Axes>"
      ]
     },
     "metadata": {
      "filenames": {
       "image/png": "C:\\sw\\plb\\src\\notebooks\\dataset_overview\\_build\\jupyter_execute\\bindingdb-overview_23_1.png"
      },
      "needs_background": "light"
     },
     "output_type": "display_data"
    },
    {
     "data": {
      "image/png": "[encoded data removed]",
      "text/plain": [
       "<Figure size 360x360 with 1 Axes>"
      ]
     },
     "metadata": {
      "filenames": {
       "image/png": "C:\\sw\\plb\\src\\notebooks\\dataset_overview\\_build\\jupyter_execute\\bindingdb-overview_23_2.png"
      },
      "needs_background": "light"
     },
     "output_type": "display_data"
    }
   ],
   "source": [
    "protein_stats = print_raw_protein_seq_stats(df_bdb)"
   ]
  },
  {
   "cell_type": "markdown",
   "id": "8fa83420",
   "metadata": {},
   "source": [
    "The most commonly occurring entries are:"
   ]
  },
  {
   "cell_type": "code",
   "execution_count": 13,
   "id": "35058e70",
   "metadata": {
    "tags": [
     "remove-input"
    ]
   },
   "outputs": [
    {
     "data": {
      "text/html": [
       "<table id=\"b41f4862-eb2d-4bb9-88f5-277392b48bdb\" class=\"display nowrap\"style=\"max-width:100%\"><thead><th>number_of_occurrences</th><th>uniprot_id</th><th>protein_name</th><th>protein_aa_sequence</th></thead><tbody><tr><td>Loading... (need <a href=https://mwouts.github.io/itables/troubleshooting.html>help</a>?)</td></tr></tbody></table>\n",
       "<link rel=\"stylesheet\" type=\"text/css\" href=\"https://cdn.datatables.net/1.11.3/css/jquery.dataTables.min.css\">\n",
       "<style> table td {\n",
       "    text-overflow: ellipsis;\n",
       "    overflow: hidden;\n",
       "} </style>\n",
       "<style> table th {\n",
       "    text-overflow: ellipsis;\n",
       "    overflow: hidden;\n",
       "} </style>\n",
       "<script type=\"module\">\n",
       "    // Define the table data\n",
       "    const data = [[7816, \"P00915\", \"Carbonic anhydrase 1\", \"MASPDWGYDDKNGPEQWSKLYPIANGNNQSPVDIKTSETKHDTSLKPISVSYNPATAKEIINVGHSFHVNFEDNDNRSVLKGGPFSDSYRLFQFHFHWGSTNEHGSEHTVDGVKYSAELHVAHWNSAKYSSLAEAASKADGLAVIGVLMKVGEANPKLQKVLDALQAIKTKGKRAPFTNFDPSTLLPSSLDFWTYPGSLTHPPLYESVTWIICKESISVSSEQLAQFRSLLSNVEGDNAVPMQHNNRPTQPLKGRTVRASF\"], [4449, \"P0DMS8\", \"Adenosine receptor A3\", \"MPNNSTALSLANVTYITMEIFIGLCAIVGNVLVICVVKLNPSLQTTTFYFIVSLALADIAVGVLVMPLAIVVSLGITIHFYSCLFMTCLLLIFTHASIMSLLAIAVDRYLRVKLTVRYKRVTTHRRIWLALGLCWLVSFLVGLTPMFGWNMKLTSEYHRNVTFLSCQFVSVMRMDYMVYFSFLTWIFIPLVVMCAIYLDIFYIIRNKLSLNLSNSKETGAFYGREFKTAKSLFLVLFLFALSWLPLSIINCIIYFNGEVPQLVLYMGILLSHANSMMNPIVYAYKIKKFKETYLLILKACVVCHPSDSLDTSIEKNSE\"], [4088, \"P30542\", \"Adenosine receptor A1\", \"MPPSISAFQAAYIGIEVLIALVSVPGNVLVIWAVKVNQALRDATFCFIVSLAVADVAVGALVIPLAILINIGPQTYFHTCLMVACPVLILTQSSILALLAIAVDRYLRVKIPLRYKMVVTPRRAAVAIAGCWILSFVVGLTPMFGWNNLSAVERAWAANGSMGEPVIKCEFEKVISMEYMVYFNFFVWVLPPLLLMVLIYLEVFYLIRKQLNKKVSASSGDPQKYYGKELKIAKSLALILFLFALSWLPLHILNCITLFCPSCHKPSILTYIAIFLTHGNSAMNPIVYAFRIQKFRVTFLKIWNDHFRCQPAPPIDEDLPEERPDD\"], [3891, \"P34972\", \"Cannabinoid receptor 2\", \"MEECWVTEIANGSKDGLDSNPMKDYMILSGPQKTAVAVLCTLLGLLSALENVAVLYLILSSHQLRRKPSYLFIGSLAGADFLASVVFACSFVNFHVFHGVDSKAVFLLKIGSVTMTFTASVGSLLLTAIDRYLCLRYPPSYKALLTRGRALVTLGIMWVLSALVSYLPLMGWTCCPRPCSELFPLIPNDYLLSWLLFIAFLFSGIIYTYGHVLWKAHQHVASLSGHQDRQVPGMARMRLDVRLAKTLGLVLAVLLICWFPVLALMAHSLATTLSDQVKKAFAFCSMLCLINSMVNPVIYALRSGEIRSSAHHCLAHWKKCVRGLGSEAKEEAPRSSVTETEADGKITPWPDSRDLDLSDC\"], [3451, \"Q9Y5N1\", \"Histamine H3 receptor\", \"MERAPPDGPLNASGALAGEAAAAGGARGFSAAWTAVLAALMALLIVATVLGNALVMLAFVADSSLRTQNNFFLLNLAISDFLVGAFCIPLYVPYVLTGRWTFGRGLCKLWLVVDYLLCTSSAFNIVLISYDRFLSVTRAVSYRAQQGDTRRAVRKMLLVWVLAFLLYGPAILSWEYLSGGSSIPEGHCYAEFFYNWYFLITASTLEFFTPFLSVTFFNLSIYLNIQRRTRLRLDGAREAAGPEPPPEAQPSPPPPPGCWGCWQKGHGEAMPLHRYGVGEAAVGAEAGEATLGGGGGGGSVASPTSSSGSSSRGTERPRSLKRGSKPSASSASLEKRMKMVSQSFTQRFRLSRDRKVAKSLAVIVSIFGLCWAPYTLLMIIRAACHGHCVPDYWYETSFWLLWANSAVNPVLYPLCHHSFRRAFTKLLCPQKLKIQPHSSLEHCWK\"], [2716, \"P25099\", \"Adenosine receptor A1\", \"MPPYISAFQAAYIGIEVLIALVSVPGNVLVIWAVKVNQALRDATFCFIVSLAVADVAVGALVIPLAILINIGPQTYFHTCLMVACPVLILTQSSILALLAIAVDRYLRVKIPLRYKTVVTQRRAAVAIAGCWILSLVVGLTPMFGWNNLSVVEQDWRANGSVGEPVIKCEFEKVISMEYMVYFNFFVWVLPPLLLMVLIYLEVFYLIRKQLNKKVSASSGDPQKYYGKELKIAKSLALILFLFALSWLPLHILNCITLFCPTCQKPSILIYIAIFLTHGNSAMNPIVYAFRIHKFRVTFLKIWNDHFRCQPKPPIDEDLPEEKAED\"], [1920, \"P34969\", \"5-hydroxytryptamine receptor 7\", \"MMDVNSSGRPDLYGHLRSFLLPEVGRGLPDLSPDGGADPVAGSWAPHLLSEVTASPAPTWDAPPDNASGCGEQINYGRVEKVVIGSILTLITLLTIAGNCLVVISVCFVKKLRQPSNYLIVSLALADLSVAVAVMPFVSVTDLIGGKWIFGHFFCNVFIAMDVMCCTASIMTLCVISIDRYLGITRPLTYPVRQNGKCMAKMILSVWLLSASITLPPLFGWAQNVNDDKVCLISQDFGYTIYSTAVAFYIPMSVMLFMYYQIYKAARKSAAKHKFPGFPRVEPDSVIALNGIVKLQKEVEECANLSRLLKHERKNISIFKREQKAATTLGIIVGAFTVCWLPFFLLSTARPFICGTSCSCIPLWVERTFLWLGYANSLINPFIYAFFNRDLRTTYRSLLQCQYRNINRKLSAAGMHEALKLAERPERPEFVLRACTRRVLLRPEKRPPVSVWVLQSPDHHNWLADKMLTTVEKKVMIHD\"], [1884, \"P31645\", \"Sodium-dependent serotonin transporter\", \"METTPLNSQKQLSACEDGEDCQENGVLQKVVPTPGDKVESGQISNGYSAVPSPGAGDDTRHSIPATTTTLVAELHQGERETWGKKVDFLLSVIGYAVDLGNVWRFPYICYQNGGGAFLLPYTIMAIFGGIPLFYMELALGQYHRNGCISIWRKICPIFKGIGYAICIIAFYIASYYNTIMAWALYYLISSFTDQLPWTSCKNSWNTGNCTNYFSEDNITWTLHSTSPAEEFYTRHVLQIHRSKGLQDLGGISWQLALCIMLIFTVIYFSIWKGVKTSGKVVWVTATFPYIILSVLLVRGATLPGAWRGVLFYLKPNWQKLLETGVWIDAAAQIFFSLGPGFGVLLAFASYNKFNNNCYQDALVTSVVNCMTSFVSGFVIFTVLGYMAEMRNEDVSEVAKDAGPSLLFITYAEAIANMPASTFFAIIFFLMLITLGLDSTFAGLEGVITAVLDEFPHVWAKRRERFVLAVVITCFFGSLVTLTFGGAYVVKLLEEYATGPAVLTVALIEAVAVSWFYGITQFCRDVKEMLGFSPGWFWRICWVAISPLFLLFIICSFLMSPPQLRLFQYNYPYWSIILGYCIGTSSFICIPTYIAYRLIITPGTFKERIIKSITPETPTEIPCGDIRLNAV\"], [1853, \"P29275\", \"Adenosine receptor A2b\", \"MLLETQDALYVALELVIAALSVAGNVLVCAAVGTANTLQTPTNYFLVSLAAADVAVGLFAIPFAITISLGFCTDFYGCLFLACFVLVLTQSSIFSLLAVAVDRYLAICVPLRYKSLVTGTRARGVIAVLWVLAFGIGLTPFLGWNSKDSATNNCTEPWDGTTNESCCLVKCLFENVVPMSYMVYFNFFGCVLPPLLIMLVIYIKIFLVACRQLQRTELMDHSRTTLQREIHAAKSLAMIVGIFALCWLPVHAVNCVTLFQPAQGKNKPKWAMNMAILLSHANSVVNPIVYAYRNRDFRYTFHKIISRYLLCQADVKSGNGQAGVQPALGVGL\"], [1836, \"P41146\", \"Nociceptin receptor\", \"MEPLFPAPFWEVIYGSHLQGNLSLLSPNHSLLPPHLLLNASHGAFLPLGLKVTIVGLYLAVCVGGLLGNCLVMYVILRHTKMKTATNIYIFNLALADTLVLLTLPFQGTDILLGFWPFGNALCKTVIAIDYYNMFTSTFTLTAMSVDRYVAICHPIRALDVRTSSKAQAVNVAIWALASVVGVPVAIMGSAQVEDEEIECLVEIPTPQDYWGPVFAICIFLFSFIVPVLVISVCYSLMIRRLRGVRLLSGSREKDRNLRRITRLVLVVVAVFVGCWTPVQVFVLAQGLGVQPSSETAVAILRFCTALGYVNSCLNPILYAFLDENFKACFRKFCCASALRRDVQVSDRVRSIAKDVALACKTSETVPRPA\"], [1634, \"Q9QYN8\", \"Histamine H3 receptor\", \"MERAPPDGLMNASGTLAGEAAAAGGARGFSAAWTAVLAALMALLIVATVLGNALVMLAFVADSSLRTQNNFFLLNLAISDFLVGAFCIPLYVPYVLTGRWTFGRGLCKLWLVVDYLLCASSVFNIVLISYDRFLSVTRAVSYRAQQGDTRRAVRKMALVWVLAFLLYGPAILSWEYLSGGSSIPEGHCYAEFFYNWYFLITASTLEFFTPFLSVTFFNLSIYLNIQRRTRLRLDGGREAGPEPPPDAQPSPPPAPPSCWGCWPKGHGEAMPLHRYGVGEAGPGVEAGEAALGGGSGGGAAASPTSSSGSSSRGTERPRSLKRGSKPSASSASLEKRMKMVSQSITQRFRLSRDKKVAKSLAIIVSIFGLCWAPYTLLMIIRAACHGRCIPDYWYETSFWLLWANSAVNPVLYPLCHYSFRRAFTKLLCPQKLKVQPHGSLEQCWK\"], [1609, \"P31652\", \"Sodium-dependent serotonin transporter\", \"METTPLNSQKVLSECKDREDCQENGVLQKGVPTTADRAEPSQISNGYSAVPSTSAGDEASHSIPAATTTLVAEIRQGERETWGKKMDFLLSVIGYAVDLGNIWRFPYICYQNGGGAFLLPYTIMAIFGGIPLFYMELALGQYHRNGCISIWRKICPIFKGIGYAICIIAFYIASYYNTIIAWALYYLISSLTDRLPWTSCTNSWNTGNCTNYFAQDNITWTLHSTSPAEEFYLRHVLQIHQSKGLQDLGTISWQLTLCIVLIFTVIYFSIWKGVKTSGKVVWVTATFPYIVLSVLLVRGATLPGAWRGVVFYLKPNWQKLLETGVWVDAAAQIFFSLGPGFGVLLAFASYNKFNNNCYQDALVTSVVNCMTSFVSGFVIFTVLGYMAEMRNEDVSEVAKDAGPSLLFITYAEAIANMPASTFFAIIFFLMLITLGLDSTFAGLEGVITAVLDEFPHIWAKRREWFVLIVVITCVLGSLLTLTSGGAYVVTLLEEYATGPAVLTVALIEAVAVSWFYGITQFCSDVKEMLGFSPGWFWRICWVAISPLFLLFIICSFLMSPPQLRLFQYNYPHWSIVLGYCIGMSSVICIPTYIIYRLISTPGTLKERIIKSITPETPTEIPCGDIRMNAV\"], [1493, \"Q9H3N8\", \"Histamine H4 receptor\", \"MPDTNSTINLSLSTRVTLAFFMSLVAFAIMLGNALVILAFVVDKNLRHRSSYFFLNLAISDFFVGVISIPLYIPHTLFEWDFGKEICVFWLTTDYLLCTASVYNIVLISYDRYLSVSNAVSYRTQHTGVLKIVTLMVAVWVLAFLVNGPMILVSESWKDEGSECEPGFFSEWYILAITSFLEFVIPVILVAYFNMNIYWSLWKRDHLSRCQSHPGLTAVSSNICGHSFRGRLSSRRSLSASTEVPASFHSERQRRKSSLMFSSRTKMNSNTIASKMGSFSQSDSVALHQREHVELLRARRLAKSLAILLGVFAVCWAPYSLFTIVLSFYSSATGPKSVWYRIAFWLQWFNSFVNPLLYPLCHKRFQKAFLKIFCIKKQPLPSQHSRSVSS\"], [1383, \"P43166\", \"Carbonic anhydrase 7\", \"MTGHHGWGYGQDDGPSHWHKLYPIAQGDRQSPINIISSQAVYSPSLQPLELSYEACMSLSITNNGHSVQVDFNDSDDRTVVTGGPLEGPYRLKQFHFHWGKKHDVGSEHTVDGKSFPSELHLVHWNAKKYSTFGEAASAPDGLAVVGVFLETGDEHPSMNRLTDALYMVRFKGTKAQFSCFNPKCLLPASRHYWTYPGSLTTPPLSESVTWIVLREPICISERQMGKFRSLLFTSEDDERIHMVNNFRPPQPLKGRVVKASFRA\"], [1343, \"P39748\", \"Flap endonuclease 1\", \"MGIQGLAKLIADVAPSAIRENDIKSYFGRKVAIDASMSIYQFLIAVRQGGDVLQNEEGETTSHLMGMFYRTIRMMENGIKPVYVFDGKPPQLKSGELAKRSERRAEAEKQLQQAQAAGAEQEVEKFTKRLVKVTKQHNDECKHLLSLMGIPYLDAPSEAEASCAALVKAGKVYAAATEDMDCLTFGSPVLMRHLTASEAKKLPIQEFHLSRILQELGLNQEQFVDLCILLGSDYCESIRGIGPKRAVDLIQKHKSIEEIVRRLDPNKYPVPENWLHKEAHQLFLEPEVLDPESVELKWSEPNEEELIKFMCGEKQFSEERIRSGVKRLSKSRQGSTQGRLDDFFKVTGSLSSAKRKEPEPKGSTKKKAKTGAAGKFKRGK\"], [1304, \"P11309\", \"Serine/threonine-protein kinase pim-1\", \"MLLSKINSLAHLRAAPCNDLHATKLAPGKEKEPLESQYQVGPLLGSGGFGSVYSGIRVSDNLPVAIKHVEKDRISDWGELPNGTRVPMEVVLLKKVSSGFSGVIRLLDWFERPDSFVLILERPEPVQDLFDFITERGALQEELARSFFWQVLEAVRHCHNCGVLHRDIKDENILIDLNRGELKLIDFGSGALLKDTVYTDFDGTRVYSPPEWIRYHRYHGRSAAVWSLGILLYDMVCGDIPFEHDEEIIRGQVFFRQRVSSECQHLIRWCLALRPSDRPTFEEIQNHPWMQDVLLPQETAEIHLHSLSPGPSK\"], [1156, \"P35367\", \"Histamine H1 receptor\", \"MSLPNSSCLLEDKMCEGNKTTMASPQLMPLVVVLSTICLVTVGLNLLVLYAVRSERKLHTVGNLYIVSLSVADLIVGAVVMPMNILYLLMSKWSLGRPLCLFWLSMDYVASTASIFSVFILCIDRYRSVQQPLRYLKYRTKTRASATILGAWFLSFLWVIPILGWNHFMQQTSVRREDKCETDFYDVTWFKVMTAIINFYLPTLLMLWFYAKIYKAVRQHCQHRELINRSLPSFSEIKLRPENPKGDAKKPGKESPWEVLKRKPKDAGGGSVLKSPSQTPKEMKSPVVFSQEDDREVDKLYCFPLDIVHMQAAAEGSSRDYVAVNRSHGQLKTDEQGLNTHGASEISEDQMLGDSQSFSRTDSDTTTETAPGKGKLRSGSNTGLDYIKFTWKRLRSHSRQYVSGLHMNRERKAAKQLGFIMAAFILCWIPYFIFFMVIAFCKNCCNEHLHMFTIWLGYINSTLNPLIYPLCNENFKKTFKRILHIRS\"], [1127, \"O43614\", \"Orexin receptor type 2\", \"MSGTKLEDSPPCRNWSSASELNETQEPFLNPTDYDDEEFLRYLWREYLHPKEYEWVLIAGYIIVFVVALIGNVLVCVAVWKNHHMRTVTNYFIVNLSLADVLVTITCLPATLVVDITETWFFGQSLCKVIPYLQTVSVSVSVLTLSCIALDRWYAICHPLMFKSTAKRARNSIVIIWIVSCIIMIPQAIVMECSTVFPGLANKTTLFTVCDERWGGEIYPKMYHICFFLVTYMAPLCLMVLAYLQIFRKLWCRQIPGTSSVVQRKWKPLQPVSQPRGPGQPTKSRMSAVAAEIKQIRARRKTARMLMIVLLVFAICYLPISILNVLKRVFGMFAHTEDRETVYAWFTFSHWLVYANSAANPIIYNFLSGKFREEFKAAFSCCCLGVHHRQEDRLTRGRTSTESRKSLTTQISNFDNISKLSEQVVLTSISTLPAANGAGPLQNW\"], [1099, \"Q9Y5Y4\", \"Prostaglandin D2 receptor 2\", \"MSANATLKPLCPILEQMSRLQSHSNTSIRYIDHAAVLLHGLASLLGLVENGVILFVVGCRMRQTVVTTWVLHLALSDLLASASLPFFTYFLAVGHSWELGTTFCKLHSSIFFLNMFASGFLLSAISLDRCLQVVRPVWAQNHRTVAAAHKVCLVLWALAVLNTVPYFVFRDTISRLDGRIMCYYNVLLLNPGPDRDATCNSRQVALAVSKFLLAFLVPLAIIASSHAAVSLRLQHRGRRRPGRFVRLVAAVVAAFALCWGPYHVFSLLEARAHANPGLRPLVWRGLPFVTSLAFFNSVANPVLYVLTCPDMLRKLRRSLRTVLESVLVDDSELGGAGSSRRRRTSSTARSASPLALCSRPEEPRGPARLLGWLLGSCAASPQTGPLNRALSSTSS\"], [1082, \"O43613\", \"Orexin/Hypocretin receptor type 1\", \"MEPSATPGAQMGVPPGSREPSPVPPDYEDEFLRYLWRDYLYPKQYEWVLIAAYVAVFVVALVGNTLVCLAVWRNHHMRTVTNYFIVNLSLADVLVTAICLPASLLVDITESWLFGHALCKVIPYLQAVSVSVAVLTLSFIALDRWYAICHPLLFKSTARRARGSILGIWAVSLAIMVPQAAVMECSSVLPELANRTRLFSVCDERWADDLYPKIYHSCFFIVTYLAPLGLMAMAYFQIFRKLWGRQIPGTTSALVRNWKRPSDQLGDLEQGLSGEPQPRARAFLAEVKQMRARRKTAKMLMVVLLVFALCYLPISVLNVLKRVFGMFRQASDREAVYACFTFSHWLVYANSAANPIIYNFLSGKFREQFKAAFSCCLPGLGPCGSLKAPSPRSSASHKSLSLQSRCSISKISEHVVLTSVTTVLP\"], [1015, \"P07477\", \"Trypsin-1\", \"MNPLLILTFVAAALAAPFDDDDKIVGGYNCEENSVPYQVSLNSGYHFCGGSLINEQWVVSAGHCYKSRIQVRLGEHNIEVLEGNEQFINAAKIIRHPQYDRKTLNNDIMLIKLSSRAVINARVSTISLPTAPPATGTKCLISGWGNTASSGADYPDELQCLDAPVLSQAKCEASYPGKITSNMFCVGFLEGGKDSCQGDSGGPVVCNGQLQGVVSWGDGCAQKNKPGVYTKVYNYVKWIKNTIAANS\"], [889, \"P32305\", \"5-hydroxytryptamine receptor 7\", \"MMDVNSSGRPDLYGHLRSLILPEVGRGLQDLSPDGGAHPVVSSWMPHLLSGFLEVTASPAPTWDAPPDNVSGCGEQINYGRVEKVVIGSILTLITLLTIAGNCLVVISVCFVKKLRQPSNYLIVSLALADLSVAVAVMPFVSVTDLIGGKWIFGHFFCNVFIAMDVMCCTASIMTLCVISIDRYLGITRPLTYPVRQNGKCMAKMILSVWLLSASITLPPLFGWAQNVNDDKVCLISQDFGYTIYSTAVAFYIPMSVMLFMYYQIYKAARKSAAKHKFPGFPRVQPESVISLNGVVKLQKEVEECANLSRLLKHERKNISIFKREQKAATTLGIIVGAFTVCWLPFFLLSTARPFICGTSCSCIPLWVERTCLWLGYANSLINPFIYAFFNRDLRTTYRSLLQCQYRNINRKLSAAGMHEALKLAERPERSEFVLQNSDHCGKKGHDT\"], [844, \"Q9ULX7\", \"Carbonic anhydrase 14\", \"MLFSALLLEVIWILAADGGQHWTYEGPHGQDHWPASYPECGNNAQSPIDIQTDSVTFDPDLPALQPHGYDQPGTEPLDLHNNGHTVQLSLPSTLYLGGLPRKYVAAQLHLHWGQKGSPGGSEHQINSEATFAELHIVHYDSDSYDSLSEAAERPQGLAVLGILIEVGETKNIAYEHILSHLHEVRHKDQKTSVPPFNLRELLPKQLGQYFRYNGSLTTPPCYQSVLWTVFYRRSQISMEQLEKLQGTLFSTEEEPSKLLVQNYRALQPLNQRMVFASFIQAGSSYTTGEMLSLGVGILVGCLCLLLAVYFIARKIRKKRLENRKSVVFTSAQATTEA\"], [813, \"P56817\", \"Beta-secretase 1\", \"MAQALPWLLLWMGAGVLPAHGTQHGIRLPLRSGLGGAPLGLRLPRETDEEPEEPGRRGSFVEMVDNLRGKSGQGYYVEMTVGSPPQTLNILVDTGSSNFAVGAAPHPFLHRYYQRQLSSTYRDLRKGVYVPYTQGKWEGELGTDLVSIPHGPNVTVRANIAAITESDKFFINGSNWEGILGLAYAEIARPDDSLEPFFDSLVKQTHVPNLFSLQLCGAGFPLNQSEVLASVGGSMIIGGIDHSLYTGSLWYTPIRREWYYEVIIVRVEINGQDLKMDCKEYNYDKSIVDSGTTNLRLPKKVFEAAVKSIKAASSTEKFPDGFWLGEQLVCWQAGTTPWNIFPVISLYLMGEVTNQSFRITILPQQYLRPVEDVATSQDDCYKFAISQSSTGTVMGAVIMEGFYVVFDRARKRIGFAVSACHVHDEFRTAAVEGPFVTLDMEDCGYNIPQTDESTLMTIAYVMAAICALFMLPLCLMVCQWRCLRCLRQQHDDFADDISLLK\"], [780, \"P08173\", \"Muscarinic acetylcholine receptor M4\", \"MANFTPVNGSSGNQSVRLVTSSSHNRYETVEMVFIATVTGSLSLVTVVGNILVMLSIKVNRQLQTVNNYFLFSLACADLIIGAFSMNLYTVYIIKGYWPLGAVVCDLWLALDYVVSNASVMNLLIISFDRYFCVTKPLTYPARRTTKMAGLMIAAAWVLSFVLWAPAILFWQFVVGKRTVPDNQCFIQFLSNPAVTFGTAIAAFYLPVVIMTVLYIHISLASRSRVHKHRPEGPKEKKAKTLAFLKSPLMKQSVKKPPPGEAAREELRNGKLEEAPPPALPPPPRPVADKDTSNESSSGSATQNTKERPATELSTTEATTPAMPAPPLQPRALNPASRWSKIQIVTKQTGNECVTAIEIVPATPAGMRPAANVARKFASIARNQVRKKRQMAARERKVTRTIFAILLAFILTWTPYNVMVLVNTFCQSCIPDTVWSIGYWLCYVNSTINPACYALCNATFKKTFRHLLLCQYRNIGTAR\"], [776, \"P48039\", \"Melatonin receptor type 1A\", \"MQGNGSALPNASQPVLRGDGARPSWLASALACVLIFTIVVDILGNLLVILSVYRNKKLRNAGNIFVVSLAVADLVVAIYPYPLVLMSIFNNGWNLGYLHCQVSGFLMGLSVIGSIFNITGIAINRYCYICHSLKYDKLYSSKNSLCYVLLIWLLTLAAVLPNLRAGTLQYDPRIYSCTFAQSVSSAYTIAVVVFHFLVPMIIVIFCYLRIWILVLQVRQRVKPDRKPKLKPQDFRNFVTMFVVFVLFAICWAPLNFIGLAVASDPASMVPRIPEWLFVASYYMAYFNSCLNAIIYGLLNQNFRKEYRRIIVSLCTARVFFVDSSNDVADRVKWKPSPLMTNNNVVKVDSV\"], [765, \"P29371\", \"Neuromedin-K receptor\", \"MATLPAAETWIDGGGGVGADAVNLTASLAAGAATGAVETGWLQLLDQAGNLSSSPSALGLPVASPAPSQPWANLTNQFVQPSWRIALWSLAYGVVVAVAVLGNLIVIWIILAHKRMRTVTNYFLVNLAFSDASMAAFNTLVNFIYALHSEWYFGANYCRFQNFFPITAVFASIYSMTAIAVDRYMAIIDPLKPRLSATATKIVIGSIWILAFLLAFPQCLYSKTKVMPGRTLCFVQWPEGPKQHFTYHIIVIILVYCFPLLIMGITYTIVGITLWGGEIPGDTCDKYHEQLKAKRKVVKMMIIVVMTFAICWLPYHIYFILTAIYQQLNRWKYIQQVYLASFWLAMSSTMYNPIIYCCLNKRFRAGFKRAFRWCPFIKVSSYDELELKTTRFHPNRQSSMYTVTRMESMTVVFDPNDADTTRSSRKKRATPRDPSFNGCSRRNSKSASATSSFISSPYTSVDEYS\"], [728, \"P37288\", \"Vasopressin V1a receptor\", \"MRLSAGPDAGPSGNSSPWWPLATGAGNTSREAEALGEGNGPPRDVRNEELAKLEIAVLAVTFAVAVLGNSSVLLALHRTPRKTSRMHLFIRHLSLADLAVAFFQVLPQMCWDITYRFRGPDWLCRVVKHLQVFGMFASAYMLVVMTADRYIAVCHPLKTLQQPARRSRLMIAAAWVLSFVLSTPQYFVFSMIEVNNVTKARDCWATFIQPWGSRAYVTWMTGGIFVAPVVILGTCYGFICYNIWCNVRGKTASRQSKGAEQAGVAFQKGFLLAPCVSSVKSISRAKIRTVKMTFVIVTAYIVCWAPFFIIQMWSVWDPMSVWTESENPTITITALLGSLNSCCNPWIYMFFSGHLLQDCVQSFPCCQNMKEKFNKEDTDSMSRRQTFYSNNRSPTNSTGMWKDSPKSSKSIKFIPVST\"], [721, \"P23280\", \"Carbonic anhydrase 6\", \"MRALVLLLSLFLLGGQAQHVSDWTYSEGALDEAHWPQHYPACGGQRQSPINLQRTKVRYNPSLKGLNMTGYETQAGEFPMVNNGHTVQISLPSTMRMTVADGTVYIAQQMHFHWGGASSEISGSEHTVDGIRHVIEIHIVHYNSKYKSYDIAQDAPDGLAVLAAFVEVKNYPENTYYSNFISHLANIKYPGQRTTLTGLDVQDMLPRNLQHYYTYHGSLTTPPCTENVHWFVLADFVKLSRTQVWKLENSLLDHRNKTIHNDYRRTQPLNHRVVESNFPNQEYTLGSEFQFYLHKIEEILDYLRRALN\"], [702, \"P47900\", \"P2Y purinoceptor 1\", \"MTEVLWPAVPNGTDAAFLAGPGSSWGNSTVASTAAVSSSFKCALTKTGFQFYYLPAVYILVFIIGFLGNSVAIWMFVFHMKPWSGISVYMFNLALADFLYVLTLPALIFYYFNKTDWIFGDAMCKLQRFIFHVNLYGSILFLTCISAHRYSGVVYPLKSLGRLKKKNAICISVLVWLIVVVAISPILFYSGTGVRKNKTITCYDTTSDEYLRSYFIYSMCTTVAMFCVPLVLILGCYGLIVRALIYKDLDNSPLRRKSIYLVIIVLTVFAVSYIPFHVMKTMNLRARLDFQTPAMCAFNDRVYATYQVTRGLASLNSCVDPILYFLAGDTFRRRLSRATRKASRRSEANLQSKSEDMTLNILPEFKQNGDTSL\"]];\n",
       "\n",
       "    if (typeof require === 'undefined') {\n",
       "        // TODO: This should become the default (use a simple import)\n",
       "        // when the ESM version works independently of whether\n",
       "        // require.js is there or not, see\n",
       "        // https://datatables.net/forums/discussion/69066/esm-es6-module-support?\n",
       "        const {default: $} = await import(\"https://esm.sh/jquery@3.5.0\");\n",
       "        const {default: initDataTables} = await import(\"https://esm.sh/datatables.net@1.11.3?deps=jquery@3.5.0\");\n",
       "\n",
       "        initDataTables();\n",
       "\n",
       "        // Define the dt_args\n",
       "        let dt_args = {\"columnDefs\": [{\"width\": \"70px\", \"targets\": \"_all\"}], \"order\": []};\n",
       "        dt_args[\"data\"] = data;\n",
       "\n",
       "        // Display the table\n",
       "        $(document).ready(function () {\n",
       "            $('#b41f4862-eb2d-4bb9-88f5-277392b48bdb').DataTable(dt_args);\n",
       "        });\n",
       "    } else {\n",
       "        require([\"jquery\", \"datatables\"], ($, datatables) => {\n",
       "                // Define the dt_args\n",
       "                let dt_args = {\"columnDefs\": [{\"width\": \"70px\", \"targets\": \"_all\"}], \"order\": []};\n",
       "                dt_args[\"data\"] = data;\n",
       "\n",
       "                // Display the table\n",
       "                $(document).ready(function () {\n",
       "                    $('#b41f4862-eb2d-4bb9-88f5-277392b48bdb').DataTable(dt_args);\n",
       "                });\n",
       "            }\n",
       "        )\n",
       "    }\n",
       "</script>\n"
      ],
      "text/plain": [
       "<IPython.core.display.HTML object>"
      ]
     },
     "metadata": {},
     "output_type": "display_data"
    }
   ],
   "source": [
    "print_counter_stats_df(protein_stats)"
   ]
  },
  {
   "cell_type": "markdown",
   "id": "066aba8b",
   "metadata": {},
   "source": [
    "### Ligands\n",
    "\n",
    "Here are some statistics on the ligands present in BindingDB."
   ]
  },
  {
   "cell_type": "code",
   "execution_count": 14,
   "id": "2cfef09f",
   "metadata": {
    "tags": [
     "remove-input"
    ]
   },
   "outputs": [
    {
     "name": "stdout",
     "output_type": "stream",
     "text": [
      "Total number of entries: 99367\n",
      "Total number of unique entries: 57960\n",
      "Distribution of frequencies of individual entries, linear scale (left):\n",
      "Distribution of frequencies of individual entries, log scale (right):\n"
     ]
    },
    {
     "data": {
      "image/png": "[encoded data removed]",
      "text/plain": [
       "<Figure size 360x360 with 1 Axes>"
      ]
     },
     "metadata": {
      "filenames": {
       "image/png": "C:\\sw\\plb\\src\\notebooks\\dataset_overview\\_build\\jupyter_execute\\bindingdb-overview_27_1.png"
      },
      "needs_background": "light"
     },
     "output_type": "display_data"
    },
    {
     "data": {
      "image/png": "[encoded data removed]",
      "text/plain": [
       "<Figure size 360x360 with 1 Axes>"
      ]
     },
     "metadata": {
      "filenames": {
       "image/png": "C:\\sw\\plb\\src\\notebooks\\dataset_overview\\_build\\jupyter_execute\\bindingdb-overview_27_2.png"
      },
      "needs_background": "light"
     },
     "output_type": "display_data"
    }
   ],
   "source": [
    "ligand_stats = print_raw_ligand_smiles_stats(df_bdb)"
   ]
  },
  {
   "cell_type": "markdown",
   "id": "1d03ce43",
   "metadata": {},
   "source": [
    "The most commonly occurring entries are:"
   ]
  },
  {
   "cell_type": "code",
   "execution_count": 15,
   "id": "28359c7f",
   "metadata": {
    "tags": [
     "remove-input"
    ]
   },
   "outputs": [
    {
     "data": {
      "text/html": [
       "<table id=\"b23ccf21-e69e-4c8d-bb31-f36c88f8d446\" class=\"display nowrap\"style=\"max-width:100%\"><thead><th>number_of_occurrences</th><th>ligand_name</th><th>ligand_smiles</th></thead><tbody><tr><td>Loading... (need <a href=https://mwouts.github.io/itables/troubleshooting.html>help</a>?)</td></tr></tbody></table>\n",
       "<link rel=\"stylesheet\" type=\"text/css\" href=\"https://cdn.datatables.net/1.11.3/css/jquery.dataTables.min.css\">\n",
       "<style> table td {\n",
       "    text-overflow: ellipsis;\n",
       "    overflow: hidden;\n",
       "} </style>\n",
       "<style> table th {\n",
       "    text-overflow: ellipsis;\n",
       "    overflow: hidden;\n",
       "} </style>\n",
       "<script type=\"module\">\n",
       "    // Define the table data\n",
       "    const data = [[756, \"acetazolamide\", \"CC(=O)Nc1nnc(S(N)(=O)=O)s1\"], [164, \"\", \"CCN(CC)CCNC(=O)c1c(C)[nH]c(/C=C2\\\\C(=O)Nc3ccc(F)cc32)c1C\"], [162, \"6-ethoxy-1,3-benzothiazole-2-sulfonamide\", \"CCOc1ccc2nc(S(N)(=O)=O)sc2c1\"], [154, \"(2S,3S,4R,5R)-5-adenin-9-yl-N-ethyl-3,4-dihydroxy-tetrahydrofuran-2-carboxamide\", \"CCNC(=O)[C@H]1O[C@@H](n2cnc3c(N)ncnc32)[C@H](O)[C@@H]1O\"], [149, \"8-cyclopentyl-1,3-dipropyl-7H-purine-2,6-quinone\", \"CCCn1c(=O)c2[nH]c(C3CCCC3)nc2n(CCC)c1=O\"], [144, \"4,5-dichlorobenzene-1,3-disulfonamide\", \"NS(=O)(=O)c1cc(Cl)c(Cl)c(S(N)(=O)=O)c1\"], [133, \"sulfamic acid [(1R,2S,6S,9R)-4,4,11,11-tetramethyl-3,5,7,10,12-pentaoxatricyclo[7.3.0.02,6]dodecan-6-yl]methyl ester\", \"CC1(C)O[C@@H]2CO[C@@]3(COS(N)(=O)=O)OC(C)(C)O[C@H]3[C@@H]2O1\"], [111, \"\", \"Cc1[nH]c(/C=C2\\\\C(=O)Nc3ccc(F)cc32)c(C)c1C(=O)NC[C@H](O)CN1CCOCC1\"], [109, \"(4S,6S)-4-(ethylamino)-7,7-diketo-6-methyl-5,6-dihydro-4H-thieno[2,3-b]thiopyran-2-sulfonamide\", \"CCN[C@H]1C[C@H](C)S(=O)(=O)c2sc(S(N)(=O)=O)cc21\"], [103, \"N-cyclohexyl-4-(1H-imidazol-5-yl)piperidine-1-carbothioamide\", \"S=C(NC1CCCCC1)N1CCC(c2cnc[nH]2)CC1\"], [102, \"theophylline\", \"Cn1c(=O)c2[nH]cnc2n(C)c1=O\"], [99, \"(2R,3R,4S,5R)-2-[6-(cyclopentylamino)purin-9-yl]-5-methylol-tetrahydrofuran-3,4-diol\", \"OC[C@H]1O[C@@H](n2cnc3c(NC4CCCC4)ncnc32)[C@H](O)[C@@H]1O\"], [97, \"(15S,16S,18R)-16-hydroxy-15-methyl-16-methylol-28-oxa-4,14,19-triazaoctacyclo[12.11.2.115,18.02,6.07,27.08,13.019,26.020,25]octacosa-1,6,8,10,12,20,22,24,26-nonaen-3-one\", \"C[C@]12O[C@H](C[C@]1(O)CO)n1c3ccccc3c3c4c(c5c6ccccc6n2c5c31)CNC4=O\"], [96, \"(1S,15R,18S,19R,20S)-18-hydroxy-1,3,11,12,14,15,16,17,18,19,20,21-dodecahydroyohimban-19-carboxylic acid methyl ester\", \"COC(=O)[C@H]1[C@@H](O)CC[C@H]2CN3CCc4c([nH]c5ccccc45)[C@@H]3C[C@@H]21\"], [91, \"4-aminobenzenesulfonamide\", \"Nc1ccc(S(N)(=O)=O)cc1\"], [81, \"N-[2-(5-methoxy-1H-indol-3-yl)ethyl]acetamide\", \"COc1ccc2[nH]cc(CCNC(C)=O)c2c1\"], [79, \"3-chloro-6-(4-methylpiperazino)-11H-benzo[b][1,4]benzodiazepine\", \"CN1CCN(C2=c3ccccc3=Nc3ccc(Cl)cc3N2)CC1\"], [76, \"3-(2-aminoethyl)-1H-indol-5-ol\", \"NCCc1c[nH]c2ccc(O)cc12\"], [76, \"(2S,3R,4R,6R)-3-methoxy-2-methyl-4-(methylamino)-29-oxa-1,7,17-triazaoctacyclo[12.12.2.12,6.07,28.08,13.015,19.020,27.021,26]nonacosa-8,10,12,14,19,21,23,25,27-nonaen-16-one\", \"CN[C@@H]1C[C@H]2O[C@@](C)([C@@H]1OC)n1c3ccccc3c3c4c(c5c6ccccc6n2c5c31)C(=O)NC4\"], [75, \"indoxazen-3-ylmethanesulfonamide\", \"NS(=O)(=O)Cc1noc2ccccc12\"], [75, \"(5-chloro-1H-indol-2-yl)-(4-methylpiperazino)methanone\", \"CN1CCN(C(=O)c2cc3cc(Cl)ccc3[nH]2)CC1\"], [73, \"1-[4-[(4-ethylpiperazino)methyl]-3-(trifluoromethyl)phenyl]-3-[4-[6-(methylamino)pyrimidin-4-yl]oxyphenyl]urea\", \"CCN1CCN(Cc2ccc(NC(=O)Nc3ccc(Oc4cc(NC)ncn4)cc3)cc2C(F)(F)F)CC1\"], [73, \"caffeine\", \"Cn1c(=O)c2c(ncn2C)n(C)c1=O\"], [71, \"(4R)-4-(ethylamino)-1,1-diketo-2-(3-methoxypropyl)-3,4-dihydrothieno[3,2-e]thiazine-6-sulfonamide\", \"CCN[C@H]1CN(CCCOC)S(=O)(=O)c2sc(S(N)(=O)=O)cc21\"], [71, \"4-[4-(4-chlorophenyl)-4-hydroxy-piperidino]-1-(4-fluorophenyl)butan-1-one\", \"O=C(CCCN1CCC(O)(c2ccc(Cl)cc2)CC1)c1ccc(F)cc1\"], [70, \"N-[4-[[4-(4-methylpiperazino)-6-[(5-methyl-1H-pyrazol-3-yl)amino]pyrimidin-2-yl]thio]phenyl]cyclopropanecarboxamide\", \"Cc1cc(Nc2cc(N3CCN(C)CC3)nc(Sc3ccc(NC(=O)C4CC4)cc3)n2)[nH]n1\"], [69, \"[(11R)-2-methyl-11-(morpholinomethyl)-9-oxa-1-azatricyclo[6.3.1.04,12]dodeca-2,4(12),5,7-tetraen-3-yl]-(1-naphthyl)methanone\", \"Cc1c(C(=O)c2cccc3ccccc23)c2cccc3c2n1[C@H](CN1CCOCC1)CO3\"], [68, \"(2S,3S,4R,5R)-3,4-dihydroxy-5-[6-[(3-iodobenzyl)amino]purin-9-yl]-N-methyl-tetrahydrofuran-2-carboxamide\", \"CNC(=O)[C@H]1O[C@@H](n2cnc3c(NCc4cccc(I)c4)ncnc32)[C@H](O)[C@@H]1O\"], [67, \"(2S,3S,4R,5R)-5-[2-chloro-6-[(3-iodobenzyl)amino]purin-9-yl]-3,4-dihydroxy-N-methyl-tetrahydrofuran-2-carboxamide\", \"CNC(=O)[C@H]1O[C@@H](n2cnc3c(NCc4cccc(I)c4)nc(Cl)nc32)[C@H](O)[C@@H]1O\"], [66, \"4-amino-5-fluoro-3-[6-(4-methylpiperazino)-1H-benzimidazol-2-yl]carbostyril\", \"CN1CCN(c2ccc3nc(-c4c(N)c5c(F)cccc5[nH]c4=O)[nH]c3c2)CC1\"]];\n",
       "\n",
       "    if (typeof require === 'undefined') {\n",
       "        // TODO: This should become the default (use a simple import)\n",
       "        // when the ESM version works independently of whether\n",
       "        // require.js is there or not, see\n",
       "        // https://datatables.net/forums/discussion/69066/esm-es6-module-support?\n",
       "        const {default: $} = await import(\"https://esm.sh/jquery@3.5.0\");\n",
       "        const {default: initDataTables} = await import(\"https://esm.sh/datatables.net@1.11.3?deps=jquery@3.5.0\");\n",
       "\n",
       "        initDataTables();\n",
       "\n",
       "        // Define the dt_args\n",
       "        let dt_args = {\"columnDefs\": [{\"width\": \"70px\", \"targets\": \"_all\"}], \"order\": []};\n",
       "        dt_args[\"data\"] = data;\n",
       "\n",
       "        // Display the table\n",
       "        $(document).ready(function () {\n",
       "            $('#b23ccf21-e69e-4c8d-bb31-f36c88f8d446').DataTable(dt_args);\n",
       "        });\n",
       "    } else {\n",
       "        require([\"jquery\", \"datatables\"], ($, datatables) => {\n",
       "                // Define the dt_args\n",
       "                let dt_args = {\"columnDefs\": [{\"width\": \"70px\", \"targets\": \"_all\"}], \"order\": []};\n",
       "                dt_args[\"data\"] = data;\n",
       "\n",
       "                // Display the table\n",
       "                $(document).ready(function () {\n",
       "                    $('#b23ccf21-e69e-4c8d-bb31-f36c88f8d446').DataTable(dt_args);\n",
       "                });\n",
       "            }\n",
       "        )\n",
       "    }\n",
       "</script>\n"
      ],
      "text/plain": [
       "<IPython.core.display.HTML object>"
      ]
     },
     "metadata": {},
     "output_type": "display_data"
    }
   ],
   "source": [
    "print_counter_stats_df(ligand_stats)"
   ]
  }
 ],
 "metadata": {
  "jupytext": {
   "cell_metadata_filter": "-all",
   "formats": "md:myst",
   "text_representation": {
    "extension": ".md",
    "format_name": "myst",
    "format_version": 0.13,
    "jupytext_version": "1.11.5"
   }
  },
  "kernelspec": {
   "display_name": "Python 3",
   "language": "python",
   "name": "python3"
  },
  "language_info": {
   "codemirror_mode": {
    "name": "ipython",
    "version": 3
   },
   "file_extension": ".py",
   "mimetype": "text/x-python",
   "name": "python",
   "nbconvert_exporter": "python",
   "pygments_lexer": "ipython3",
   "version": "3.9.7"
  },
  "source_map": [
   14,
   21,
   24,
   27,
   30,
   33,
   48,
   51,
   62,
   65,
   69,
   77,
   81,
   86,
   94,
   97,
   99,
   115,
   134,
   150,
   153,
   173,
   175,
   180,
   183,
   186,
   189,
   194,
   197,
   200
  ]
 },
 "nbformat": 4,
 "nbformat_minor": 5
}